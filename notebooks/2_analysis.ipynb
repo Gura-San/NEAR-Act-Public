{
 "cells": [
  {
   "cell_type": "markdown",
   "metadata": {},
   "source": [
    "# NEAR Act Report on Felony Crime for 2016: analysis\n",
    "Having cleaned the source data in `1_data_cleaning`, we now perform our main analyses here. This is notebook 2 of 2.\n",
    "\n",
    "In `1_cleaning` we ended our cleaning process by de-identifying some records. This de-identification process removed all unique identifiers and left us with data sets which could be released to the public. These data sets are contained in the `public_output_data` directory here.\n",
    "\n",
    "However, some data sets could not be released to the public. The main data set with this requirement was the data coming from the Department of Behavioral Health as it contains protected health information. While the other data set, from the Superior Court, is public record, our data use agreement with them requires us not to redisclose the aggregate data that they provided. These data sets live in the `not_public_output_data` folder on our machines."
   ]
  },
  {
   "cell_type": "code",
   "execution_count": 1,
   "metadata": {
    "collapsed": true
   },
   "outputs": [],
   "source": [
    "import geopandas as gpd\n",
    "import json\n",
    "import os\n",
    "import sys\n",
    "\n",
    "import numpy as np\n",
    "import pandas as pd\n",
    "from matplotlib import pyplot as plt\n",
    "\n",
    "from geopandas import GeoDataFrame\n",
    "from shapely.geometry import Point\n",
    "\n",
    "%matplotlib inline"
   ]
  },
  {
   "cell_type": "code",
   "execution_count": 2,
   "metadata": {
    "collapsed": true
   },
   "outputs": [],
   "source": [
    "# Set up directories \n",
    "\n",
    "RAWDATA_DIR = os.path.join('..', 'data', 'rawdata')\n",
    "PUBLIC_OUTPUT_DATA = os.path.join('..', 'data', 'public_output_data')\n",
    "NOT_PUBLIC_OUTPUT_DATA = os.path.join('..', 'data', 'not_public_output_data')"
   ]
  },
  {
   "cell_type": "code",
   "execution_count": 3,
   "metadata": {
    "collapsed": true
   },
   "outputs": [],
   "source": [
    "# Read in data cleaned by '1_data_cleaning' notebook\n",
    "\n",
    "# MPD's updated felony arrest records, charge level (adds colums for CCN, lat, and longitude)\n",
    "arrest_charges = pd.read_csv(os.path.join(PUBLIC_OUTPUT_DATA, 'arrest_charges_anon.csv'))\n",
    "\n",
    "# MPD records of felony crime reports; each row is a victim or suspect data for an event; events identified by CCN\n",
    "crimes = pd.read_csv(os.path.join(PUBLIC_OUTPUT_DATA, 'crimes_anon.csv'))\n",
    "\n",
    "# Superior Court case records at the charge level\n",
    "case_charges = pd.read_csv(os.path.join(NOT_PUBLIC_OUTPUT_DATA, 'case_charges.csv'))\n",
    "\n",
    "# CIO reported incidents from DBH\n",
    "cio = pd.read_csv(os.path.join(NOT_PUBLIC_OUTPUT_DATA, 'cio_incidents.csv'))\n",
    "\n",
    "# Sentencing data from the DC Sentencing Commission\n",
    "sent = pd.read_csv(os.path.join(RAWDATA_DIR, '2016_Dataset_All_Felonies_Public_0.csv'))   \n",
    "\n",
    "# DBH records\n",
    "mh = pd.read_csv(os.path.join(NOT_PUBLIC_OUTPUT_DATA, 'mental_health_services.csv'))\n",
    "seh = pd.read_csv(os.path.join(NOT_PUBLIC_OUTPUT_DATA, 'saint_elizabeths_records.csv'))\n",
    "sud = pd.read_csv(os.path.join(NOT_PUBLIC_OUTPUT_DATA, 'substance_use_disorder_services.csv'))"
   ]
  },
  {
   "cell_type": "code",
   "execution_count": 4,
   "metadata": {
    "collapsed": true
   },
   "outputs": [],
   "source": [
    "# Name dataframes (used later in a loop)\n",
    "\n",
    "arrest_charges.name = 'MPD felony arrest charge records (2016)'\n",
    "case_charges.name = 'Superior Court case records (2016)'\n",
    "crimes.name = 'MPD felony crime incident records (2016)'\n",
    "cio.name = 'MPD crisis intervention incident records (2016)'\n",
    "mh.name = 'DBH mental health service records (2016)'\n",
    "seh.name = 'DBH Saint Elizabeths service records (2016)'\n",
    "sud.name = 'DBH substance use disorder treatment records (2016)'"
   ]
  },
  {
   "cell_type": "code",
   "execution_count": 5,
   "metadata": {},
   "outputs": [
    {
     "name": "stdout",
     "output_type": "stream",
     "text": [
      "Length of arrest_charges: 9274\n",
      "Unique MPD arrest numbers: 7339\n",
      "Top MPD arrest charges: Yes    7339\n",
      "Name: top_charge, dtype: int64\n"
     ]
    }
   ],
   "source": [
    "print('Length of arrest_charges:', len(arrest_charges))\n",
    "print('Unique MPD arrest numbers:', arrest_charges.mpd_arrest_number.nunique())\n",
    "print('Top MPD arrest charges:', arrest_charges.top_charge.value_counts())"
   ]
  },
  {
   "cell_type": "markdown",
   "metadata": {},
   "source": [
    "### Dates"
   ]
  },
  {
   "cell_type": "code",
   "execution_count": 6,
   "metadata": {
    "collapsed": true
   },
   "outputs": [],
   "source": [
    "arrest_charges['mpd_arrest_date'] = pd.to_datetime(arrest_charges['mpd_arrest_date'], format='%Y/%m/%d %H:%M')\n",
    "case_charges['file_date'] = pd.to_datetime(case_charges['file_date'], format='%Y/%m/%d %H:%M')\n",
    "case_charges['charge_disposition_date'] = pd.to_datetime(case_charges['charge_disposition_date'], format='%Y/%m/%d %H:%M')\n",
    "crimes['offense_report_date'] = pd.to_datetime(crimes['offense_report_date'], format='%Y/%m/%d %H:%M')\n",
    "cio['date'] = pd.to_datetime(cio['date'], format='%Y/%m/%d %H:%M')\n",
    "mh['mh_service_date'] = pd.to_datetime(mh['mh_service_date'], format='%Y/%m/%d %H:%M')\n",
    "sud['admit_date'] = pd.to_datetime(sud['admit_date'], format='%Y/%m/%d %H:%M')\n",
    "seh['admit_date'] = pd.to_datetime(seh['admit_date'], format='%Y/%m/%d %H:%M')"
   ]
  },
  {
   "cell_type": "markdown",
   "metadata": {},
   "source": [
    "### Basic descriptives"
   ]
  },
  {
   "cell_type": "code",
   "execution_count": 7,
   "metadata": {},
   "outputs": [
    {
     "name": "stdout",
     "output_type": "stream",
     "text": [
      "Number of felony crime incidents: 21043\n",
      "Number of felony arrests: 7339\n",
      "Number of felony arrest charges: 9274\n",
      "Number of people arrested: 6387\n",
      "Number of people in court cases: 9844\n",
      "Number of people in felony court cases: 3891\n",
      "\n",
      "Number of CIO incidents: 701\n",
      "Number of people transported (CIO): 646\n",
      "\n",
      "Number of case charges: 24170\n",
      "Number of cases: 13561\n",
      "Number of guilty charges: 6483\n",
      "Number of guilty cases: 5192\n",
      "Number of felony charges: 10950\n",
      "Number of felony cases: 4453\n",
      "Felony cases / Total cases: 0.3283681144458373\n",
      "Number of guilty felony charges: 3213\n",
      "Number of guilty felony cases: 2335\n",
      "Guilty felony cases / Total cases: 0.17218494211341345\n",
      "\n",
      "Time range:\n",
      "Felony crime incidents: 2016-01-01 to 2016-12-31\n",
      "Felony arrests: 2016-01-01 to 2016-12-31\n",
      "Felony cases filed: 2016-01-01 to 2016-12-31\n",
      "CIO incidents: 2016-01-01 to 2016-12-31\n"
     ]
    }
   ],
   "source": [
    "number_of_felony_crime_incidents = crimes.ccn.nunique()\n",
    "number_of_felony_arrests = arrest_charges.mpd_arrest_number.nunique()\n",
    "number_of_felony_arrest_charges = len(arrest_charges)\n",
    "number_of_people_arrested = arrest_charges.pdid.nunique()\n",
    "number_of_people_in_cases = case_charges.pdid.nunique()\n",
    "\n",
    "number_of_case_charges = len(case_charges)\n",
    "number_of_cases = case_charges['case_no'].nunique()\n",
    "fel_charges = case_charges[case_charges['is_felony']]\n",
    "number_of_felony_charges = len(fel_charges)\n",
    "number_of_felony_cases = fel_charges.case_no.nunique()\n",
    "number_of_people_in_felony_cases = fel_charges.pdid.nunique()\n",
    "\n",
    "guilty_charges = case_charges[case_charges['is_guilty']]\n",
    "number_of_guilty_charges = len(guilty_charges)\n",
    "number_of_guilty_cases = guilty_charges['case_no'].nunique()\n",
    "fel_charges_guilty = fel_charges[fel_charges['is_guilty']]\n",
    "number_of_guilty_felony_cases = fel_charges_guilty.case_no.nunique()\n",
    "number_of_guilty_charges = len(case_charges[case_charges['is_guilty']])\n",
    "number_of_guilty_felony_charges = len(fel_charges_guilty)\n",
    "number_of_cio_incidents = cio['incident_id'].nunique()\n",
    "number_of_cio_transports = cio['person_id'].nunique()\n",
    "\n",
    "print('Number of felony crime incidents:', number_of_felony_crime_incidents)\n",
    "print('Number of felony arrests:', number_of_felony_arrests)\n",
    "print('Number of felony arrest charges:', number_of_felony_arrest_charges)\n",
    "print('Number of people arrested:', number_of_people_arrested) \n",
    "print('Number of people in court cases:', number_of_people_in_cases)\n",
    "print('Number of people in felony court cases:', number_of_people_in_felony_cases)\n",
    "print()\n",
    "print('Number of CIO incidents:', number_of_cio_incidents)\n",
    "print('Number of people transported (CIO):', number_of_cio_transports)\n",
    "print()\n",
    "print('Number of case charges:', number_of_case_charges)\n",
    "print('Number of cases:', number_of_cases)\n",
    "print('Number of guilty charges:', number_of_guilty_charges)\n",
    "print('Number of guilty cases:', number_of_guilty_cases)\n",
    "print('Number of felony charges:', number_of_felony_charges)\n",
    "print('Number of felony cases:', number_of_felony_cases)\n",
    "print('Felony cases / Total cases:', int(number_of_felony_cases) / int(number_of_cases))\n",
    "print('Number of guilty felony charges:', number_of_guilty_felony_charges)\n",
    "print('Number of guilty felony cases:', number_of_guilty_felony_cases)\n",
    "print('Guilty felony cases / Total cases:', int(number_of_guilty_felony_cases) / int(number_of_cases))\n",
    "print()\n",
    "print('Time range:')\n",
    "print('Felony crime incidents:', crimes.offense_report_date.dt.date.min(), 'to', crimes.offense_report_date.dt.date.max())\n",
    "print('Felony arrests:', arrest_charges.mpd_arrest_date.dt.date.min(), 'to', arrest_charges.mpd_arrest_date.dt.date.max())\n",
    "print('Felony cases filed:', case_charges[(case_charges['is_felony'] == True)].file_date.dt.date.min(), 'to', case_charges[(case_charges['is_felony'] == True)].file_date.dt.date.max())\n",
    "print('CIO incidents:', cio['date'].dt.date.min(), 'to', cio['date'].dt.date.max())"
   ]
  },
  {
   "cell_type": "markdown",
   "metadata": {},
   "source": [
    "### Table 1. Felony Crime Incidents "
   ]
  },
  {
   "cell_type": "code",
   "execution_count": 8,
   "metadata": {},
   "outputs": [
    {
     "data": {
      "text/plain": [
       "Theft                          5143\n",
       "Assault                        3616\n",
       "Robbery                        2810\n",
       "Burglary                       2147\n",
       "Failure to appear              1319\n",
       "Fraud                          1208\n",
       "Weapons                        1153\n",
       "Drugs                          1045\n",
       "Property                        781\n",
       "Sex offense                     672\n",
       "Vehicle                         430\n",
       "Cruelty to children             150\n",
       "Homicide                        140\n",
       "Assault on a police officer      89\n",
       "Other                            80\n",
       "Prisoner escape                  70\n",
       "Obstruction of justice           70\n",
       "Contempt                         49\n",
       "Domestic violence                24\n",
       "Contraband in jail               14\n",
       "Trafficking stolen property      10\n",
       "Prostitution                     10\n",
       "Stalking                          6\n",
       "Conspiracy                        5\n",
       "Fleeing/resisting arrest          2\n",
       "Name: dmpsj_category, dtype: int64"
      ]
     },
     "execution_count": 8,
     "metadata": {},
     "output_type": "execute_result"
    }
   ],
   "source": [
    "crimes.sort_values(by=['ccn', 'offense_report_date'], ascending=[True, True])\\\n",
    "            .drop_duplicates('ccn', keep='last')\\\n",
    "            .dmpsj_category.value_counts(dropna=False)"
   ]
  },
  {
   "cell_type": "code",
   "execution_count": 9,
   "metadata": {},
   "outputs": [
    {
     "name": "stdout",
     "output_type": "stream",
     "text": [
      "Total crime incidents: 21043\n"
     ]
    }
   ],
   "source": [
    "print('Total crime incidents:', crimes.ccn.nunique())"
   ]
  },
  {
   "cell_type": "markdown",
   "metadata": {},
   "source": [
    "### Table 2"
   ]
  },
  {
   "cell_type": "code",
   "execution_count": 10,
   "metadata": {},
   "outputs": [
    {
     "name": "stdout",
     "output_type": "stream",
     "text": [
      "Failure to appear              1865\n",
      "Assault                        1725\n",
      "Weapons                        1682\n",
      "Drugs                          1398\n",
      "Robbery                         508\n",
      "Vehicle                         490\n",
      "Burglary                        290\n",
      "Sex offense                     196\n",
      "Theft                           188\n",
      "Property                        150\n",
      "Cruelty to children             109\n",
      "Fraud                           104\n",
      "Obstruction of justice          102\n",
      "Assault on a police officer      95\n",
      "Homicide                         92\n",
      "Prisoner escape                  67\n",
      "Trafficking stolen property      60\n",
      "Contempt                         52\n",
      "Other                            44\n",
      "Domestic violence                20\n",
      "Contraband in jail               14\n",
      "Prostitution                     10\n",
      "Conspiracy                        8\n",
      "Fleeing/resisting arrest          4\n",
      "Stalking                          1\n",
      "Name: dmpsj_category, dtype: int64\n",
      "Total arrest charges: 9274\n"
     ]
    }
   ],
   "source": [
    "# Table 2 Panel A. All felony arrest charges (each row is a charge in an arrest, multiple charges per arrest counted)\n",
    "\n",
    "print(arrest_charges['dmpsj_category'].value_counts(dropna=False))\n",
    "print('Total arrest charges:', len(arrest_charges))"
   ]
  },
  {
   "cell_type": "code",
   "execution_count": 11,
   "metadata": {
    "collapsed": true
   },
   "outputs": [],
   "source": [
    "# Table 2 Panel B. Top charge in felony arrests (only one charge counted per arrest)\n",
    "\n",
    "top_charges = arrest_charges.loc[arrest_charges['top_charge'] == 'Yes']\\\n",
    "        [['mpd_arrest_number', 'dmpsj_category', 'mpd_arrest_date', 'top_charge']].copy()\n",
    "top_charges.sort_values(by=['mpd_arrest_number', 'mpd_arrest_date', 'top_charge', 'dmpsj_category'], inplace=True)\n",
    "top_charge_counts = top_charges['dmpsj_category'].value_counts().sort_values(ascending=False)"
   ]
  },
  {
   "cell_type": "code",
   "execution_count": 12,
   "metadata": {},
   "outputs": [
    {
     "name": "stdout",
     "output_type": "stream",
     "text": [
      "Assault                        1647\n",
      "Failure to appear              1299\n",
      "Drugs                          1084\n",
      "Weapons                        1035\n",
      "Robbery                         487\n",
      "Vehicle                         434\n",
      "Burglary                        279\n",
      "Sex offense                     191\n",
      "Theft                           173\n",
      "Property                        106\n",
      "Cruelty to children              99\n",
      "Homicide                         92\n",
      "Fraud                            86\n",
      "Obstruction of justice           72\n",
      "Assault on a police officer      70\n",
      "Prisoner escape                  58\n",
      "Contempt                         43\n",
      "Other                            34\n",
      "Contraband in jail               11\n",
      "Trafficking stolen property      10\n",
      "Prostitution                     10\n",
      "Domestic violence                10\n",
      "Conspiracy                        6\n",
      "Fleeing/resisting arrest          2\n",
      "Stalking                          1\n",
      "Name: dmpsj_category, dtype: int64\n",
      "Total arrests/top charges: 7339\n"
     ]
    }
   ],
   "source": [
    "print(top_charge_counts)\n",
    "print('Total arrests/top charges:', len(top_charges))"
   ]
  },
  {
   "cell_type": "code",
   "execution_count": 13,
   "metadata": {},
   "outputs": [
    {
     "name": "stdout",
     "output_type": "stream",
     "text": [
      "Number of unique arrest numbers (source df): 7339\n",
      "Number of top charges (source df): 7339\n",
      "\n",
      "Number of top charges selected (top_charges): 7339\n",
      "Number of unique arrest numbers in top charges selected (top_charges): 7339\n"
     ]
    }
   ],
   "source": [
    "# Double checking things\n",
    "\n",
    "print('Number of unique arrest numbers (source df):', arrest_charges['mpd_arrest_number'].nunique())\n",
    "print('Number of top charges (source df):', len(arrest_charges.loc[arrest_charges['top_charge'] == 'Yes']))\n",
    "print()\n",
    "print('Number of top charges selected (top_charges):', len(top_charges))\n",
    "print('Number of unique arrest numbers in top charges selected (top_charges):', top_charges['mpd_arrest_number'].nunique())"
   ]
  },
  {
   "cell_type": "markdown",
   "metadata": {},
   "source": [
    "### Figure 2. Number of suspects and victims per crime incident\n",
    "(_Note: the figure in the report was made in R. The code below provides the underlying calculations_)"
   ]
  },
  {
   "cell_type": "code",
   "execution_count": 14,
   "metadata": {
    "collapsed": true
   },
   "outputs": [],
   "source": [
    "df = crimes.groupby(['ccn', 'profile_type', 'person_type']).size().to_frame('n').reset_index()\n",
    "df1 = df[df.profile_type == 'People'].pivot(index='ccn', columns='person_type', values='n')"
   ]
  },
  {
   "cell_type": "code",
   "execution_count": 15,
   "metadata": {
    "scrolled": true
   },
   "outputs": [
    {
     "name": "stdout",
     "output_type": "stream",
     "text": [
      "11713 incidients with one reported suspect and one reported victim\n",
      "2116 incidients with multiple reported suspects and one reported victim\n",
      "1143 incidients with one reported suspect and multiple reported victims\n",
      "444 incidients with multiple reported suspects and multiple reported victims\n"
     ]
    }
   ],
   "source": [
    "oneS_oneV = df1[(df1['SUSPECT IN OFFENSE'] == 1) & (df1['VICTIM IN OFFENSE'] == 1) ]\n",
    "multiS_oneV = df1[(df1['SUSPECT IN OFFENSE'] > 1) & (df1['VICTIM IN OFFENSE'] == 1) ]\n",
    "oneS_multiV = df1[(df1['SUSPECT IN OFFENSE'] == 1) & (df1['VICTIM IN OFFENSE'] > 1) ]\n",
    "multiS_multiV = df1[(df1['SUSPECT IN OFFENSE'] > 1) & (df1['VICTIM IN OFFENSE'] > 1) ]\n",
    "\n",
    "print(len(oneS_oneV), 'incidients with one reported suspect and one reported victim')\n",
    "print(len(multiS_oneV), 'incidients with multiple reported suspects and one reported victim')\n",
    "print(len(oneS_multiV), 'incidients with one reported suspect and multiple reported victims')\n",
    "print(len(multiS_multiV), 'incidients with multiple reported suspects and multiple reported victims')"
   ]
  },
  {
   "cell_type": "markdown",
   "metadata": {},
   "source": [
    "### Table 3. Location of arrests by Ward and District"
   ]
  },
  {
   "cell_type": "code",
   "execution_count": 16,
   "metadata": {
    "collapsed": true
   },
   "outputs": [],
   "source": [
    "dc_boundary = gpd.read_file(os.path.join(RAWDATA_DIR, 'DC_Quadrants.geojson'))\n",
    "wards_raw = gpd.read_file(os.path.join(RAWDATA_DIR, 'Ward_from_2012.geojson'))\n",
    "psa_raw = gpd.read_file(os.path.join(RAWDATA_DIR, 'Police_Service_Areas.geojson'))"
   ]
  },
  {
   "cell_type": "code",
   "execution_count": 17,
   "metadata": {
    "collapsed": true
   },
   "outputs": [],
   "source": [
    "arrest_lat_long = arrest_charges[['mpd_arrest_number', 'pdid', 'latitude', 'longitude']].copy()"
   ]
  },
  {
   "cell_type": "code",
   "execution_count": 18,
   "metadata": {},
   "outputs": [
    {
     "data": {
      "text/plain": [
       "9274"
      ]
     },
     "execution_count": 18,
     "metadata": {},
     "output_type": "execute_result"
    }
   ],
   "source": [
    "len(arrest_lat_long)"
   ]
  },
  {
   "cell_type": "code",
   "execution_count": 19,
   "metadata": {},
   "outputs": [
    {
     "data": {
      "text/plain": [
       "1935"
      ]
     },
     "execution_count": 19,
     "metadata": {},
     "output_type": "execute_result"
    }
   ],
   "source": [
    "arrest_lat_long.duplicated().sum()"
   ]
  },
  {
   "cell_type": "code",
   "execution_count": 20,
   "metadata": {
    "collapsed": true
   },
   "outputs": [],
   "source": [
    "arrest_lat_long.drop_duplicates(inplace=True)"
   ]
  },
  {
   "cell_type": "code",
   "execution_count": 21,
   "metadata": {},
   "outputs": [
    {
     "data": {
      "text/plain": [
       "7339"
      ]
     },
     "execution_count": 21,
     "metadata": {},
     "output_type": "execute_result"
    }
   ],
   "source": [
    "len(arrest_lat_long)"
   ]
  },
  {
   "cell_type": "code",
   "execution_count": 22,
   "metadata": {
    "collapsed": true
   },
   "outputs": [],
   "source": [
    "arrests_missing_lat = arrest_lat_long.latitude.isnull().sum()\n",
    "arrests_missing_lon = arrest_lat_long.longitude.isnull().sum()\n",
    "assert arrests_missing_lat == arrests_missing_lon"
   ]
  },
  {
   "cell_type": "code",
   "execution_count": 23,
   "metadata": {},
   "outputs": [
    {
     "name": "stdout",
     "output_type": "stream",
     "text": [
      "Length of arrests: 7339\n",
      "Arrest records missing lat/lon: 167\n"
     ]
    }
   ],
   "source": [
    "print('Length of arrests:', len(arrest_lat_long))\n",
    "print('Arrest records missing lat/lon:', arrests_missing_lat)"
   ]
  },
  {
   "cell_type": "code",
   "execution_count": 24,
   "metadata": {
    "collapsed": true
   },
   "outputs": [],
   "source": [
    "# Drop arrests with missing lat or long\n",
    "arrest_lat_long = arrest_lat_long.dropna(axis=0, subset=[['latitude', 'longitude']], thresh=1, how='all') "
   ]
  },
  {
   "cell_type": "code",
   "execution_count": 25,
   "metadata": {},
   "outputs": [
    {
     "name": "stdout",
     "output_type": "stream",
     "text": [
      "Length of arrests: 7172\n",
      "Arrest records now missing latitude: 0\n",
      "Arrest records now missing longitude: 0\n"
     ]
    }
   ],
   "source": [
    "print('Length of arrests:', len(arrest_lat_long))\n",
    "print('Arrest records now missing latitude:', arrest_lat_long['latitude'].isnull().sum())\n",
    "print('Arrest records now missing longitude:', arrest_lat_long['longitude'].isnull().sum())"
   ]
  },
  {
   "cell_type": "code",
   "execution_count": 26,
   "metadata": {
    "collapsed": true
   },
   "outputs": [],
   "source": [
    "# Turn arrest data into a geodataframe\n",
    "\n",
    "geometry = [Point(xy) for xy in zip(arrest_lat_long.longitude, arrest_lat_long.latitude)]\n",
    "crs = {'init': 'epsg:4326'}\n",
    "geo_arrests = GeoDataFrame(arrest_lat_long, crs=crs, geometry=geometry)"
   ]
  },
  {
   "cell_type": "code",
   "execution_count": 27,
   "metadata": {},
   "outputs": [
    {
     "data": {
      "text/plain": [
       "7172"
      ]
     },
     "execution_count": 27,
     "metadata": {},
     "output_type": "execute_result"
    }
   ],
   "source": [
    "len(geo_arrests)"
   ]
  },
  {
   "cell_type": "markdown",
   "metadata": {},
   "source": [
    "#### Note about the spatial joins that follow: \n",
    "\n",
    "It’s totally possible there’s some weirdness in the boundaries and that you actually lose more. Also, there is a nonzero chance that there are points on borders, which would cause a many to one mapping. You should probably check this."
   ]
  },
  {
   "cell_type": "code",
   "execution_count": 28,
   "metadata": {},
   "outputs": [
    {
     "name": "stdout",
     "output_type": "stream",
     "text": [
      "Length of arrests after spatial join: 7156\n",
      "16 cases with lat-long outside boundaries (PSA)\n",
      "16 cases with lat-long outside boundaries (ward)\n"
     ]
    }
   ],
   "source": [
    "# Join to PSA\n",
    "geo_arrests_psa = gpd.sjoin(geo_arrests, psa_raw, how='right', op='within')\n",
    "\n",
    "# Join to Ward\n",
    "geo_arrests_ward = gpd.sjoin(geo_arrests, wards_raw, how='right', op='within')\n",
    "\n",
    "print('Length of arrests after spatial join:', len(geo_arrests_psa.pdid))\n",
    "print(len(geo_arrests) - len(geo_arrests_psa), 'cases with lat-long outside boundaries (PSA)')\n",
    "print(len(geo_arrests)- len(geo_arrests_ward), 'cases with lat-long outside boundaries (ward)')"
   ]
  },
  {
   "cell_type": "markdown",
   "metadata": {},
   "source": [
    "#### Number of felony arrests by Ward"
   ]
  },
  {
   "cell_type": "code",
   "execution_count": 29,
   "metadata": {},
   "outputs": [
    {
     "name": "stdout",
     "output_type": "stream",
     "text": [
      "1     705\n",
      "2     801\n",
      "3     108\n",
      "4     469\n",
      "5    1410\n",
      "6     893\n",
      "7    1304\n",
      "8    1466\n",
      "Name: WARD, dtype: int64\n"
     ]
    }
   ],
   "source": [
    "print(geo_arrests_ward['WARD'].value_counts(dropna=False).sort_index())\n",
    "# Total unknown is 16 (from previous cell) + total nan's in this count."
   ]
  },
  {
   "cell_type": "code",
   "execution_count": 30,
   "metadata": {},
   "outputs": [
    {
     "name": "stdout",
     "output_type": "stream",
     "text": [
      "Unknown: 183\n"
     ]
    }
   ],
   "source": [
    "print('Unknown:', (len(geo_arrests) - len(geo_arrests_ward)) + arrests_missing_lon)"
   ]
  },
  {
   "cell_type": "markdown",
   "metadata": {},
   "source": [
    "#### Number of felony arrests by District"
   ]
  },
  {
   "cell_type": "code",
   "execution_count": 31,
   "metadata": {},
   "outputs": [
    {
     "data": {
      "text/plain": [
       "1    1187\n",
       "2     367\n",
       "3     748\n",
       "4     697\n",
       "5    1495\n",
       "6    1283\n",
       "7    1379\n",
       "Name: DISTRICT, dtype: int64"
      ]
     },
     "execution_count": 31,
     "metadata": {},
     "output_type": "execute_result"
    }
   ],
   "source": [
    "geo_arrests_psa['DISTRICT'].value_counts(dropna=False).sort_index()"
   ]
  },
  {
   "cell_type": "code",
   "execution_count": 32,
   "metadata": {},
   "outputs": [
    {
     "name": "stdout",
     "output_type": "stream",
     "text": [
      "Unknown: 183\n"
     ]
    }
   ],
   "source": [
    "print('Unknown:', (len(geo_arrests) - len(geo_arrests_psa)) + arrests_missing_lon)"
   ]
  },
  {
   "cell_type": "markdown",
   "metadata": {},
   "source": [
    "### Figure 3. Number of felony arrests per PSA in 2016\n"
   ]
  },
  {
   "cell_type": "code",
   "execution_count": 33,
   "metadata": {},
   "outputs": [
    {
     "data": {
      "text/plain": [
       "PSA\n",
       "101    116\n",
       "102    324\n",
       "103    146\n",
       "104     86\n",
       "105    233\n",
       "106     89\n",
       "107     63\n",
       "108    130\n",
       "201     10\n",
       "202     29\n",
       "203     14\n",
       "204     45\n",
       "205     14\n",
       "206     45\n",
       "207    113\n",
       "208     97\n",
       "301    109\n",
       "302    177\n",
       "303     85\n",
       "304     83\n",
       "305     99\n",
       "306     79\n",
       "307     46\n",
       "308     70\n",
       "401     32\n",
       "402     94\n",
       "403    101\n",
       "404     89\n",
       "405     93\n",
       "406     50\n",
       "407     99\n",
       "408     29\n",
       "409    110\n",
       "501    164\n",
       "502    157\n",
       "503    189\n",
       "504     72\n",
       "505    173\n",
       "506    377\n",
       "507    363\n",
       "601     86\n",
       "602    187\n",
       "603    263\n",
       "604    225\n",
       "605     76\n",
       "606     61\n",
       "607    119\n",
       "608    266\n",
       "701    156\n",
       "702    206\n",
       "703    181\n",
       "704    198\n",
       "705    131\n",
       "706    193\n",
       "707    142\n",
       "708    172\n",
       "dtype: int64"
      ]
     },
     "execution_count": 33,
     "metadata": {},
     "output_type": "execute_result"
    }
   ],
   "source": [
    "geo_arrests_psa.groupby('PSA').size()"
   ]
  },
  {
   "cell_type": "code",
   "execution_count": 34,
   "metadata": {
    "collapsed": true
   },
   "outputs": [],
   "source": [
    "arrests_by_psa = geo_arrests_psa.groupby('PSA').size().reset_index(name='N')"
   ]
  },
  {
   "cell_type": "code",
   "execution_count": 35,
   "metadata": {
    "collapsed": true
   },
   "outputs": [],
   "source": [
    "arrests_by_psa = pd.merge(psa_raw, arrests_by_psa, on='PSA')\n",
    "arrests_by_psa['coords'] = arrests_by_psa['geometry'].apply(lambda x: x.representative_point().coords[:])\n",
    "arrests_by_psa['coords'] = [coords[0] for coords in arrests_by_psa['coords']]"
   ]
  },
  {
   "cell_type": "code",
   "execution_count": 36,
   "metadata": {},
   "outputs": [
    {
     "data": {
      "image/png": "[encoded data removed]",
      "text/plain": [
       "<matplotlib.figure.Figure at 0x7f1c132fc1d0>"
      ]
     },
     "metadata": {},
     "output_type": "display_data"
    }
   ],
   "source": [
    "# Plot counts on map\n",
    "\n",
    "arrests_by_psa.plot(figsize = (10,10))\n",
    "for idx, row in arrests_by_psa.iterrows():\n",
    "    plt.annotate(s=row['N'], xy=row['coords'],\n",
    "                 horizontalalignment='center',\n",
    "                 size=11,\n",
    "                 color='white')\n",
    "plt.axis('off')\n",
    "plt.title('Number of felony arrests per PSA in 2016')\n",
    "plt.show()"
   ]
  },
  {
   "cell_type": "markdown",
   "metadata": {},
   "source": [
    "### Table 4. Characteristics of felony crime victims and people arrested on felony charges\n"
   ]
  },
  {
   "cell_type": "code",
   "execution_count": 37,
   "metadata": {
    "collapsed": true
   },
   "outputs": [],
   "source": [
    "# Subset victims\n",
    "victims = crimes[(crimes['profile_type'] == 'People') & (crimes['person_type'] == 'VICTIM IN OFFENSE')].copy()"
   ]
  },
  {
   "cell_type": "code",
   "execution_count": 38,
   "metadata": {},
   "outputs": [
    {
     "name": "stdout",
     "output_type": "stream",
     "text": [
      "Total victims: 17582\n",
      "Total arrestees (unique PDIDs): 6387\n"
     ]
    }
   ],
   "source": [
    "print('Total victims:', len(victims))\n",
    "print('Total arrestees (unique PDIDs):', arrest_charges.pdid.nunique())"
   ]
  },
  {
   "cell_type": "markdown",
   "metadata": {},
   "source": [
    "### Age"
   ]
  },
  {
   "cell_type": "code",
   "execution_count": 39,
   "metadata": {
    "collapsed": true
   },
   "outputs": [],
   "source": [
    "# Define age category function\n",
    "\n",
    "def age_groups(series):\n",
    "    if series < 18:\n",
    "        return '17-under yrs'\n",
    "    elif series < 25:\n",
    "        return '18-24 yrs'\n",
    "    elif series < 35:\n",
    "        return '25-34 yrs'\n",
    "    elif series < 45:\n",
    "        return '35-44 yrs'\n",
    "    elif series < 55:\n",
    "        return '45-54 yrs'\n",
    "    elif series < 65:\n",
    "        return '55-64 yrs'\n",
    "    elif not pd.isnull(series):\n",
    "        return '65+ yrs'\n",
    "    else:\n",
    "        return 'Unknown'"
   ]
  },
  {
   "cell_type": "code",
   "execution_count": 40,
   "metadata": {},
   "outputs": [
    {
     "data": {
      "text/html": [
       "<div>\n",
       "<table border=\"1\" class=\"dataframe\">\n",
       "  <thead>\n",
       "    <tr style=\"text-align: right;\">\n",
       "      <th>col_0</th>\n",
       "      <th>count</th>\n",
       "    </tr>\n",
       "    <tr>\n",
       "      <th>age_cat</th>\n",
       "      <th></th>\n",
       "    </tr>\n",
       "  </thead>\n",
       "  <tbody>\n",
       "    <tr>\n",
       "      <th>17-under yrs</th>\n",
       "      <td>1037</td>\n",
       "    </tr>\n",
       "    <tr>\n",
       "      <th>18-24 yrs</th>\n",
       "      <td>2770</td>\n",
       "    </tr>\n",
       "    <tr>\n",
       "      <th>25-34 yrs</th>\n",
       "      <td>5081</td>\n",
       "    </tr>\n",
       "    <tr>\n",
       "      <th>35-44 yrs</th>\n",
       "      <td>3222</td>\n",
       "    </tr>\n",
       "    <tr>\n",
       "      <th>45-54 yrs</th>\n",
       "      <td>2350</td>\n",
       "    </tr>\n",
       "    <tr>\n",
       "      <th>55-64 yrs</th>\n",
       "      <td>1570</td>\n",
       "    </tr>\n",
       "    <tr>\n",
       "      <th>65+ yrs</th>\n",
       "      <td>836</td>\n",
       "    </tr>\n",
       "    <tr>\n",
       "      <th>Unknown</th>\n",
       "      <td>716</td>\n",
       "    </tr>\n",
       "  </tbody>\n",
       "</table>\n",
       "</div>"
      ],
      "text/plain": [
       "col_0         count\n",
       "age_cat            \n",
       "17-under yrs   1037\n",
       "18-24 yrs      2770\n",
       "25-34 yrs      5081\n",
       "35-44 yrs      3222\n",
       "45-54 yrs      2350\n",
       "55-64 yrs      1570\n",
       "65+ yrs         836\n",
       "Unknown         716"
      ]
     },
     "execution_count": 40,
     "metadata": {},
     "output_type": "execute_result"
    }
   ],
   "source": [
    "# Victims age\n",
    "victim_age = victims['age'].to_frame().copy()\n",
    "victim_age['age'] = pd.to_numeric(victim_age['age'], errors='coerce')\n",
    "victim_age['age_cat'] = victim_age['age'].apply(age_groups)\n",
    "pd.crosstab(victim_age['age_cat'], columns='count')"
   ]
  },
  {
   "cell_type": "code",
   "execution_count": 41,
   "metadata": {
    "collapsed": true
   },
   "outputs": [],
   "source": [
    "# Arrange arrestees by home psa, then arrest date; drop duplicates by pid keeping most recent arrest\n",
    "\n",
    "'''\n",
    "Note: What's below is what we actually did for the published report; however, it doesn't actually\n",
    "keep the most recent arrest since we sorted first by home_psa instead of by arrest date. We're leaving this \n",
    "original approach in the code for posterity. Below, we re-do the sort with an updated approach that actually\n",
    "keeps the home_psa recorded at the most recent arrest. As you'll see below, while the exact numbers change,\n",
    "the difference isn't that large.\n",
    "'''\n",
    "\n",
    "# Original sort method\n",
    "arrestees = arrest_charges.sort_values(['home_psa', 'mpd_arrest_date'], ascending=[False, True])\\\n",
    "                          .drop_duplicates('pdid', keep='last')\n",
    "\n",
    "# New sort method (records retained in the drop are those recorded at most recent arrest)\n",
    "arrestees2 = arrest_charges.sort_values(['mpd_arrest_date', 'home_psa'], ascending=[True, False])\\\n",
    "                          .drop_duplicates('pdid', keep='last')"
   ]
  },
  {
   "cell_type": "code",
   "execution_count": 42,
   "metadata": {},
   "outputs": [
    {
     "data": {
      "text/plain": [
       "18-24 yrs    1936\n",
       "25-34 yrs    2000\n",
       "35-44 yrs    1097\n",
       "45-54 yrs     859\n",
       "55-64 yrs     424\n",
       "65+ yrs        71\n",
       "Name: age_cat, dtype: int64"
      ]
     },
     "execution_count": 42,
     "metadata": {},
     "output_type": "execute_result"
    }
   ],
   "source": [
    "# Arrestees age\n",
    "arrestees['age'] = pd.to_numeric(arrestees['age'])\n",
    "arrestees['age_cat'] = arrestees['age'].apply(age_groups)\n",
    "arrestees['age_cat'].value_counts(dropna=False).sort_index()"
   ]
  },
  {
   "cell_type": "code",
   "execution_count": 43,
   "metadata": {},
   "outputs": [
    {
     "data": {
      "text/plain": [
       "18-24 yrs    1937\n",
       "25-34 yrs    1996\n",
       "35-44 yrs    1098\n",
       "45-54 yrs     861\n",
       "55-64 yrs     424\n",
       "65+ yrs        71\n",
       "Name: age_cat, dtype: int64"
      ]
     },
     "execution_count": 43,
     "metadata": {},
     "output_type": "execute_result"
    }
   ],
   "source": [
    "# Arrestees age (updated counting by most recent arrest)\n",
    "arrestees2['age'] = pd.to_numeric(arrestees2['age'])\n",
    "arrestees2['age_cat'] = arrestees2['age'].apply(age_groups)\n",
    "arrestees2['age_cat'].value_counts(dropna=False).sort_index()"
   ]
  },
  {
   "cell_type": "markdown",
   "metadata": {},
   "source": [
    "###  Race"
   ]
  },
  {
   "cell_type": "code",
   "execution_count": 44,
   "metadata": {},
   "outputs": [
    {
     "data": {
      "text/plain": [
       "Black                                        10305\n",
       "White                                         5136\n",
       "Unknown                                       1565\n",
       "Asian                                          442\n",
       "Native Hawaiian Or Other Pacific Islander       79\n",
       "American Indian Or Alaska Native                55\n",
       "Name: race, dtype: int64"
      ]
     },
     "execution_count": 44,
     "metadata": {},
     "output_type": "execute_result"
    }
   ],
   "source": [
    "victims.race.value_counts(dropna=False)"
   ]
  },
  {
   "cell_type": "code",
   "execution_count": 45,
   "metadata": {},
   "outputs": [
    {
     "data": {
      "text/plain": [
       "Black                                        5776\n",
       "White                                         471\n",
       "Unknown                                       118\n",
       "Asian                                          14\n",
       "Native Hawaiian Or Other Pacific Islander       5\n",
       "American Indian Or Alaska Native                3\n",
       "Name: race, dtype: int64"
      ]
     },
     "execution_count": 45,
     "metadata": {},
     "output_type": "execute_result"
    }
   ],
   "source": [
    "# How we counted in the report\n",
    "arrestees.race.value_counts(dropna=False)"
   ]
  },
  {
   "cell_type": "code",
   "execution_count": 46,
   "metadata": {},
   "outputs": [
    {
     "data": {
      "text/plain": [
       "Black                                        5777\n",
       "White                                         472\n",
       "Unknown                                       116\n",
       "Asian                                          14\n",
       "Native Hawaiian Or Other Pacific Islander       5\n",
       "American Indian Or Alaska Native                3\n",
       "Name: race, dtype: int64"
      ]
     },
     "execution_count": 46,
     "metadata": {},
     "output_type": "execute_result"
    }
   ],
   "source": [
    "# New counting method by most recent arrest\n",
    "arrestees2.race.value_counts(dropna=False)"
   ]
  },
  {
   "cell_type": "markdown",
   "metadata": {},
   "source": [
    "###  Ethncity"
   ]
  },
  {
   "cell_type": "code",
   "execution_count": 47,
   "metadata": {},
   "outputs": [
    {
     "data": {
      "text/plain": [
       "Not Hispanic Or Latino    10070\n",
       "Unknown                    5911\n",
       "Hispanic Or Latino         1601\n",
       "Name: ethnicity, dtype: int64"
      ]
     },
     "execution_count": 47,
     "metadata": {},
     "output_type": "execute_result"
    }
   ],
   "source": [
    "victims.ethnicity.value_counts(dropna=False)"
   ]
  },
  {
   "cell_type": "code",
   "execution_count": 48,
   "metadata": {},
   "outputs": [
    {
     "data": {
      "text/plain": [
       "Not Hispanic Or Latino    3891\n",
       "Unknown                   2195\n",
       "Hispanic Or Latino         301\n",
       "Name: ethnicity, dtype: int64"
      ]
     },
     "execution_count": 48,
     "metadata": {},
     "output_type": "execute_result"
    }
   ],
   "source": [
    "# Counting method in published report\n",
    "arrestees.ethnicity.value_counts(dropna=False)"
   ]
  },
  {
   "cell_type": "code",
   "execution_count": 49,
   "metadata": {},
   "outputs": [
    {
     "data": {
      "text/plain": [
       "Not Hispanic Or Latino    3892\n",
       "Unknown                   2193\n",
       "Hispanic Or Latino         302\n",
       "Name: ethnicity, dtype: int64"
      ]
     },
     "execution_count": 49,
     "metadata": {},
     "output_type": "execute_result"
    }
   ],
   "source": [
    "# Updated counting method using most recent arrest\n",
    "arrestees2.ethnicity.value_counts(dropna=False)"
   ]
  },
  {
   "cell_type": "markdown",
   "metadata": {},
   "source": [
    "### Gender"
   ]
  },
  {
   "cell_type": "code",
   "execution_count": 50,
   "metadata": {},
   "outputs": [
    {
     "data": {
      "text/plain": [
       "Male       5249\n",
       "Female     1135\n",
       "Unknown       3\n",
       "Name: sex, dtype: int64"
      ]
     },
     "execution_count": 50,
     "metadata": {},
     "output_type": "execute_result"
    }
   ],
   "source": [
    "# Published report\n",
    "arrestees.sex.value_counts(dropna=False)"
   ]
  },
  {
   "cell_type": "code",
   "execution_count": 51,
   "metadata": {},
   "outputs": [
    {
     "data": {
      "text/plain": [
       "Male       5250\n",
       "Female     1134\n",
       "Unknown       3\n",
       "Name: sex, dtype: int64"
      ]
     },
     "execution_count": 51,
     "metadata": {},
     "output_type": "execute_result"
    }
   ],
   "source": [
    "# Updated counting method\n",
    "arrestees2.sex.value_counts(dropna=False) # One PDID was counted as male and female"
   ]
  },
  {
   "cell_type": "code",
   "execution_count": 52,
   "metadata": {},
   "outputs": [
    {
     "data": {
      "text/plain": [
       "Male       10273\n",
       "Female      7159\n",
       "Unknown      150\n",
       "Name: sex, dtype: int64"
      ]
     },
     "execution_count": 52,
     "metadata": {},
     "output_type": "execute_result"
    }
   ],
   "source": [
    "victims.sex.value_counts(dropna=False)"
   ]
  },
  {
   "cell_type": "markdown",
   "metadata": {},
   "source": [
    "###  Prior Arrests"
   ]
  },
  {
   "cell_type": "code",
   "execution_count": 53,
   "metadata": {},
   "outputs": [
    {
     "name": "stdout",
     "output_type": "stream",
     "text": [
      "1068 arrestees had no prior arrest\n",
      "704 arrestees had one prior arrest\n",
      "4615 arrestees had multiple prior arrest\n"
     ]
    }
   ],
   "source": [
    "print(sum(arrestees.arrest_count == 0), 'arrestees had no prior arrest')\n",
    "print(sum(arrestees.arrest_count == 1), 'arrestees had one prior arrest')\n",
    "print(sum(arrestees.arrest_count > 1), 'arrestees had multiple prior arrest')"
   ]
  },
  {
   "cell_type": "code",
   "execution_count": 54,
   "metadata": {},
   "outputs": [
    {
     "name": "stdout",
     "output_type": "stream",
     "text": [
      "1068 arrestees had no prior arrest\n",
      "704 arrestees had one prior arrest\n",
      "4615 arrestees had multiple prior arrest\n"
     ]
    }
   ],
   "source": [
    "print(sum(arrestees2.arrest_count == 0), 'arrestees had no prior arrest')\n",
    "print(sum(arrestees2.arrest_count == 1), 'arrestees had one prior arrest')\n",
    "print(sum(arrestees2.arrest_count > 1), 'arrestees had multiple prior arrest')"
   ]
  },
  {
   "cell_type": "markdown",
   "metadata": {},
   "source": [
    "### Table 5. Police district of residence of felony crime victims and arrestees"
   ]
  },
  {
   "cell_type": "markdown",
   "metadata": {},
   "source": [
    "#### Victims"
   ]
  },
  {
   "cell_type": "code",
   "execution_count": 55,
   "metadata": {},
   "outputs": [
    {
     "data": {
      "text/html": [
       "<div>\n",
       "<table border=\"1\" class=\"dataframe\">\n",
       "  <thead>\n",
       "    <tr style=\"text-align: right;\">\n",
       "      <th>col_0</th>\n",
       "      <th>count</th>\n",
       "    </tr>\n",
       "    <tr>\n",
       "      <th>home_psa</th>\n",
       "      <th></th>\n",
       "    </tr>\n",
       "  </thead>\n",
       "  <tbody>\n",
       "    <tr>\n",
       "      <th>1</th>\n",
       "      <td>1326</td>\n",
       "    </tr>\n",
       "    <tr>\n",
       "      <th>2</th>\n",
       "      <td>956</td>\n",
       "    </tr>\n",
       "    <tr>\n",
       "      <th>3</th>\n",
       "      <td>1460</td>\n",
       "    </tr>\n",
       "    <tr>\n",
       "      <th>4</th>\n",
       "      <td>1832</td>\n",
       "    </tr>\n",
       "    <tr>\n",
       "      <th>5</th>\n",
       "      <td>2023</td>\n",
       "    </tr>\n",
       "    <tr>\n",
       "      <th>6</th>\n",
       "      <td>2444</td>\n",
       "    </tr>\n",
       "    <tr>\n",
       "      <th>7</th>\n",
       "      <td>2086</td>\n",
       "    </tr>\n",
       "    <tr>\n",
       "      <th>O</th>\n",
       "      <td>3888</td>\n",
       "    </tr>\n",
       "    <tr>\n",
       "      <th>U</th>\n",
       "      <td>1567</td>\n",
       "    </tr>\n",
       "  </tbody>\n",
       "</table>\n",
       "</div>"
      ],
      "text/plain": [
       "col_0     count\n",
       "home_psa       \n",
       "1          1326\n",
       "2           956\n",
       "3          1460\n",
       "4          1832\n",
       "5          2023\n",
       "6          2444\n",
       "7          2086\n",
       "O          3888\n",
       "U          1567"
      ]
     },
     "execution_count": 55,
     "metadata": {},
     "output_type": "execute_result"
    }
   ],
   "source": [
    "# Note that the first digit of a PSA is the relevant police district.\n",
    "# O: Out of State\n",
    "# U: Unknown\n",
    "\n",
    "pd.crosstab(victims.home_psa.apply(lambda x: x.strip()[0]), columns='count')"
   ]
  },
  {
   "cell_type": "code",
   "execution_count": 56,
   "metadata": {},
   "outputs": [
    {
     "name": "stdout",
     "output_type": "stream",
     "text": [
      "Total: 17582\n"
     ]
    }
   ],
   "source": [
    "print('Total:', len(victims))"
   ]
  },
  {
   "cell_type": "markdown",
   "metadata": {},
   "source": [
    "#### Arrestees"
   ]
  },
  {
   "cell_type": "code",
   "execution_count": 57,
   "metadata": {},
   "outputs": [
    {
     "data": {
      "text/html": [
       "<div>\n",
       "<table border=\"1\" class=\"dataframe\">\n",
       "  <thead>\n",
       "    <tr style=\"text-align: right;\">\n",
       "      <th>col_0</th>\n",
       "      <th>count</th>\n",
       "    </tr>\n",
       "    <tr>\n",
       "      <th>home_psa</th>\n",
       "      <th></th>\n",
       "    </tr>\n",
       "  </thead>\n",
       "  <tbody>\n",
       "    <tr>\n",
       "      <th>1</th>\n",
       "      <td>503</td>\n",
       "    </tr>\n",
       "    <tr>\n",
       "      <th>2</th>\n",
       "      <td>86</td>\n",
       "    </tr>\n",
       "    <tr>\n",
       "      <th>3</th>\n",
       "      <td>388</td>\n",
       "    </tr>\n",
       "    <tr>\n",
       "      <th>4</th>\n",
       "      <td>565</td>\n",
       "    </tr>\n",
       "    <tr>\n",
       "      <th>5</th>\n",
       "      <td>933</td>\n",
       "    </tr>\n",
       "    <tr>\n",
       "      <th>6</th>\n",
       "      <td>1222</td>\n",
       "    </tr>\n",
       "    <tr>\n",
       "      <th>7</th>\n",
       "      <td>1338</td>\n",
       "    </tr>\n",
       "    <tr>\n",
       "      <th>O</th>\n",
       "      <td>809</td>\n",
       "    </tr>\n",
       "    <tr>\n",
       "      <th>U</th>\n",
       "      <td>543</td>\n",
       "    </tr>\n",
       "  </tbody>\n",
       "</table>\n",
       "</div>"
      ],
      "text/plain": [
       "col_0     count\n",
       "home_psa       \n",
       "1           503\n",
       "2            86\n",
       "3           388\n",
       "4           565\n",
       "5           933\n",
       "6          1222\n",
       "7          1338\n",
       "O           809\n",
       "U           543"
      ]
     },
     "execution_count": 57,
     "metadata": {},
     "output_type": "execute_result"
    }
   ],
   "source": [
    "# How we did it in the published report\n",
    "pd.crosstab(arrestees.home_psa.apply(lambda x: x.strip()[0]), columns='count')"
   ]
  },
  {
   "cell_type": "code",
   "execution_count": 58,
   "metadata": {},
   "outputs": [
    {
     "name": "stdout",
     "output_type": "stream",
     "text": [
      "Total: 6387\n"
     ]
    }
   ],
   "source": [
    "print('Total:', len(arrestees))"
   ]
  },
  {
   "cell_type": "code",
   "execution_count": 59,
   "metadata": {},
   "outputs": [
    {
     "data": {
      "text/html": [
       "<div>\n",
       "<table border=\"1\" class=\"dataframe\">\n",
       "  <thead>\n",
       "    <tr style=\"text-align: right;\">\n",
       "      <th>col_0</th>\n",
       "      <th>count</th>\n",
       "    </tr>\n",
       "    <tr>\n",
       "      <th>home_psa</th>\n",
       "      <th></th>\n",
       "    </tr>\n",
       "  </thead>\n",
       "  <tbody>\n",
       "    <tr>\n",
       "      <th>1</th>\n",
       "      <td>492</td>\n",
       "    </tr>\n",
       "    <tr>\n",
       "      <th>2</th>\n",
       "      <td>85</td>\n",
       "    </tr>\n",
       "    <tr>\n",
       "      <th>3</th>\n",
       "      <td>384</td>\n",
       "    </tr>\n",
       "    <tr>\n",
       "      <th>4</th>\n",
       "      <td>557</td>\n",
       "    </tr>\n",
       "    <tr>\n",
       "      <th>5</th>\n",
       "      <td>912</td>\n",
       "    </tr>\n",
       "    <tr>\n",
       "      <th>6</th>\n",
       "      <td>1213</td>\n",
       "    </tr>\n",
       "    <tr>\n",
       "      <th>7</th>\n",
       "      <td>1355</td>\n",
       "    </tr>\n",
       "    <tr>\n",
       "      <th>O</th>\n",
       "      <td>814</td>\n",
       "    </tr>\n",
       "    <tr>\n",
       "      <th>U</th>\n",
       "      <td>575</td>\n",
       "    </tr>\n",
       "  </tbody>\n",
       "</table>\n",
       "</div>"
      ],
      "text/plain": [
       "col_0     count\n",
       "home_psa       \n",
       "1           492\n",
       "2            85\n",
       "3           384\n",
       "4           557\n",
       "5           912\n",
       "6          1213\n",
       "7          1355\n",
       "O           814\n",
       "U           575"
      ]
     },
     "execution_count": 59,
     "metadata": {},
     "output_type": "execute_result"
    }
   ],
   "source": [
    "# New way\n",
    "pd.crosstab(arrestees2.home_psa.apply(lambda x: x.strip()[0]), columns='count')"
   ]
  },
  {
   "cell_type": "code",
   "execution_count": 60,
   "metadata": {},
   "outputs": [
    {
     "name": "stdout",
     "output_type": "stream",
     "text": [
      "Total: 6387\n"
     ]
    }
   ],
   "source": [
    "print('Total:', len(arrestees2))"
   ]
  },
  {
   "cell_type": "markdown",
   "metadata": {},
   "source": [
    "### Figure 4. PSA of residence of victims of and people arrested for felony crimes in 2016."
   ]
  },
  {
   "cell_type": "markdown",
   "metadata": {},
   "source": [
    "#### Panel A. Number of victims per psa"
   ]
  },
  {
   "cell_type": "code",
   "execution_count": 61,
   "metadata": {},
   "outputs": [
    {
     "data": {
      "text/html": [
       "<div>\n",
       "<table border=\"1\" class=\"dataframe\">\n",
       "  <thead>\n",
       "    <tr style=\"text-align: right;\">\n",
       "      <th>col_0</th>\n",
       "      <th>count</th>\n",
       "    </tr>\n",
       "    <tr>\n",
       "      <th>home_psa</th>\n",
       "      <th></th>\n",
       "    </tr>\n",
       "  </thead>\n",
       "  <tbody>\n",
       "    <tr>\n",
       "      <th>101</th>\n",
       "      <td>42</td>\n",
       "    </tr>\n",
       "    <tr>\n",
       "      <th>102</th>\n",
       "      <td>97</td>\n",
       "    </tr>\n",
       "    <tr>\n",
       "      <th>103</th>\n",
       "      <td>150</td>\n",
       "    </tr>\n",
       "    <tr>\n",
       "      <th>104</th>\n",
       "      <td>252</td>\n",
       "    </tr>\n",
       "    <tr>\n",
       "      <th>105</th>\n",
       "      <td>197</td>\n",
       "    </tr>\n",
       "    <tr>\n",
       "      <th>106</th>\n",
       "      <td>167</td>\n",
       "    </tr>\n",
       "    <tr>\n",
       "      <th>107</th>\n",
       "      <td>197</td>\n",
       "    </tr>\n",
       "    <tr>\n",
       "      <th>108</th>\n",
       "      <td>224</td>\n",
       "    </tr>\n",
       "    <tr>\n",
       "      <th>201</th>\n",
       "      <td>135</td>\n",
       "    </tr>\n",
       "    <tr>\n",
       "      <th>202</th>\n",
       "      <td>91</td>\n",
       "    </tr>\n",
       "    <tr>\n",
       "      <th>203</th>\n",
       "      <td>83</td>\n",
       "    </tr>\n",
       "    <tr>\n",
       "      <th>204</th>\n",
       "      <td>162</td>\n",
       "    </tr>\n",
       "    <tr>\n",
       "      <th>205</th>\n",
       "      <td>108</td>\n",
       "    </tr>\n",
       "    <tr>\n",
       "      <th>206</th>\n",
       "      <td>124</td>\n",
       "    </tr>\n",
       "    <tr>\n",
       "      <th>207</th>\n",
       "      <td>114</td>\n",
       "    </tr>\n",
       "    <tr>\n",
       "      <th>208</th>\n",
       "      <td>139</td>\n",
       "    </tr>\n",
       "    <tr>\n",
       "      <th>301</th>\n",
       "      <td>149</td>\n",
       "    </tr>\n",
       "    <tr>\n",
       "      <th>302</th>\n",
       "      <td>258</td>\n",
       "    </tr>\n",
       "    <tr>\n",
       "      <th>303</th>\n",
       "      <td>244</td>\n",
       "    </tr>\n",
       "    <tr>\n",
       "      <th>304</th>\n",
       "      <td>223</td>\n",
       "    </tr>\n",
       "    <tr>\n",
       "      <th>305</th>\n",
       "      <td>103</td>\n",
       "    </tr>\n",
       "    <tr>\n",
       "      <th>306</th>\n",
       "      <td>130</td>\n",
       "    </tr>\n",
       "    <tr>\n",
       "      <th>307</th>\n",
       "      <td>170</td>\n",
       "    </tr>\n",
       "    <tr>\n",
       "      <th>308</th>\n",
       "      <td>183</td>\n",
       "    </tr>\n",
       "    <tr>\n",
       "      <th>401</th>\n",
       "      <td>160</td>\n",
       "    </tr>\n",
       "    <tr>\n",
       "      <th>402</th>\n",
       "      <td>248</td>\n",
       "    </tr>\n",
       "    <tr>\n",
       "      <th>403</th>\n",
       "      <td>265</td>\n",
       "    </tr>\n",
       "    <tr>\n",
       "      <th>404</th>\n",
       "      <td>241</td>\n",
       "    </tr>\n",
       "    <tr>\n",
       "      <th>405</th>\n",
       "      <td>255</td>\n",
       "    </tr>\n",
       "    <tr>\n",
       "      <th>406</th>\n",
       "      <td>124</td>\n",
       "    </tr>\n",
       "    <tr>\n",
       "      <th>407</th>\n",
       "      <td>215</td>\n",
       "    </tr>\n",
       "    <tr>\n",
       "      <th>408</th>\n",
       "      <td>131</td>\n",
       "    </tr>\n",
       "    <tr>\n",
       "      <th>409</th>\n",
       "      <td>193</td>\n",
       "    </tr>\n",
       "    <tr>\n",
       "      <th>501</th>\n",
       "      <td>326</td>\n",
       "    </tr>\n",
       "    <tr>\n",
       "      <th>502</th>\n",
       "      <td>346</td>\n",
       "    </tr>\n",
       "    <tr>\n",
       "      <th>503</th>\n",
       "      <td>226</td>\n",
       "    </tr>\n",
       "    <tr>\n",
       "      <th>504</th>\n",
       "      <td>204</td>\n",
       "    </tr>\n",
       "    <tr>\n",
       "      <th>505</th>\n",
       "      <td>151</td>\n",
       "    </tr>\n",
       "    <tr>\n",
       "      <th>506</th>\n",
       "      <td>377</td>\n",
       "    </tr>\n",
       "    <tr>\n",
       "      <th>507</th>\n",
       "      <td>393</td>\n",
       "    </tr>\n",
       "    <tr>\n",
       "      <th>601</th>\n",
       "      <td>184</td>\n",
       "    </tr>\n",
       "    <tr>\n",
       "      <th>602</th>\n",
       "      <td>387</td>\n",
       "    </tr>\n",
       "    <tr>\n",
       "      <th>603</th>\n",
       "      <td>526</td>\n",
       "    </tr>\n",
       "    <tr>\n",
       "      <th>604</th>\n",
       "      <td>468</td>\n",
       "    </tr>\n",
       "    <tr>\n",
       "      <th>605</th>\n",
       "      <td>220</td>\n",
       "    </tr>\n",
       "    <tr>\n",
       "      <th>606</th>\n",
       "      <td>130</td>\n",
       "    </tr>\n",
       "    <tr>\n",
       "      <th>607</th>\n",
       "      <td>212</td>\n",
       "    </tr>\n",
       "    <tr>\n",
       "      <th>608</th>\n",
       "      <td>317</td>\n",
       "    </tr>\n",
       "    <tr>\n",
       "      <th>701</th>\n",
       "      <td>289</td>\n",
       "    </tr>\n",
       "    <tr>\n",
       "      <th>702</th>\n",
       "      <td>228</td>\n",
       "    </tr>\n",
       "    <tr>\n",
       "      <th>703</th>\n",
       "      <td>287</td>\n",
       "    </tr>\n",
       "    <tr>\n",
       "      <th>704</th>\n",
       "      <td>340</td>\n",
       "    </tr>\n",
       "    <tr>\n",
       "      <th>705</th>\n",
       "      <td>177</td>\n",
       "    </tr>\n",
       "    <tr>\n",
       "      <th>706</th>\n",
       "      <td>294</td>\n",
       "    </tr>\n",
       "    <tr>\n",
       "      <th>707</th>\n",
       "      <td>220</td>\n",
       "    </tr>\n",
       "    <tr>\n",
       "      <th>708</th>\n",
       "      <td>251</td>\n",
       "    </tr>\n",
       "    <tr>\n",
       "      <th>Out of State</th>\n",
       "      <td>3888</td>\n",
       "    </tr>\n",
       "    <tr>\n",
       "      <th>Unknown</th>\n",
       "      <td>1567</td>\n",
       "    </tr>\n",
       "  </tbody>\n",
       "</table>\n",
       "</div>"
      ],
      "text/plain": [
       "col_0         count\n",
       "home_psa           \n",
       "101              42\n",
       "102              97\n",
       "103             150\n",
       "104             252\n",
       "105             197\n",
       "106             167\n",
       "107             197\n",
       "108             224\n",
       "201             135\n",
       "202              91\n",
       "203              83\n",
       "204             162\n",
       "205             108\n",
       "206             124\n",
       "207             114\n",
       "208             139\n",
       "301             149\n",
       "302             258\n",
       "303             244\n",
       "304             223\n",
       "305             103\n",
       "306             130\n",
       "307             170\n",
       "308             183\n",
       "401             160\n",
       "402             248\n",
       "403             265\n",
       "404             241\n",
       "405             255\n",
       "406             124\n",
       "407             215\n",
       "408             131\n",
       "409             193\n",
       "501             326\n",
       "502             346\n",
       "503             226\n",
       "504             204\n",
       "505             151\n",
       "506             377\n",
       "507             393\n",
       "601             184\n",
       "602             387\n",
       "603             526\n",
       "604             468\n",
       "605             220\n",
       "606             130\n",
       "607             212\n",
       "608             317\n",
       "701             289\n",
       "702             228\n",
       "703             287\n",
       "704             340\n",
       "705             177\n",
       "706             294\n",
       "707             220\n",
       "708             251\n",
       "Out of State   3888\n",
       "Unknown        1567"
      ]
     },
     "execution_count": 61,
     "metadata": {},
     "output_type": "execute_result"
    }
   ],
   "source": [
    "pd.crosstab(victims['home_psa'], columns='count')"
   ]
  },
  {
   "cell_type": "code",
   "execution_count": 62,
   "metadata": {},
   "outputs": [
    {
     "data": {
      "image/png": "[encoded data removed]",
      "text/plain": [
       "<matplotlib.figure.Figure at 0x7f1c1323b6a0>"
      ]
     },
     "metadata": {},
     "output_type": "display_data"
    }
   ],
   "source": [
    "def annotated_geoplot(df, figsize=(8, 8), colname='N'):\n",
    "    df = df.copy()\n",
    "    df['coords'] = df['geometry'].apply(lambda x: x.representative_point().coords[:][0])\n",
    "    df.plot(figsize=figsize)\n",
    "    for idx, row in df.iterrows():\n",
    "        plt.annotate(s=row[colname], xy=row['coords'],\n",
    "                     horizontalalignment='center',\n",
    "                     size=11,\n",
    "                     color='white')\n",
    "    plt.axis('off')\n",
    "\n",
    "# Panel A. Number of victims per PSA\n",
    "\n",
    "# Count of victims by PSA\n",
    "victims_by_psa = victims.groupby('home_psa').size().reset_index(name='N')\n",
    "\n",
    "# Change unknowns and out of state to nulls, make PSA numeric\n",
    "victims_by_psa['home_psa'] = pd.to_numeric(victims_by_psa['home_psa'], errors='coerce')\n",
    "\n",
    "# Merge with psa data frame\n",
    "geo_victims_by_psa = pd.merge(psa_raw, victims_by_psa, left_on='PSA', right_on='home_psa')\n",
    "\n",
    "annotated_geoplot(geo_victims_by_psa)"
   ]
  },
  {
   "cell_type": "markdown",
   "metadata": {},
   "source": [
    "#### Panel B. Number of arrestees per psa (Map from Paul)"
   ]
  },
  {
   "cell_type": "code",
   "execution_count": 63,
   "metadata": {},
   "outputs": [
    {
     "data": {
      "text/html": [
       "<div>\n",
       "<table border=\"1\" class=\"dataframe\">\n",
       "  <thead>\n",
       "    <tr style=\"text-align: right;\">\n",
       "      <th>col_0</th>\n",
       "      <th>count</th>\n",
       "    </tr>\n",
       "    <tr>\n",
       "      <th>home_psa</th>\n",
       "      <th></th>\n",
       "    </tr>\n",
       "  </thead>\n",
       "  <tbody>\n",
       "    <tr>\n",
       "      <th>101</th>\n",
       "      <td>42</td>\n",
       "    </tr>\n",
       "    <tr>\n",
       "      <th>102</th>\n",
       "      <td>32</td>\n",
       "    </tr>\n",
       "    <tr>\n",
       "      <th>103</th>\n",
       "      <td>131</td>\n",
       "    </tr>\n",
       "    <tr>\n",
       "      <th>104</th>\n",
       "      <td>65</td>\n",
       "    </tr>\n",
       "    <tr>\n",
       "      <th>105</th>\n",
       "      <td>93</td>\n",
       "    </tr>\n",
       "    <tr>\n",
       "      <th>106</th>\n",
       "      <td>44</td>\n",
       "    </tr>\n",
       "    <tr>\n",
       "      <th>107</th>\n",
       "      <td>14</td>\n",
       "    </tr>\n",
       "    <tr>\n",
       "      <th>108</th>\n",
       "      <td>82</td>\n",
       "    </tr>\n",
       "    <tr>\n",
       "      <th>201</th>\n",
       "      <td>7</td>\n",
       "    </tr>\n",
       "    <tr>\n",
       "      <th>202</th>\n",
       "      <td>13</td>\n",
       "    </tr>\n",
       "    <tr>\n",
       "      <th>203</th>\n",
       "      <td>8</td>\n",
       "    </tr>\n",
       "    <tr>\n",
       "      <th>204</th>\n",
       "      <td>17</td>\n",
       "    </tr>\n",
       "    <tr>\n",
       "      <th>205</th>\n",
       "      <td>6</td>\n",
       "    </tr>\n",
       "    <tr>\n",
       "      <th>206</th>\n",
       "      <td>5</td>\n",
       "    </tr>\n",
       "    <tr>\n",
       "      <th>207</th>\n",
       "      <td>16</td>\n",
       "    </tr>\n",
       "    <tr>\n",
       "      <th>208</th>\n",
       "      <td>14</td>\n",
       "    </tr>\n",
       "    <tr>\n",
       "      <th>301</th>\n",
       "      <td>18</td>\n",
       "    </tr>\n",
       "    <tr>\n",
       "      <th>302</th>\n",
       "      <td>109</td>\n",
       "    </tr>\n",
       "    <tr>\n",
       "      <th>303</th>\n",
       "      <td>24</td>\n",
       "    </tr>\n",
       "    <tr>\n",
       "      <th>304</th>\n",
       "      <td>87</td>\n",
       "    </tr>\n",
       "    <tr>\n",
       "      <th>305</th>\n",
       "      <td>32</td>\n",
       "    </tr>\n",
       "    <tr>\n",
       "      <th>306</th>\n",
       "      <td>47</td>\n",
       "    </tr>\n",
       "    <tr>\n",
       "      <th>307</th>\n",
       "      <td>29</td>\n",
       "    </tr>\n",
       "    <tr>\n",
       "      <th>308</th>\n",
       "      <td>42</td>\n",
       "    </tr>\n",
       "    <tr>\n",
       "      <th>401</th>\n",
       "      <td>29</td>\n",
       "    </tr>\n",
       "    <tr>\n",
       "      <th>402</th>\n",
       "      <td>74</td>\n",
       "    </tr>\n",
       "    <tr>\n",
       "      <th>403</th>\n",
       "      <td>97</td>\n",
       "    </tr>\n",
       "    <tr>\n",
       "      <th>404</th>\n",
       "      <td>53</td>\n",
       "    </tr>\n",
       "    <tr>\n",
       "      <th>405</th>\n",
       "      <td>90</td>\n",
       "    </tr>\n",
       "    <tr>\n",
       "      <th>406</th>\n",
       "      <td>55</td>\n",
       "    </tr>\n",
       "    <tr>\n",
       "      <th>407</th>\n",
       "      <td>79</td>\n",
       "    </tr>\n",
       "    <tr>\n",
       "      <th>408</th>\n",
       "      <td>22</td>\n",
       "    </tr>\n",
       "    <tr>\n",
       "      <th>409</th>\n",
       "      <td>66</td>\n",
       "    </tr>\n",
       "    <tr>\n",
       "      <th>501</th>\n",
       "      <td>113</td>\n",
       "    </tr>\n",
       "    <tr>\n",
       "      <th>502</th>\n",
       "      <td>131</td>\n",
       "    </tr>\n",
       "    <tr>\n",
       "      <th>503</th>\n",
       "      <td>71</td>\n",
       "    </tr>\n",
       "    <tr>\n",
       "      <th>504</th>\n",
       "      <td>91</td>\n",
       "    </tr>\n",
       "    <tr>\n",
       "      <th>505</th>\n",
       "      <td>129</td>\n",
       "    </tr>\n",
       "    <tr>\n",
       "      <th>506</th>\n",
       "      <td>192</td>\n",
       "    </tr>\n",
       "    <tr>\n",
       "      <th>507</th>\n",
       "      <td>206</td>\n",
       "    </tr>\n",
       "    <tr>\n",
       "      <th>601</th>\n",
       "      <td>129</td>\n",
       "    </tr>\n",
       "    <tr>\n",
       "      <th>602</th>\n",
       "      <td>166</td>\n",
       "    </tr>\n",
       "    <tr>\n",
       "      <th>603</th>\n",
       "      <td>282</td>\n",
       "    </tr>\n",
       "    <tr>\n",
       "      <th>604</th>\n",
       "      <td>245</td>\n",
       "    </tr>\n",
       "    <tr>\n",
       "      <th>605</th>\n",
       "      <td>94</td>\n",
       "    </tr>\n",
       "    <tr>\n",
       "      <th>606</th>\n",
       "      <td>48</td>\n",
       "    </tr>\n",
       "    <tr>\n",
       "      <th>607</th>\n",
       "      <td>115</td>\n",
       "    </tr>\n",
       "    <tr>\n",
       "      <th>608</th>\n",
       "      <td>143</td>\n",
       "    </tr>\n",
       "    <tr>\n",
       "      <th>701</th>\n",
       "      <td>170</td>\n",
       "    </tr>\n",
       "    <tr>\n",
       "      <th>702</th>\n",
       "      <td>146</td>\n",
       "    </tr>\n",
       "    <tr>\n",
       "      <th>703</th>\n",
       "      <td>206</td>\n",
       "    </tr>\n",
       "    <tr>\n",
       "      <th>704</th>\n",
       "      <td>208</td>\n",
       "    </tr>\n",
       "    <tr>\n",
       "      <th>705</th>\n",
       "      <td>115</td>\n",
       "    </tr>\n",
       "    <tr>\n",
       "      <th>706</th>\n",
       "      <td>181</td>\n",
       "    </tr>\n",
       "    <tr>\n",
       "      <th>707</th>\n",
       "      <td>130</td>\n",
       "    </tr>\n",
       "    <tr>\n",
       "      <th>708</th>\n",
       "      <td>182</td>\n",
       "    </tr>\n",
       "    <tr>\n",
       "      <th>OUT OF STATE</th>\n",
       "      <td>809</td>\n",
       "    </tr>\n",
       "    <tr>\n",
       "      <th>Unknown</th>\n",
       "      <td>543</td>\n",
       "    </tr>\n",
       "  </tbody>\n",
       "</table>\n",
       "</div>"
      ],
      "text/plain": [
       "col_0         count\n",
       "home_psa           \n",
       "101              42\n",
       "102              32\n",
       "103             131\n",
       "104              65\n",
       "105              93\n",
       "106              44\n",
       "107              14\n",
       "108              82\n",
       "201               7\n",
       "202              13\n",
       "203               8\n",
       "204              17\n",
       "205               6\n",
       "206               5\n",
       "207              16\n",
       "208              14\n",
       "301              18\n",
       "302             109\n",
       "303              24\n",
       "304              87\n",
       "305              32\n",
       "306              47\n",
       "307              29\n",
       "308              42\n",
       "401              29\n",
       "402              74\n",
       "403              97\n",
       "404              53\n",
       "405              90\n",
       "406              55\n",
       "407              79\n",
       "408              22\n",
       "409              66\n",
       "501             113\n",
       "502             131\n",
       "503              71\n",
       "504              91\n",
       "505             129\n",
       "506             192\n",
       "507             206\n",
       "601             129\n",
       "602             166\n",
       "603             282\n",
       "604             245\n",
       "605              94\n",
       "606              48\n",
       "607             115\n",
       "608             143\n",
       "701             170\n",
       "702             146\n",
       "703             206\n",
       "704             208\n",
       "705             115\n",
       "706             181\n",
       "707             130\n",
       "708             182\n",
       "OUT OF STATE    809\n",
       "Unknown         543"
      ]
     },
     "execution_count": 63,
     "metadata": {},
     "output_type": "execute_result"
    }
   ],
   "source": [
    "pd.crosstab(arrestees['home_psa'], columns='count')"
   ]
  },
  {
   "cell_type": "code",
   "execution_count": 64,
   "metadata": {},
   "outputs": [
    {
     "data": {
      "image/png": "[encoded data removed]",
      "text/plain": [
       "<matplotlib.figure.Figure at 0x7f1c132c3240>"
      ]
     },
     "metadata": {},
     "output_type": "display_data"
    }
   ],
   "source": [
    "# Create dataframe of arrestees by psa\n",
    "arrestees_by_psa = arrestees.groupby('home_psa').size().reset_index(name='N')\n",
    "\n",
    "# Remove unknowns, make PSA numeric\n",
    "arrestees_by_psa['home_psa'] = pd.to_numeric(arrestees_by_psa['home_psa'], errors='coerce')\n",
    "\n",
    "# Merge with psa data frame\n",
    "geo_arrestees_by_psa = pd.merge(psa_raw, arrestees_by_psa, left_on='PSA', right_on='home_psa')\n",
    "\n",
    "annotated_geoplot(geo_arrestees_by_psa)"
   ]
  },
  {
   "cell_type": "markdown",
   "metadata": {},
   "source": [
    "### Table 6. Number of people served by DBH in 2015 or 2016 and who were also arrested on felony charges in 2016. "
   ]
  },
  {
   "cell_type": "code",
   "execution_count": 65,
   "metadata": {},
   "outputs": [
    {
     "name": "stdout",
     "output_type": "stream",
     "text": [
      "People who received mental health services: 1382\n",
      "\n",
      "People who had an intake at Saint Elizabeths: 165\n",
      "\n",
      "People who received substance use disorder services: 560\n",
      "\n",
      "Total number of people served: 2107\n"
     ]
    }
   ],
   "source": [
    "# Get unique individuals in each data source and select person-invariant columns\n",
    "\n",
    "kept_cols = ['age', 'arrest_count', 'consumer_id', 'ethnicity', 'race', 'sex']\n",
    "\n",
    "mh_people = mh[kept_cols].drop_duplicates(['consumer_id', 'sex'])\n",
    "seh_people = seh[kept_cols].drop_duplicates(['consumer_id', 'sex'])\n",
    "sud_people = sud[kept_cols].drop_duplicates(['consumer_id', 'sex'])\n",
    "\n",
    "'''\n",
    "We only drop duplicates on consumer_id and sex (and don't sort on other columns) \n",
    "because we age will naturally vary within consumer_id (i.e. they get older over multiple visits)\n",
    "and ethnicity/race will vary too because its recorded differently (but we don't care about this here).\n",
    "Arrest count may naturally vary too, but we also don't care about this right now.\n",
    "'''\n",
    "\n",
    "mh_people.name = 'People who received mental health services'\n",
    "seh_people.name = 'People who had an intake at Saint Elizabeths'\n",
    "sud_people.name = 'People who received substance use disorder services'\n",
    "\n",
    "for df in mh_people, seh_people, sud_people:\n",
    "    print('{}: {}'.format(df.name, len(df)))\n",
    "    print()\n",
    "    \n",
    "print('Total number of people served:', len(mh_people) + len(seh_people) + len(sud_people))"
   ]
  },
  {
   "cell_type": "code",
   "execution_count": 66,
   "metadata": {},
   "outputs": [
    {
     "name": "stdout",
     "output_type": "stream",
     "text": [
      "Unique people served across the three DBH service lines (2016): 1625\n",
      "Fraction of unique people arrested for felony crimes who also received services from DBH: 0.2544230468138406\n"
     ]
    }
   ],
   "source": [
    "# Stack these dfs together and count unique consumer_ids\n",
    "\n",
    "num_unique_people = pd.concat([mh_people, seh_people, sud_people])['consumer_id'].nunique()\n",
    "\n",
    "print('Unique people served across the three DBH service lines (2016):', num_unique_people)\n",
    "print('Fraction of unique people arrested for felony crimes who also received services from DBH:',\n",
    "      num_unique_people/arrest_charges.pdid.nunique())"
   ]
  },
  {
   "cell_type": "markdown",
   "metadata": {},
   "source": [
    "### Figure 5. MPD crisis intervention incidents per week in 2016."
   ]
  },
  {
   "cell_type": "code",
   "execution_count": 67,
   "metadata": {},
   "outputs": [
    {
     "data": {
      "text/plain": [
       "<matplotlib.axes._subplots.AxesSubplot at 0x7f1c13325cc0>"
      ]
     },
     "execution_count": 67,
     "metadata": {},
     "output_type": "execute_result"
    },
    {
     "data": {
      "image/png": "[encoded data removed]",
      "text/plain": [
       "<matplotlib.figure.Figure at 0x7f1c12fec9e8>"
      ]
     },
     "metadata": {},
     "output_type": "display_data"
    }
   ],
   "source": [
    "cio.groupby(pd.Grouper(key='date', freq='W')).size().plot(label='MPD crisis intervention incidents')"
   ]
  },
  {
   "cell_type": "markdown",
   "metadata": {},
   "source": [
    "### Table 7. Felony and misdemeanor charges filed in DC Superior Court in 2016."
   ]
  },
  {
   "cell_type": "code",
   "execution_count": 68,
   "metadata": {
    "collapsed": true
   },
   "outputs": [],
   "source": [
    "'''\n",
    "This code creates the table frequencies used to generate the percentages in Table 7. The cell suppression policy of \n",
    "our data use agreement with the Superior Court stipulates that we do not display cells with values less than 20,\n",
    "so here we create the frequency table then replace values that are less than 20 with a string.\n",
    "'''\n",
    "\n",
    "disposition_crosstab = pd.crosstab(case_charges.dmpsj_category, case_charges.disposition_category, margins=True)\n",
    "disposition_crosstab.sort_values(by='All', ascending=False, inplace=True)\n",
    "disposition_crosstab = disposition_crosstab.applymap(lambda x: x if x >=20 else '<20')"
   ]
  },
  {
   "cell_type": "code",
   "execution_count": 69,
   "metadata": {},
   "outputs": [
    {
     "data": {
      "text/html": [
       "<div>\n",
       "<table border=\"1\" class=\"dataframe\">\n",
       "  <thead>\n",
       "    <tr style=\"text-align: right;\">\n",
       "      <th>disposition_category</th>\n",
       "      <th>deferred</th>\n",
       "      <th>dismissed</th>\n",
       "      <th>diverted</th>\n",
       "      <th>guilty</th>\n",
       "      <th>not_guilty</th>\n",
       "      <th>open</th>\n",
       "      <th>All</th>\n",
       "    </tr>\n",
       "    <tr>\n",
       "      <th>dmpsj_category</th>\n",
       "      <th></th>\n",
       "      <th></th>\n",
       "      <th></th>\n",
       "      <th></th>\n",
       "      <th></th>\n",
       "      <th></th>\n",
       "      <th></th>\n",
       "    </tr>\n",
       "  </thead>\n",
       "  <tbody>\n",
       "    <tr>\n",
       "      <th>All</th>\n",
       "      <td>804</td>\n",
       "      <td>10558</td>\n",
       "      <td>1774</td>\n",
       "      <td>6483</td>\n",
       "      <td>466</td>\n",
       "      <td>4085</td>\n",
       "      <td>24170</td>\n",
       "    </tr>\n",
       "    <tr>\n",
       "      <th>Assault</th>\n",
       "      <td>339</td>\n",
       "      <td>1972</td>\n",
       "      <td>507</td>\n",
       "      <td>1112</td>\n",
       "      <td>157</td>\n",
       "      <td>663</td>\n",
       "      <td>4750</td>\n",
       "    </tr>\n",
       "    <tr>\n",
       "      <th>Drugs</th>\n",
       "      <td>98</td>\n",
       "      <td>1801</td>\n",
       "      <td>183</td>\n",
       "      <td>1195</td>\n",
       "      <td>36</td>\n",
       "      <td>664</td>\n",
       "      <td>3977</td>\n",
       "    </tr>\n",
       "    <tr>\n",
       "      <th>Weapons</th>\n",
       "      <td>24</td>\n",
       "      <td>1830</td>\n",
       "      <td>53</td>\n",
       "      <td>779</td>\n",
       "      <td>112</td>\n",
       "      <td>1059</td>\n",
       "      <td>3857</td>\n",
       "    </tr>\n",
       "    <tr>\n",
       "      <th>Theft</th>\n",
       "      <td>105</td>\n",
       "      <td>891</td>\n",
       "      <td>379</td>\n",
       "      <td>807</td>\n",
       "      <td>&lt;20</td>\n",
       "      <td>277</td>\n",
       "      <td>2476</td>\n",
       "    </tr>\n",
       "    <tr>\n",
       "      <th>Unlawful entry</th>\n",
       "      <td>33</td>\n",
       "      <td>822</td>\n",
       "      <td>185</td>\n",
       "      <td>376</td>\n",
       "      <td>23</td>\n",
       "      <td>146</td>\n",
       "      <td>1585</td>\n",
       "    </tr>\n",
       "    <tr>\n",
       "      <th>Failure to appear</th>\n",
       "      <td>&lt;20</td>\n",
       "      <td>775</td>\n",
       "      <td>&lt;20</td>\n",
       "      <td>372</td>\n",
       "      <td>&lt;20</td>\n",
       "      <td>111</td>\n",
       "      <td>1284</td>\n",
       "    </tr>\n",
       "    <tr>\n",
       "      <th>Property</th>\n",
       "      <td>57</td>\n",
       "      <td>380</td>\n",
       "      <td>139</td>\n",
       "      <td>244</td>\n",
       "      <td>&lt;20</td>\n",
       "      <td>130</td>\n",
       "      <td>962</td>\n",
       "    </tr>\n",
       "    <tr>\n",
       "      <th>Assault on a police officer</th>\n",
       "      <td>65</td>\n",
       "      <td>317</td>\n",
       "      <td>95</td>\n",
       "      <td>220</td>\n",
       "      <td>33</td>\n",
       "      <td>73</td>\n",
       "      <td>803</td>\n",
       "    </tr>\n",
       "    <tr>\n",
       "      <th>Vehicle</th>\n",
       "      <td>&lt;20</td>\n",
       "      <td>388</td>\n",
       "      <td>25</td>\n",
       "      <td>142</td>\n",
       "      <td>&lt;20</td>\n",
       "      <td>121</td>\n",
       "      <td>693</td>\n",
       "    </tr>\n",
       "    <tr>\n",
       "      <th>Robbery</th>\n",
       "      <td>&lt;20</td>\n",
       "      <td>193</td>\n",
       "      <td>&lt;20</td>\n",
       "      <td>315</td>\n",
       "      <td>&lt;20</td>\n",
       "      <td>135</td>\n",
       "      <td>654</td>\n",
       "    </tr>\n",
       "    <tr>\n",
       "      <th>Sex offense</th>\n",
       "      <td>&lt;20</td>\n",
       "      <td>138</td>\n",
       "      <td>&lt;20</td>\n",
       "      <td>179</td>\n",
       "      <td>&lt;20</td>\n",
       "      <td>82</td>\n",
       "      <td>421</td>\n",
       "    </tr>\n",
       "    <tr>\n",
       "      <th>Release violations</th>\n",
       "      <td>&lt;20</td>\n",
       "      <td>172</td>\n",
       "      <td>&lt;20</td>\n",
       "      <td>129</td>\n",
       "      <td>&lt;20</td>\n",
       "      <td>21</td>\n",
       "      <td>338</td>\n",
       "    </tr>\n",
       "    <tr>\n",
       "      <th>Fraud</th>\n",
       "      <td>&lt;20</td>\n",
       "      <td>53</td>\n",
       "      <td>33</td>\n",
       "      <td>67</td>\n",
       "      <td>&lt;20</td>\n",
       "      <td>160</td>\n",
       "      <td>329</td>\n",
       "    </tr>\n",
       "    <tr>\n",
       "      <th>Trafficking stolen property</th>\n",
       "      <td>&lt;20</td>\n",
       "      <td>159</td>\n",
       "      <td>&lt;20</td>\n",
       "      <td>75</td>\n",
       "      <td>&lt;20</td>\n",
       "      <td>64</td>\n",
       "      <td>322</td>\n",
       "    </tr>\n",
       "    <tr>\n",
       "      <th>Burglary</th>\n",
       "      <td>&lt;20</td>\n",
       "      <td>78</td>\n",
       "      <td>&lt;20</td>\n",
       "      <td>134</td>\n",
       "      <td>&lt;20</td>\n",
       "      <td>41</td>\n",
       "      <td>258</td>\n",
       "    </tr>\n",
       "    <tr>\n",
       "      <th>Fleeing/resisting arrest</th>\n",
       "      <td>&lt;20</td>\n",
       "      <td>98</td>\n",
       "      <td>&lt;20</td>\n",
       "      <td>67</td>\n",
       "      <td>&lt;20</td>\n",
       "      <td>40</td>\n",
       "      <td>229</td>\n",
       "    </tr>\n",
       "    <tr>\n",
       "      <th>Prostitution</th>\n",
       "      <td>&lt;20</td>\n",
       "      <td>34</td>\n",
       "      <td>75</td>\n",
       "      <td>49</td>\n",
       "      <td>&lt;20</td>\n",
       "      <td>20</td>\n",
       "      <td>189</td>\n",
       "    </tr>\n",
       "    <tr>\n",
       "      <th>Homicide</th>\n",
       "      <td>&lt;20</td>\n",
       "      <td>&lt;20</td>\n",
       "      <td>&lt;20</td>\n",
       "      <td>31</td>\n",
       "      <td>&lt;20</td>\n",
       "      <td>100</td>\n",
       "      <td>144</td>\n",
       "    </tr>\n",
       "    <tr>\n",
       "      <th>Open container</th>\n",
       "      <td>&lt;20</td>\n",
       "      <td>93</td>\n",
       "      <td>&lt;20</td>\n",
       "      <td>&lt;20</td>\n",
       "      <td>&lt;20</td>\n",
       "      <td>&lt;20</td>\n",
       "      <td>132</td>\n",
       "    </tr>\n",
       "    <tr>\n",
       "      <th>Domestic violence</th>\n",
       "      <td>&lt;20</td>\n",
       "      <td>58</td>\n",
       "      <td>&lt;20</td>\n",
       "      <td>&lt;20</td>\n",
       "      <td>&lt;20</td>\n",
       "      <td>24</td>\n",
       "      <td>105</td>\n",
       "    </tr>\n",
       "    <tr>\n",
       "      <th>Prisoner escape</th>\n",
       "      <td>&lt;20</td>\n",
       "      <td>46</td>\n",
       "      <td>&lt;20</td>\n",
       "      <td>44</td>\n",
       "      <td>&lt;20</td>\n",
       "      <td>&lt;20</td>\n",
       "      <td>97</td>\n",
       "    </tr>\n",
       "    <tr>\n",
       "      <th>Disorderly conduct</th>\n",
       "      <td>&lt;20</td>\n",
       "      <td>38</td>\n",
       "      <td>&lt;20</td>\n",
       "      <td>&lt;20</td>\n",
       "      <td>&lt;20</td>\n",
       "      <td>&lt;20</td>\n",
       "      <td>79</td>\n",
       "    </tr>\n",
       "    <tr>\n",
       "      <th>Leaving after colliding</th>\n",
       "      <td>&lt;20</td>\n",
       "      <td>39</td>\n",
       "      <td>&lt;20</td>\n",
       "      <td>&lt;20</td>\n",
       "      <td>&lt;20</td>\n",
       "      <td>27</td>\n",
       "      <td>78</td>\n",
       "    </tr>\n",
       "    <tr>\n",
       "      <th>Contempt</th>\n",
       "      <td>&lt;20</td>\n",
       "      <td>46</td>\n",
       "      <td>&lt;20</td>\n",
       "      <td>27</td>\n",
       "      <td>&lt;20</td>\n",
       "      <td>&lt;20</td>\n",
       "      <td>75</td>\n",
       "    </tr>\n",
       "    <tr>\n",
       "      <th>Obstruction of justice</th>\n",
       "      <td>&lt;20</td>\n",
       "      <td>34</td>\n",
       "      <td>&lt;20</td>\n",
       "      <td>&lt;20</td>\n",
       "      <td>&lt;20</td>\n",
       "      <td>31</td>\n",
       "      <td>74</td>\n",
       "    </tr>\n",
       "    <tr>\n",
       "      <th>Other</th>\n",
       "      <td>&lt;20</td>\n",
       "      <td>33</td>\n",
       "      <td>&lt;20</td>\n",
       "      <td>&lt;20</td>\n",
       "      <td>&lt;20</td>\n",
       "      <td>&lt;20</td>\n",
       "      <td>71</td>\n",
       "    </tr>\n",
       "    <tr>\n",
       "      <th>Cruelty to children</th>\n",
       "      <td>&lt;20</td>\n",
       "      <td>&lt;20</td>\n",
       "      <td>&lt;20</td>\n",
       "      <td>&lt;20</td>\n",
       "      <td>&lt;20</td>\n",
       "      <td>&lt;20</td>\n",
       "      <td>42</td>\n",
       "    </tr>\n",
       "    <tr>\n",
       "      <th>Conspiracy</th>\n",
       "      <td>&lt;20</td>\n",
       "      <td>&lt;20</td>\n",
       "      <td>&lt;20</td>\n",
       "      <td>&lt;20</td>\n",
       "      <td>&lt;20</td>\n",
       "      <td>20</td>\n",
       "      <td>40</td>\n",
       "    </tr>\n",
       "    <tr>\n",
       "      <th>Failure to obey</th>\n",
       "      <td>&lt;20</td>\n",
       "      <td>&lt;20</td>\n",
       "      <td>&lt;20</td>\n",
       "      <td>&lt;20</td>\n",
       "      <td>&lt;20</td>\n",
       "      <td>&lt;20</td>\n",
       "      <td>22</td>\n",
       "    </tr>\n",
       "    <tr>\n",
       "      <th>Cruelty to animals</th>\n",
       "      <td>&lt;20</td>\n",
       "      <td>&lt;20</td>\n",
       "      <td>&lt;20</td>\n",
       "      <td>&lt;20</td>\n",
       "      <td>&lt;20</td>\n",
       "      <td>&lt;20</td>\n",
       "      <td>22</td>\n",
       "    </tr>\n",
       "    <tr>\n",
       "      <th>Stalking</th>\n",
       "      <td>&lt;20</td>\n",
       "      <td>&lt;20</td>\n",
       "      <td>&lt;20</td>\n",
       "      <td>&lt;20</td>\n",
       "      <td>&lt;20</td>\n",
       "      <td>&lt;20</td>\n",
       "      <td>&lt;20</td>\n",
       "    </tr>\n",
       "    <tr>\n",
       "      <th>Contraband in jail</th>\n",
       "      <td>&lt;20</td>\n",
       "      <td>&lt;20</td>\n",
       "      <td>&lt;20</td>\n",
       "      <td>&lt;20</td>\n",
       "      <td>&lt;20</td>\n",
       "      <td>&lt;20</td>\n",
       "      <td>&lt;20</td>\n",
       "    </tr>\n",
       "    <tr>\n",
       "      <th>Elections violation</th>\n",
       "      <td>&lt;20</td>\n",
       "      <td>&lt;20</td>\n",
       "      <td>&lt;20</td>\n",
       "      <td>&lt;20</td>\n",
       "      <td>&lt;20</td>\n",
       "      <td>&lt;20</td>\n",
       "      <td>&lt;20</td>\n",
       "    </tr>\n",
       "    <tr>\n",
       "      <th>Unlawful assembly</th>\n",
       "      <td>&lt;20</td>\n",
       "      <td>&lt;20</td>\n",
       "      <td>&lt;20</td>\n",
       "      <td>&lt;20</td>\n",
       "      <td>&lt;20</td>\n",
       "      <td>&lt;20</td>\n",
       "      <td>&lt;20</td>\n",
       "    </tr>\n",
       "    <tr>\n",
       "      <th>Licensing offense</th>\n",
       "      <td>&lt;20</td>\n",
       "      <td>&lt;20</td>\n",
       "      <td>&lt;20</td>\n",
       "      <td>&lt;20</td>\n",
       "      <td>&lt;20</td>\n",
       "      <td>&lt;20</td>\n",
       "      <td>&lt;20</td>\n",
       "    </tr>\n",
       "    <tr>\n",
       "      <th>Failure to pay metro fare</th>\n",
       "      <td>&lt;20</td>\n",
       "      <td>&lt;20</td>\n",
       "      <td>&lt;20</td>\n",
       "      <td>&lt;20</td>\n",
       "      <td>&lt;20</td>\n",
       "      <td>&lt;20</td>\n",
       "      <td>&lt;20</td>\n",
       "    </tr>\n",
       "  </tbody>\n",
       "</table>\n",
       "</div>"
      ],
      "text/plain": [
       "disposition_category        deferred dismissed diverted guilty not_guilty  \\\n",
       "dmpsj_category                                                              \n",
       "All                              804     10558     1774   6483        466   \n",
       "Assault                          339      1972      507   1112        157   \n",
       "Drugs                             98      1801      183   1195         36   \n",
       "Weapons                           24      1830       53    779        112   \n",
       "Theft                            105       891      379    807        <20   \n",
       "Unlawful entry                    33       822      185    376         23   \n",
       "Failure to appear                <20       775      <20    372        <20   \n",
       "Property                          57       380      139    244        <20   \n",
       "Assault on a police officer       65       317       95    220         33   \n",
       "Vehicle                          <20       388       25    142        <20   \n",
       "Robbery                          <20       193      <20    315        <20   \n",
       "Sex offense                      <20       138      <20    179        <20   \n",
       "Release violations               <20       172      <20    129        <20   \n",
       "Fraud                            <20        53       33     67        <20   \n",
       "Trafficking stolen property      <20       159      <20     75        <20   \n",
       "Burglary                         <20        78      <20    134        <20   \n",
       "Fleeing/resisting arrest         <20        98      <20     67        <20   \n",
       "Prostitution                     <20        34       75     49        <20   \n",
       "Homicide                         <20       <20      <20     31        <20   \n",
       "Open container                   <20        93      <20    <20        <20   \n",
       "Domestic violence                <20        58      <20    <20        <20   \n",
       "Prisoner escape                  <20        46      <20     44        <20   \n",
       "Disorderly conduct               <20        38      <20    <20        <20   \n",
       "Leaving after colliding          <20        39      <20    <20        <20   \n",
       "Contempt                         <20        46      <20     27        <20   \n",
       "Obstruction of justice           <20        34      <20    <20        <20   \n",
       "Other                            <20        33      <20    <20        <20   \n",
       "Cruelty to children              <20       <20      <20    <20        <20   \n",
       "Conspiracy                       <20       <20      <20    <20        <20   \n",
       "Failure to obey                  <20       <20      <20    <20        <20   \n",
       "Cruelty to animals               <20       <20      <20    <20        <20   \n",
       "Stalking                         <20       <20      <20    <20        <20   \n",
       "Contraband in jail               <20       <20      <20    <20        <20   \n",
       "Elections violation              <20       <20      <20    <20        <20   \n",
       "Unlawful assembly                <20       <20      <20    <20        <20   \n",
       "Licensing offense                <20       <20      <20    <20        <20   \n",
       "Failure to pay metro fare        <20       <20      <20    <20        <20   \n",
       "\n",
       "disposition_category         open    All  \n",
       "dmpsj_category                            \n",
       "All                          4085  24170  \n",
       "Assault                       663   4750  \n",
       "Drugs                         664   3977  \n",
       "Weapons                      1059   3857  \n",
       "Theft                         277   2476  \n",
       "Unlawful entry                146   1585  \n",
       "Failure to appear             111   1284  \n",
       "Property                      130    962  \n",
       "Assault on a police officer    73    803  \n",
       "Vehicle                       121    693  \n",
       "Robbery                       135    654  \n",
       "Sex offense                    82    421  \n",
       "Release violations             21    338  \n",
       "Fraud                         160    329  \n",
       "Trafficking stolen property    64    322  \n",
       "Burglary                       41    258  \n",
       "Fleeing/resisting arrest       40    229  \n",
       "Prostitution                   20    189  \n",
       "Homicide                      100    144  \n",
       "Open container                <20    132  \n",
       "Domestic violence              24    105  \n",
       "Prisoner escape               <20     97  \n",
       "Disorderly conduct            <20     79  \n",
       "Leaving after colliding        27     78  \n",
       "Contempt                      <20     75  \n",
       "Obstruction of justice         31     74  \n",
       "Other                         <20     71  \n",
       "Cruelty to children           <20     42  \n",
       "Conspiracy                     20     40  \n",
       "Failure to obey               <20     22  \n",
       "Cruelty to animals            <20     22  \n",
       "Stalking                      <20    <20  \n",
       "Contraband in jail            <20    <20  \n",
       "Elections violation           <20    <20  \n",
       "Unlawful assembly             <20    <20  \n",
       "Licensing offense             <20    <20  \n",
       "Failure to pay metro fare     <20    <20  "
      ]
     },
     "execution_count": 69,
     "metadata": {},
     "output_type": "execute_result"
    }
   ],
   "source": [
    "disposition_crosstab"
   ]
  },
  {
   "cell_type": "markdown",
   "metadata": {},
   "source": [
    "### Table 8. How convictions are reached."
   ]
  },
  {
   "cell_type": "code",
   "execution_count": 70,
   "metadata": {},
   "outputs": [
    {
     "data": {
      "text/html": [
       "<div>\n",
       "<table border=\"1\" class=\"dataframe\">\n",
       "  <thead>\n",
       "    <tr style=\"text-align: right;\">\n",
       "      <th>is_guilty</th>\n",
       "      <th>False</th>\n",
       "      <th>True</th>\n",
       "    </tr>\n",
       "    <tr>\n",
       "      <th>nuanced_disposition</th>\n",
       "      <th></th>\n",
       "      <th></th>\n",
       "    </tr>\n",
       "  </thead>\n",
       "  <tbody>\n",
       "    <tr>\n",
       "      <th>guilty by 904 plea</th>\n",
       "      <td>0</td>\n",
       "      <td>29</td>\n",
       "    </tr>\n",
       "    <tr>\n",
       "      <th>guilty by court trial</th>\n",
       "      <td>0</td>\n",
       "      <td>467</td>\n",
       "    </tr>\n",
       "    <tr>\n",
       "      <th>guilty by jury trial</th>\n",
       "      <td>0</td>\n",
       "      <td>227</td>\n",
       "    </tr>\n",
       "    <tr>\n",
       "      <th>guilty by plea</th>\n",
       "      <td>0</td>\n",
       "      <td>5760</td>\n",
       "    </tr>\n",
       "    <tr>\n",
       "      <th>guilty by plea but deferred</th>\n",
       "      <td>804</td>\n",
       "      <td>0</td>\n",
       "    </tr>\n",
       "    <tr>\n",
       "      <th>not guilty by acquittal</th>\n",
       "      <td>77</td>\n",
       "      <td>0</td>\n",
       "    </tr>\n",
       "    <tr>\n",
       "      <th>not guilty by court trial</th>\n",
       "      <td>201</td>\n",
       "      <td>0</td>\n",
       "    </tr>\n",
       "    <tr>\n",
       "      <th>not guilty by jury trial</th>\n",
       "      <td>188</td>\n",
       "      <td>0</td>\n",
       "    </tr>\n",
       "  </tbody>\n",
       "</table>\n",
       "</div>"
      ],
      "text/plain": [
       "is_guilty                    False  True \n",
       "nuanced_disposition                      \n",
       "guilty by 904 plea               0     29\n",
       "guilty by court trial            0    467\n",
       "guilty by jury trial             0    227\n",
       "guilty by plea                   0   5760\n",
       "guilty by plea but deferred    804      0\n",
       "not guilty by acquittal         77      0\n",
       "not guilty by court trial      201      0\n",
       "not guilty by jury trial       188      0"
      ]
     },
     "execution_count": 70,
     "metadata": {},
     "output_type": "execute_result"
    }
   ],
   "source": [
    "# how are convictions reached in court?\n",
    "pd.crosstab(case_charges.nuanced_disposition, case_charges.is_guilty)"
   ]
  },
  {
   "cell_type": "markdown",
   "metadata": {},
   "source": [
    "### Figure 7. Distribution of sentences to be served in months by offense type (2016)"
   ]
  },
  {
   "cell_type": "code",
   "execution_count": 71,
   "metadata": {},
   "outputs": [
    {
     "data": {
      "text/html": [
       "<div>\n",
       "<table border=\"1\" class=\"dataframe\">\n",
       "  <thead>\n",
       "    <tr style=\"text-align: right;\">\n",
       "      <th></th>\n",
       "      <th></th>\n",
       "      <th>Sentence_to_Serve_Months</th>\n",
       "    </tr>\n",
       "    <tr>\n",
       "      <th>Offense_Type</th>\n",
       "      <th></th>\n",
       "      <th></th>\n",
       "    </tr>\n",
       "  </thead>\n",
       "  <tbody>\n",
       "    <tr>\n",
       "      <th rowspan=\"8\" valign=\"top\">Drug</th>\n",
       "      <th>count</th>\n",
       "      <td>441.000000</td>\n",
       "    </tr>\n",
       "    <tr>\n",
       "      <th>mean</th>\n",
       "      <td>4.920635</td>\n",
       "    </tr>\n",
       "    <tr>\n",
       "      <th>std</th>\n",
       "      <td>9.414957</td>\n",
       "    </tr>\n",
       "    <tr>\n",
       "      <th>min</th>\n",
       "      <td>0.000000</td>\n",
       "    </tr>\n",
       "    <tr>\n",
       "      <th>25%</th>\n",
       "      <td>0.000000</td>\n",
       "    </tr>\n",
       "    <tr>\n",
       "      <th>50%</th>\n",
       "      <td>0.000000</td>\n",
       "    </tr>\n",
       "    <tr>\n",
       "      <th>75%</th>\n",
       "      <td>6.000000</td>\n",
       "    </tr>\n",
       "    <tr>\n",
       "      <th>max</th>\n",
       "      <td>66.000000</td>\n",
       "    </tr>\n",
       "    <tr>\n",
       "      <th rowspan=\"8\" valign=\"top\">Homicide</th>\n",
       "      <th>count</th>\n",
       "      <td>40.000000</td>\n",
       "    </tr>\n",
       "    <tr>\n",
       "      <th>mean</th>\n",
       "      <td>162.525000</td>\n",
       "    </tr>\n",
       "    <tr>\n",
       "      <th>std</th>\n",
       "      <td>91.691229</td>\n",
       "    </tr>\n",
       "    <tr>\n",
       "      <th>min</th>\n",
       "      <td>1.000000</td>\n",
       "    </tr>\n",
       "    <tr>\n",
       "      <th>25%</th>\n",
       "      <td>91.500000</td>\n",
       "    </tr>\n",
       "    <tr>\n",
       "      <th>50%</th>\n",
       "      <td>138.000000</td>\n",
       "    </tr>\n",
       "    <tr>\n",
       "      <th>75%</th>\n",
       "      <td>240.000000</td>\n",
       "    </tr>\n",
       "    <tr>\n",
       "      <th>max</th>\n",
       "      <td>420.000000</td>\n",
       "    </tr>\n",
       "    <tr>\n",
       "      <th rowspan=\"8\" valign=\"top\">Property</th>\n",
       "      <th>count</th>\n",
       "      <td>299.000000</td>\n",
       "    </tr>\n",
       "    <tr>\n",
       "      <th>mean</th>\n",
       "      <td>18.655518</td>\n",
       "    </tr>\n",
       "    <tr>\n",
       "      <th>std</th>\n",
       "      <td>25.983056</td>\n",
       "    </tr>\n",
       "    <tr>\n",
       "      <th>min</th>\n",
       "      <td>0.000000</td>\n",
       "    </tr>\n",
       "    <tr>\n",
       "      <th>25%</th>\n",
       "      <td>1.000000</td>\n",
       "    </tr>\n",
       "    <tr>\n",
       "      <th>50%</th>\n",
       "      <td>12.000000</td>\n",
       "    </tr>\n",
       "    <tr>\n",
       "      <th>75%</th>\n",
       "      <td>24.000000</td>\n",
       "    </tr>\n",
       "    <tr>\n",
       "      <th>max</th>\n",
       "      <td>180.000000</td>\n",
       "    </tr>\n",
       "    <tr>\n",
       "      <th rowspan=\"8\" valign=\"top\">Sex</th>\n",
       "      <th>count</th>\n",
       "      <td>69.000000</td>\n",
       "    </tr>\n",
       "    <tr>\n",
       "      <th>mean</th>\n",
       "      <td>78.275362</td>\n",
       "    </tr>\n",
       "    <tr>\n",
       "      <th>std</th>\n",
       "      <td>95.830562</td>\n",
       "    </tr>\n",
       "    <tr>\n",
       "      <th>min</th>\n",
       "      <td>0.000000</td>\n",
       "    </tr>\n",
       "    <tr>\n",
       "      <th>25%</th>\n",
       "      <td>14.000000</td>\n",
       "    </tr>\n",
       "    <tr>\n",
       "      <th>50%</th>\n",
       "      <td>40.000000</td>\n",
       "    </tr>\n",
       "    <tr>\n",
       "      <th>75%</th>\n",
       "      <td>108.000000</td>\n",
       "    </tr>\n",
       "    <tr>\n",
       "      <th>max</th>\n",
       "      <td>444.000000</td>\n",
       "    </tr>\n",
       "    <tr>\n",
       "      <th rowspan=\"8\" valign=\"top\">Violent</th>\n",
       "      <th>count</th>\n",
       "      <td>659.000000</td>\n",
       "    </tr>\n",
       "    <tr>\n",
       "      <th>mean</th>\n",
       "      <td>30.018209</td>\n",
       "    </tr>\n",
       "    <tr>\n",
       "      <th>std</th>\n",
       "      <td>35.885113</td>\n",
       "    </tr>\n",
       "    <tr>\n",
       "      <th>min</th>\n",
       "      <td>0.000000</td>\n",
       "    </tr>\n",
       "    <tr>\n",
       "      <th>25%</th>\n",
       "      <td>3.000000</td>\n",
       "    </tr>\n",
       "    <tr>\n",
       "      <th>50%</th>\n",
       "      <td>22.000000</td>\n",
       "    </tr>\n",
       "    <tr>\n",
       "      <th>75%</th>\n",
       "      <td>48.000000</td>\n",
       "    </tr>\n",
       "    <tr>\n",
       "      <th>max</th>\n",
       "      <td>192.000000</td>\n",
       "    </tr>\n",
       "    <tr>\n",
       "      <th rowspan=\"8\" valign=\"top\">Weapon</th>\n",
       "      <th>count</th>\n",
       "      <td>407.000000</td>\n",
       "    </tr>\n",
       "    <tr>\n",
       "      <th>mean</th>\n",
       "      <td>21.248157</td>\n",
       "    </tr>\n",
       "    <tr>\n",
       "      <th>std</th>\n",
       "      <td>23.444407</td>\n",
       "    </tr>\n",
       "    <tr>\n",
       "      <th>min</th>\n",
       "      <td>0.000000</td>\n",
       "    </tr>\n",
       "    <tr>\n",
       "      <th>25%</th>\n",
       "      <td>1.000000</td>\n",
       "    </tr>\n",
       "    <tr>\n",
       "      <th>50%</th>\n",
       "      <td>14.000000</td>\n",
       "    </tr>\n",
       "    <tr>\n",
       "      <th>75%</th>\n",
       "      <td>34.000000</td>\n",
       "    </tr>\n",
       "    <tr>\n",
       "      <th>max</th>\n",
       "      <td>108.000000</td>\n",
       "    </tr>\n",
       "  </tbody>\n",
       "</table>\n",
       "</div>"
      ],
      "text/plain": [
       "                    Sentence_to_Serve_Months\n",
       "Offense_Type                                \n",
       "Drug         count                441.000000\n",
       "             mean                   4.920635\n",
       "             std                    9.414957\n",
       "             min                    0.000000\n",
       "             25%                    0.000000\n",
       "             50%                    0.000000\n",
       "             75%                    6.000000\n",
       "             max                   66.000000\n",
       "Homicide     count                 40.000000\n",
       "             mean                 162.525000\n",
       "             std                   91.691229\n",
       "             min                    1.000000\n",
       "             25%                   91.500000\n",
       "             50%                  138.000000\n",
       "             75%                  240.000000\n",
       "             max                  420.000000\n",
       "Property     count                299.000000\n",
       "             mean                  18.655518\n",
       "             std                   25.983056\n",
       "             min                    0.000000\n",
       "             25%                    1.000000\n",
       "             50%                   12.000000\n",
       "             75%                   24.000000\n",
       "             max                  180.000000\n",
       "Sex          count                 69.000000\n",
       "             mean                  78.275362\n",
       "             std                   95.830562\n",
       "             min                    0.000000\n",
       "             25%                   14.000000\n",
       "             50%                   40.000000\n",
       "             75%                  108.000000\n",
       "             max                  444.000000\n",
       "Violent      count                659.000000\n",
       "             mean                  30.018209\n",
       "             std                   35.885113\n",
       "             min                    0.000000\n",
       "             25%                    3.000000\n",
       "             50%                   22.000000\n",
       "             75%                   48.000000\n",
       "             max                  192.000000\n",
       "Weapon       count                407.000000\n",
       "             mean                  21.248157\n",
       "             std                   23.444407\n",
       "             min                    0.000000\n",
       "             25%                    1.000000\n",
       "             50%                   14.000000\n",
       "             75%                   34.000000\n",
       "             max                  108.000000"
      ]
     },
     "execution_count": 71,
     "metadata": {},
     "output_type": "execute_result"
    }
   ],
   "source": [
    "# Subset sentencing data to 2016\n",
    "sent = sent[sent['Sentence_Year'] == 2016]\n",
    "\n",
    "# Remove Other cases\n",
    "sent = sent[sent['Offense_Type'] != 'Other']\n",
    "\n",
    "# Summarize data\n",
    "sent.groupby('Offense_Type').agg({'Sentence_to_Serve_Months': 'describe'})"
   ]
  },
  {
   "cell_type": "markdown",
   "metadata": {},
   "source": [
    "### Figure 8"
   ]
  },
  {
   "cell_type": "code",
   "execution_count": 72,
   "metadata": {},
   "outputs": [
    {
     "data": {
      "image/png": "[encoded data removed]",
      "text/plain": [
       "<matplotlib.figure.Figure at 0x7f1c12c50748>"
      ]
     },
     "metadata": {},
     "output_type": "display_data"
    }
   ],
   "source": [
    "# Number of felony crime incidents, arrests, cases, and guilty cases (felonies)\n",
    "\n",
    "frequency = 'W'\n",
    "\n",
    "crime_incidents = crimes\\\n",
    "                        .sort_values(by='offense_report_date', ascending=True)\\\n",
    "                        .drop_duplicates('ccn', keep='last')\\\n",
    "                        .groupby(pd.Grouper(key='offense_report_date', freq=frequency)).size()\n",
    "crime_incidents.plot(label='Reported felony crimes')\n",
    "\n",
    "arrests = arrest_charges\\\n",
    "                        .sort_values(by='mpd_arrest_date', ascending=True)\\\n",
    "                        .drop_duplicates('mpd_arrest_number', keep='last')\\\n",
    "                        .groupby(pd.Grouper(key='mpd_arrest_date', freq=frequency)).size()\n",
    "arrests.plot(label='Felony arrests')\n",
    "\n",
    "felony_cases = case_charges[case_charges.is_felony]\n",
    "felony_cases_freq = felony_cases.groupby('case_no')\\\n",
    "                                   .file_date.min()\\\n",
    "                                   .reset_index()\\\n",
    "                                   .groupby(pd.Grouper(key='file_date', freq=frequency)).size()\n",
    "felony_cases_freq.plot(label='Felony cases')\n",
    "\n",
    "guilty_felony_cases = felony_cases[felony_cases.is_guilty]\n",
    "guilty_felony_cases_freq = guilty_felony_cases.groupby('case_no')\\\n",
    "                                              .file_date.min()\\\n",
    "                                              .reset_index()\\\n",
    "                                              .groupby(pd.Grouper(key='file_date', freq=frequency)).size()\n",
    "guilty_felony_cases_freq.plot(label='Guilty felony cases')\n",
    "\n",
    "plt.xlabel('Date')\n",
    "plt.ylabel('Number')\n",
    "plt.ylim([0, 500])\n",
    "plt.legend(bbox_to_anchor=(1.03, 1.03));"
   ]
  },
  {
   "cell_type": "code",
   "execution_count": 73,
   "metadata": {},
   "outputs": [
    {
     "data": {
      "image/png": "[encoded data removed]",
      "text/plain": [
       "<matplotlib.figure.Figure at 0x7f1c12cee198>"
      ]
     },
     "metadata": {},
     "output_type": "display_data"
    }
   ],
   "source": [
    "# Histograms of sentence length by offense category\n",
    "\n",
    "sent.Sentence_to_Serve_Months.hist(by=sent['Offense_Type'], figsize=(14, 8), alpha=0.8);"
   ]
  }
 ],
 "metadata": {
  "kernelspec": {
   "display_name": "Python 3",
   "language": "python",
   "name": "python3"
  },
  "language_info": {
   "codemirror_mode": {
    "name": "ipython",
    "version": 3
   },
   "file_extension": ".py",
   "mimetype": "text/x-python",
   "name": "python",
   "nbconvert_exporter": "python",
   "pygments_lexer": "ipython3",
   "version": "3.6.3"
  }
 },
 "nbformat": 4,
 "nbformat_minor": 2
}
