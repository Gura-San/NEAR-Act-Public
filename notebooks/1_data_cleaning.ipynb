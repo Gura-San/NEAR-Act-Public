{
 "cells": [
  {
   "cell_type": "markdown",
   "metadata": {},
   "source": [
    "# NEAR Act Report on Felony Crime for 2016: data cleaning\n",
    "\n",
    "In this notebook, we transform the raw data that we got from the Metropolitan Police Department (MPD), the Superior Court, and the Department of Behavioral Health (DBH) into clean data for our analysis. This is notebook 1 of 2."
   ]
  },
  {
   "cell_type": "code",
   "execution_count": 1,
   "metadata": {
    "collapsed": true
   },
   "outputs": [],
   "source": [
    "import binascii\n",
    "import math\n",
    "import os\n",
    "import secrets\n",
    "import sys\n",
    "\n",
    "import numpy as np\n",
    "import pandas as pd\n",
    "from matplotlib import pyplot as plt\n",
    "\n",
    "%matplotlib inline"
   ]
  },
  {
   "cell_type": "code",
   "execution_count": 2,
   "metadata": {
    "collapsed": true
   },
   "outputs": [],
   "source": [
    "# Set working directories\n",
    "\n",
    "RAWDATA_DIR = os.path.join('..', 'data', 'rawdata')\n",
    "PUBLIC_OUTPUT_DATA = os.path.join('..', 'data', 'public_output_data')\n",
    "NOT_PUBLIC_OUTPUT_DATA = os.path.join('..', 'data', 'not_public_output_data')"
   ]
  },
  {
   "cell_type": "markdown",
   "metadata": {},
   "source": [
    "## Read in raw data"
   ]
  },
  {
   "cell_type": "code",
   "execution_count": 3,
   "metadata": {},
   "outputs": [
    {
     "name": "stderr",
     "output_type": "stream",
     "text": [
      "/opt/conda/lib/python3.6/site-packages/IPython/core/interactiveshell.py:2683: DtypeWarning: Columns (4,18,21,23,24,26,27,28,29,34,37) have mixed types. Specify dtype option on import or set low_memory=False.\n",
      "  interactivity=interactivity, compiler=compiler, result=result)\n"
     ]
    }
   ],
   "source": [
    "### Metropolitan Police Department (MPD) ###\n",
    "\n",
    "# MPD's felony arrest records (each row is a felony charge against a person in an arrest)\n",
    "arrest_charges = pd.read_csv(os.path.join(RAWDATA_DIR, 'arrests_11-15-17.csv'))\n",
    "\n",
    "# MPD records of felony crime reports (each row is a victim or suspect involved in an incident, which are identified by CCN)\n",
    "crimes = pd.read_csv(os.path.join(RAWDATA_DIR, 'crimes_11-15-17.csv'))\n",
    "\n",
    "\n",
    "### Superior Court ###\n",
    "\n",
    "# Superior Court case records at the charge level (each row is a charge against a person in a specific case)\n",
    "case_charges = pd.read_csv(os.path.join(RAWDATA_DIR, 'case_charges.csv'))\n",
    "\n",
    "\n",
    "### Department of Behavioral Health (DBH) ###\n",
    "\n",
    "# Outpatient mental health service records from providers\n",
    "mh_raw = pd.read_csv(os.path.join(RAWDATA_DIR, 'dbh_mh_raw.csv'))\n",
    "\n",
    "# Saint Elizabeth's hospital intake/discharge records\n",
    "seh_raw = pd.read_csv(os.path.join(RAWDATA_DIR, 'dbh_seh_raw.csv'))\n",
    "\n",
    "# Substance use disorder treatment records\n",
    "sud_raw = pd.read_csv(os.path.join(RAWDATA_DIR, 'dbh_sud_raw.csv'))\n",
    "\n",
    "# CIO reported incidents from DBH\n",
    "cio = pd.read_csv(os.path.join(RAWDATA_DIR, 'cio_incidents.csv'))\n",
    "\n",
    "\n",
    "### DM PSJ Charge Categories ###\n",
    "\n",
    "# Dictionary of arrest categories\n",
    "dmpsj_charge_categories = pd.read_csv(os.path.join(RAWDATA_DIR, 'dmpsj_charge_categories.csv'))"
   ]
  },
  {
   "cell_type": "code",
   "execution_count": 4,
   "metadata": {
    "collapsed": true
   },
   "outputs": [],
   "source": [
    "# Name dataframes (used in for loops)\n",
    "\n",
    "arrest_charges.name = 'MPD felony arrest charge records'\n",
    "case_charges.name = 'Superior Court case records'\n",
    "crimes.name = 'MPD felony crime incident records'\n",
    "cio.name = 'MPD crisis intervention incident records'\n",
    "mh_raw.name = 'DBH mental health service records'\n",
    "seh_raw.name = 'DBH Saint Elizabeths service records'\n",
    "sud_raw.name = 'DBH substance use disorder treatment records'"
   ]
  },
  {
   "cell_type": "code",
   "execution_count": 5,
   "metadata": {
    "collapsed": true
   },
   "outputs": [],
   "source": [
    "COLUMN_RENAMES = {\n",
    "    \n",
    "    # Columns from the Court:\n",
    "    'CASE_ID': 'case_id',\n",
    "    'CASE TYPE': 'case_type',\n",
    "    'CASE_NO': 'case_no',\n",
    "    'FILE DATE': 'file_date',\n",
    "    'PDID': 'pdid',\n",
    "    'LAST NAME': 'last_name',\n",
    "    'FIRST NAME': 'first_name',\n",
    "    'DOB': 'dob',\n",
    "    'GENDER': 'sex',\n",
    "    'RACE': 'race',\n",
    "    'CHRG NBR': 'charge_number',\n",
    "    'OFFENSE DATE': 'offense_date',\n",
    "    'ARREST CHRG CD': 'court_arrest_code',\n",
    "    'ARREST CHRG DSCR': 'arrest_charge_description',\n",
    "    'PROS ATTEMPT CD': 'prosecution_attempt_code',\n",
    "    'PROS ATTEMPT DSCR': 'prosecution_attempt_description',\n",
    "    'PROS ATTEMPT SEQ': 'prosecution_attempt_sequence',\n",
    "    'PROS CHRG CD': 'prosecution_charge_code',\n",
    "    'PROS CHRG DSCR': 'prosecution_charge_description',\n",
    "    'PROS ENHANCE CD': 'prosecution_enhance_code',\n",
    "    'PROS ENHANCE DSCR': 'prosecution_enhance_description',\n",
    "    'PROS ENHANCE SEQ': 'prosecution_enhance_sequence',\n",
    "    'INDICT ATTEMPT CD': 'indict_attempt_code',\n",
    "    'INDICT ATTEMPT DSCR': 'indict_attempt_description',\n",
    "    'INDICT ATTEMPT SEQ': 'indict_attempt_sequence',\n",
    "    'INDICT CHRG CD': 'indict_charge_code',\n",
    "    'INDICT CHRG DSCR': 'indict_charge_description',\n",
    "    'INDICT ENHANCE CD': 'indict_enhance_code',\n",
    "    'INDICT ENHANCE SEQ': 'indict_enhance_sequence',\n",
    "    'INDICT ENHANCE DSCR': 'indict_enhance_description',\n",
    "    'COURT ATTEMPT CD': 'court_attempt_code',\n",
    "    'COURT ATTEMPT DSCR': 'court_attempt_description',\n",
    "    'COURT ATTEMPT SEQ': 'court_attempt_sequence',\n",
    "    'COURT CHRG CD': 'court_charge_code',\n",
    "    'COURT CHRG DSCR': 'court_charge_description',\n",
    "    'COURT ENHANCE CD': 'court_enhance_code',\n",
    "    'COURT ENHANCE DSCR': 'court_enhance_description',\n",
    "    'COURT ENHANCE SEQ': 'court_enhance_sequence',\n",
    "    'CHRG DISP CD': 'charge_disposition_code',\n",
    "    'CHRG DISP DATE': 'charge_disposition_date',\n",
    "    'CHRG DISPOSITION': 'charge_disposition',\n",
    "    \n",
    "    # Columns from MPD:\n",
    "    'CCN': 'ccn',\n",
    "    'Arrest Location Latitude': 'latitude',\n",
    "    'Arrest Location Longitude': 'longitude',  \n",
    "    '#ArrestsPerPDID(Past10YRs)': 'arrest_count',\n",
    "    'Age': 'age',\n",
    "    'Arrest Charge Category Description': 'mpd_charge_category',\n",
    "    'Arrest charge disposition': 'mpd_charge_disposition',\n",
    "    'Arrest Date': 'mpd_arrest_date',\n",
    "    'Arrest Disposition Date': 'mpd_disposition_date',\n",
    "    'Arrest location District': 'arrest_district',\n",
    "    'Arrest location PSA': 'arrest_psa',\n",
    "    'Arrest Number': 'mpd_arrest_number',\n",
    "    'Charge Description': 'mpd_charge_description',\n",
    "    'Defendant DOB': 'dob',\n",
    "    'Defendant Ethnicity': 'ethnicity',\n",
    "    'Defendant First Name': 'first_name',\n",
    "    'Defendant Home address PSA': 'home_psa',\n",
    "    'Defendant Last Name': 'last_name',\n",
    "    'Defendant PDID Number': 'pdid',\n",
    "    'Defendant Race': 'race',\n",
    "    'Defendant Sex': 'sex',\n",
    "    'Home Address': 'home_address',\n",
    "    'Home City': 'home_city',\n",
    "    'Home State': 'home_state',\n",
    "    'Home Zipcode': 'home_zip',\n",
    "    'Person Type': 'person_type',\n",
    "    'Statute code': 'charge_code',\n",
    "    'Top Charge': 'top_charge',\n",
    "    \n",
    "    # Crime data columns (from MPD)\n",
    "    'CCN': 'ccn',\n",
    "    'Offense Report Date': 'offense_report_date',\n",
    "    'Profile Type': 'profile_type',\n",
    "    'Offense Category Description': 'offense_category',\n",
    "    'Offense Description': 'offense_description',\n",
    "    'Statute Code': 'charge_code',\n",
    "    'Sex': 'sex',\n",
    "    'Ethnicity': 'ethnicity',\n",
    "    'Race': 'race',\n",
    "    'Home address PSA': 'home_psa',\n",
    "    'Offense Location District': 'offense_location_district',\n",
    "    'Offense Location PSA': 'offense_location_psa',\n",
    "    'Offense Location Latitude': 'latitude',\n",
    "    'Offense Location Longitude': 'longitude',\n",
    "    \n",
    "    # From the CIO data (DBH)   \n",
    "    'FY': 'fy',\n",
    "    'IncidentDate': 'date',\n",
    "    'officerdistrict': 'officer_district',\n",
    "    'typeoftransport': 'transport_type',\n",
    "    'RaceEthnicity': 'race',\n",
    "    'OriginOfCall': 'call_origin',\n",
    "    'cio_officer': 'is_cio_officer',\n",
    "    'unique_incident_id': 'incident_id',\n",
    "    'unique_person_id': 'person_id',\n",
    "    \n",
    "    # DBH columns\n",
    "    'Admitted Date': 'admit_date',  # (nb: these are two separate columns from two different source datasets)\n",
    "    'Admission Date': 'admit_date', # (nb: these are two separate columns from two different source datasets)\n",
    "    'Age': 'age',\n",
    "    'Arrest_ID': 'arrest_id',\n",
    "    'Arrest_count': 'arrest_count',\n",
    "    'Base': 'base',\n",
    "    'Category': 'category',\n",
    "    'Charge_code': 'charge_code',\n",
    "    'Consumer_ID': 'consumer_id',\n",
    "    'Discharge Date': 'discharge_date',\n",
    "    'EPISODE_NUMBER': 'episode_number',\n",
    "    'Ethnicity': 'ethnicity',\n",
    "    'Level of Care': 'level_of_care',\n",
    "    'MH Provider 2': 'mh_provider_2',\n",
    "    'MH Service Date': 'mh_service_date',\n",
    "    'MH Service Type ': 'mh_service_type',\n",
    "    'Max': 'max',\n",
    "    'Mpd_arrest_code': 'mpd_arrest_code',\n",
    "    'Mpd_charge_category': 'mpd_charge_category',\n",
    "    'Mpd_charge_description': 'mpd_charge_description',\n",
    "    'Race': 'race',\n",
    "    'Sex': 'sex',\n",
    "    'Theme': 'theme',\n",
    "    'month': 'month',\n",
    "    'year': 'year',\n",
    "    'ym': 'ym'\n",
    "\n",
    "}"
   ]
  },
  {
   "cell_type": "code",
   "execution_count": 6,
   "metadata": {
    "collapsed": true
   },
   "outputs": [],
   "source": [
    "# Rename columns for all the dataframes using the index above\n",
    "\n",
    "dataframes = [arrest_charges, crimes, case_charges, cio, mh_raw, seh_raw, sud_raw]\n",
    "for df in dataframes:\n",
    "    df.rename(columns=COLUMN_RENAMES, inplace=True)"
   ]
  },
  {
   "cell_type": "code",
   "execution_count": 7,
   "metadata": {
    "collapsed": true
   },
   "outputs": [],
   "source": [
    "# Tag DBH datasets with their source\n",
    "\n",
    "mh_raw['source'] = 'Mental health services'\n",
    "seh_raw['source'] = 'Saint Elizabeth\\'s'\n",
    "sud_raw['source'] = 'Substance use services'"
   ]
  },
  {
   "cell_type": "markdown",
   "metadata": {},
   "source": [
    "## Properties of the source data"
   ]
  },
  {
   "cell_type": "markdown",
   "metadata": {},
   "source": [
    "#### Arrest charges"
   ]
  },
  {
   "cell_type": "code",
   "execution_count": 8,
   "metadata": {},
   "outputs": [
    {
     "data": {
      "text/plain": [
       "(18671, 28)"
      ]
     },
     "execution_count": 8,
     "metadata": {},
     "output_type": "execute_result"
    }
   ],
   "source": [
    "# Rows x columns\n",
    "arrest_charges.shape"
   ]
  },
  {
   "cell_type": "code",
   "execution_count": 9,
   "metadata": {},
   "outputs": [
    {
     "data": {
      "text/plain": [
       "['mpd_arrest_number',\n",
       " 'mpd_arrest_date',\n",
       " 'person_type',\n",
       " 'top_charge',\n",
       " 'mpd_charge_category',\n",
       " 'mpd_charge_description',\n",
       " 'charge_code',\n",
       " 'age',\n",
       " 'arrest_count',\n",
       " 'race',\n",
       " 'ethnicity',\n",
       " 'sex',\n",
       " 'home_psa',\n",
       " 'arrest_district',\n",
       " 'arrest_psa',\n",
       " 'mpd_charge_disposition',\n",
       " 'mpd_disposition_date',\n",
       " 'home_address',\n",
       " 'home_city',\n",
       " 'home_state',\n",
       " 'home_zip',\n",
       " 'dob',\n",
       " 'pdid',\n",
       " 'first_name',\n",
       " 'last_name',\n",
       " 'ccn',\n",
       " 'latitude',\n",
       " 'longitude']"
      ]
     },
     "execution_count": 9,
     "metadata": {},
     "output_type": "execute_result"
    }
   ],
   "source": [
    "# Source column names after rename\n",
    "list(arrest_charges)"
   ]
  },
  {
   "cell_type": "markdown",
   "metadata": {},
   "source": [
    "#### Superior Court case records"
   ]
  },
  {
   "cell_type": "code",
   "execution_count": 10,
   "metadata": {},
   "outputs": [
    {
     "data": {
      "text/plain": [
       "(114862, 41)"
      ]
     },
     "execution_count": 10,
     "metadata": {},
     "output_type": "execute_result"
    }
   ],
   "source": [
    "# Rows x columns\n",
    "case_charges.shape"
   ]
  },
  {
   "cell_type": "code",
   "execution_count": 11,
   "metadata": {},
   "outputs": [
    {
     "data": {
      "text/plain": [
       "['case_id',\n",
       " 'case_type',\n",
       " 'case_no',\n",
       " 'file_date',\n",
       " 'pdid',\n",
       " 'last_name',\n",
       " 'first_name',\n",
       " 'dob',\n",
       " 'sex',\n",
       " 'race',\n",
       " 'charge_number',\n",
       " 'offense_date',\n",
       " 'court_arrest_code',\n",
       " 'arrest_charge_description',\n",
       " 'prosecution_attempt_sequence',\n",
       " 'prosecution_attempt_code',\n",
       " 'prosecution_charge_code',\n",
       " 'prosecution_enhance_sequence',\n",
       " 'prosecution_enhance_code',\n",
       " 'prosecution_attempt_description',\n",
       " 'prosecution_charge_description',\n",
       " 'prosecution_enhance_description',\n",
       " 'indict_attempt_sequence',\n",
       " 'indict_attempt_code',\n",
       " 'indict_charge_code',\n",
       " 'indict_enhance_sequence',\n",
       " 'indict_enhance_code',\n",
       " 'indict_attempt_description',\n",
       " 'indict_charge_description',\n",
       " 'indict_enhance_description',\n",
       " 'court_attempt_sequence',\n",
       " 'court_attempt_code',\n",
       " 'court_charge_code',\n",
       " 'court_enhance_sequence',\n",
       " 'court_enhance_code',\n",
       " 'court_attempt_description',\n",
       " 'court_charge_description',\n",
       " 'court_enhance_description',\n",
       " 'charge_disposition_date',\n",
       " 'charge_disposition_code',\n",
       " 'charge_disposition']"
      ]
     },
     "execution_count": 11,
     "metadata": {},
     "output_type": "execute_result"
    }
   ],
   "source": [
    "# Source data column names after being renamed\n",
    "list(case_charges)"
   ]
  },
  {
   "cell_type": "markdown",
   "metadata": {},
   "source": [
    "#### Crime incident data"
   ]
  },
  {
   "cell_type": "code",
   "execution_count": 12,
   "metadata": {},
   "outputs": [
    {
     "data": {
      "text/plain": [
       "(96380, 16)"
      ]
     },
     "execution_count": 12,
     "metadata": {},
     "output_type": "execute_result"
    }
   ],
   "source": [
    "# Rows x columns\n",
    "crimes.shape"
   ]
  },
  {
   "cell_type": "code",
   "execution_count": 13,
   "metadata": {},
   "outputs": [
    {
     "data": {
      "text/plain": [
       "['ccn',\n",
       " 'person_type',\n",
       " 'offense_report_date',\n",
       " 'profile_type',\n",
       " 'offense_category',\n",
       " 'offense_description',\n",
       " 'charge_code',\n",
       " 'age',\n",
       " 'race',\n",
       " 'ethnicity',\n",
       " 'sex',\n",
       " 'home_psa',\n",
       " 'offense_location_district',\n",
       " 'offense_location_psa',\n",
       " 'latitude',\n",
       " 'longitude']"
      ]
     },
     "execution_count": 13,
     "metadata": {},
     "output_type": "execute_result"
    }
   ],
   "source": [
    "# Source data column names after being renamed\n",
    "list(crimes)"
   ]
  },
  {
   "cell_type": "markdown",
   "metadata": {},
   "source": [
    "#### Crisis intervention incident data"
   ]
  },
  {
   "cell_type": "code",
   "execution_count": 14,
   "metadata": {},
   "outputs": [
    {
     "data": {
      "text/plain": [
       "(2760, 11)"
      ]
     },
     "execution_count": 14,
     "metadata": {},
     "output_type": "execute_result"
    }
   ],
   "source": [
    "# Rows x columns \n",
    "cio.shape"
   ]
  },
  {
   "cell_type": "code",
   "execution_count": 15,
   "metadata": {},
   "outputs": [
    {
     "data": {
      "text/plain": [
       "['fy',\n",
       " 'date',\n",
       " 'age',\n",
       " 'officer_district',\n",
       " 'sex',\n",
       " 'transport_type',\n",
       " 'race',\n",
       " 'call_origin',\n",
       " 'is_cio_officer',\n",
       " 'incident_id',\n",
       " 'person_id']"
      ]
     },
     "execution_count": 15,
     "metadata": {},
     "output_type": "execute_result"
    }
   ],
   "source": [
    "# Source data column names after being renamed\n",
    "list(cio)"
   ]
  },
  {
   "cell_type": "markdown",
   "metadata": {},
   "source": [
    "#### DBH data"
   ]
  },
  {
   "cell_type": "code",
   "execution_count": 16,
   "metadata": {},
   "outputs": [
    {
     "data": {
      "text/plain": [
       "(183287, 21)"
      ]
     },
     "execution_count": 16,
     "metadata": {},
     "output_type": "execute_result"
    }
   ],
   "source": [
    "mh_raw.shape"
   ]
  },
  {
   "cell_type": "code",
   "execution_count": 17,
   "metadata": {},
   "outputs": [
    {
     "data": {
      "text/plain": [
       "['consumer_id',\n",
       " 'arrest_id',\n",
       " 'mh_service_date',\n",
       " 'mh_service_type',\n",
       " 'mh_provider_2',\n",
       " 'mpd_charge_category',\n",
       " 'mpd_charge_description',\n",
       " 'mpd_arrest_code',\n",
       " 'age',\n",
       " 'arrest_count',\n",
       " 'race',\n",
       " 'ethnicity',\n",
       " 'sex',\n",
       " 'charge_code',\n",
       " 'base',\n",
       " 'theme',\n",
       " 'max',\n",
       " 'year',\n",
       " 'month',\n",
       " 'ym',\n",
       " 'source']"
      ]
     },
     "execution_count": 17,
     "metadata": {},
     "output_type": "execute_result"
    }
   ],
   "source": [
    "list(mh_raw)"
   ]
  },
  {
   "cell_type": "code",
   "execution_count": 18,
   "metadata": {},
   "outputs": [
    {
     "data": {
      "text/plain": [
       "(3419, 22)"
      ]
     },
     "execution_count": 18,
     "metadata": {},
     "output_type": "execute_result"
    }
   ],
   "source": [
    "seh_raw.shape"
   ]
  },
  {
   "cell_type": "code",
   "execution_count": 19,
   "metadata": {},
   "outputs": [
    {
     "data": {
      "text/plain": [
       "['consumer_id',\n",
       " 'arrest_id',\n",
       " 'episode_number',\n",
       " 'admit_date',\n",
       " 'discharge_date',\n",
       " 'category',\n",
       " 'mpd_charge_category',\n",
       " 'mpd_charge_description',\n",
       " 'mpd_arrest_code',\n",
       " 'age',\n",
       " 'arrest_count',\n",
       " 'race',\n",
       " 'ethnicity',\n",
       " 'sex',\n",
       " 'charge_code',\n",
       " 'base',\n",
       " 'theme',\n",
       " 'max',\n",
       " 'year',\n",
       " 'month',\n",
       " 'ym',\n",
       " 'source']"
      ]
     },
     "execution_count": 19,
     "metadata": {},
     "output_type": "execute_result"
    }
   ],
   "source": [
    "list(seh_raw)"
   ]
  },
  {
   "cell_type": "code",
   "execution_count": 20,
   "metadata": {},
   "outputs": [
    {
     "data": {
      "text/plain": [
       "(6216, 20)"
      ]
     },
     "execution_count": 20,
     "metadata": {},
     "output_type": "execute_result"
    }
   ],
   "source": [
    "sud_raw.shape"
   ]
  },
  {
   "cell_type": "code",
   "execution_count": 21,
   "metadata": {},
   "outputs": [
    {
     "data": {
      "text/plain": [
       "['consumer_id',\n",
       " 'arrest_id',\n",
       " 'admit_date',\n",
       " 'level_of_care',\n",
       " 'mpd_charge_category',\n",
       " 'mpd_charge_description',\n",
       " 'mpd_arrest_code',\n",
       " 'age',\n",
       " 'arrest_count',\n",
       " 'race',\n",
       " 'ethnicity',\n",
       " 'sex',\n",
       " 'charge_code',\n",
       " 'base',\n",
       " 'theme',\n",
       " 'max',\n",
       " 'year',\n",
       " 'month',\n",
       " 'ym',\n",
       " 'source']"
      ]
     },
     "execution_count": 21,
     "metadata": {},
     "output_type": "execute_result"
    }
   ],
   "source": [
    "list(sud_raw)"
   ]
  },
  {
   "cell_type": "markdown",
   "metadata": {},
   "source": [
    "## Categorize charges\n",
    "This section takes the raw charge codes and groups them into custom categories."
   ]
  },
  {
   "cell_type": "code",
   "execution_count": 22,
   "metadata": {
    "collapsed": true
   },
   "outputs": [],
   "source": [
    "# Create a new column containing the charge code from the most recent stage of the court case\n",
    "\n",
    "case_charges['charge_code'] = case_charges.court_charge_code.combine_first(case_charges.indict_charge_code)\\\n",
    "                                .combine_first(case_charges.prosecution_charge_code)\\\n",
    "                                .combine_first(case_charges.court_arrest_code)\n",
    "\n",
    "\n",
    "# Create a new column containing the charge description from the most recent stage of the court case\n",
    "\n",
    "case_charges['charge_description'] = case_charges.court_charge_description.combine_first(case_charges.indict_charge_description)\\\n",
    "                                .combine_first(case_charges.prosecution_charge_description)\\\n",
    "                                .combine_first(case_charges.arrest_charge_description)"
   ]
  },
  {
   "cell_type": "code",
   "execution_count": 23,
   "metadata": {},
   "outputs": [
    {
     "name": "stdout",
     "output_type": "stream",
     "text": [
      "Records missing charge codes: 2\n",
      "Records missing charge descriptions: 2\n"
     ]
    }
   ],
   "source": [
    "print('Records missing charge codes:', case_charges['charge_code'].isnull().sum())\n",
    "print('Records missing charge descriptions:', case_charges['charge_description'].isnull().sum())"
   ]
  },
  {
   "cell_type": "code",
   "execution_count": 24,
   "metadata": {
    "collapsed": true
   },
   "outputs": [],
   "source": [
    "# Strip blanks and ensure consistent capitalization of charge codes and case numbers\n",
    "\n",
    "for column in ['charge_disposition_code', 'case_no', 'court_charge_code', 'charge_code']:\n",
    "    case_charges[column] = case_charges[column].str.strip().str.upper()\n",
    "\n",
    "for column in ['court_charge_description', 'charge_description']:\n",
    "    case_charges[column] = case_charges[column].str.strip()\n",
    "\n",
    "arrest_charges['charge_code'] = arrest_charges['charge_code'].str.strip().str.upper()\n",
    "crimes['charge_code'] = crimes.charge_code.str.strip().str.upper()\n",
    "dmpsj_charge_categories['charge_code'] = dmpsj_charge_categories['charge_code'].str.upper()"
   ]
  },
  {
   "cell_type": "markdown",
   "metadata": {},
   "source": [
    "#### Join offense categories to court case records"
   ]
  },
  {
   "cell_type": "code",
   "execution_count": 25,
   "metadata": {},
   "outputs": [
    {
     "data": {
      "text/plain": [
       "114862"
      ]
     },
     "execution_count": 25,
     "metadata": {},
     "output_type": "execute_result"
    }
   ],
   "source": [
    "len(case_charges)"
   ]
  },
  {
   "cell_type": "code",
   "execution_count": 26,
   "metadata": {
    "collapsed": true
   },
   "outputs": [],
   "source": [
    "# Merge DMPSJ categories on charges\n",
    "case_charges = pd.merge(case_charges, \n",
    "                        dmpsj_charge_categories[['charge_code', 'dmpsj_category']], \n",
    "                        on='charge_code', how='left')"
   ]
  },
  {
   "cell_type": "code",
   "execution_count": 27,
   "metadata": {},
   "outputs": [
    {
     "data": {
      "text/plain": [
       "114862"
      ]
     },
     "execution_count": 27,
     "metadata": {},
     "output_type": "execute_result"
    }
   ],
   "source": [
    "len(case_charges)"
   ]
  },
  {
   "cell_type": "code",
   "execution_count": 28,
   "metadata": {},
   "outputs": [
    {
     "data": {
      "text/plain": [
       "2"
      ]
     },
     "execution_count": 28,
     "metadata": {},
     "output_type": "execute_result"
    }
   ],
   "source": [
    "# Number of rows that did not match between the court case and categorization dataframes\n",
    "case_charges['dmpsj_category'].isnull().sum()"
   ]
  },
  {
   "cell_type": "code",
   "execution_count": 29,
   "metadata": {},
   "outputs": [
    {
     "data": {
      "text/plain": [
       "\"\\ncase_charges.loc[case_charges['dmpsj_category'].isnull(),\\n                 ['case_id', 'pdid', 'charge_code', 'charge_description', 'dmpsj_category']]\\n\""
      ]
     },
     "execution_count": 29,
     "metadata": {},
     "output_type": "execute_result"
    }
   ],
   "source": [
    "# Print those rows (output of this cell redacted)\n",
    "\n",
    "'''\n",
    "case_charges.loc[case_charges['dmpsj_category'].isnull(),\n",
    "                 ['case_id', 'pdid', 'charge_code', 'charge_description', 'dmpsj_category']]\n",
    "'''"
   ]
  },
  {
   "cell_type": "code",
   "execution_count": 30,
   "metadata": {
    "collapsed": true
   },
   "outputs": [],
   "source": [
    "# This fills in the two empty charges in the court data that have no charge information\n",
    "case_charges['dmpsj_category'].fillna('Other', inplace=True) "
   ]
  },
  {
   "cell_type": "markdown",
   "metadata": {},
   "source": [
    "#### Join offense categories to felony arrest records"
   ]
  },
  {
   "cell_type": "code",
   "execution_count": 31,
   "metadata": {},
   "outputs": [
    {
     "data": {
      "text/plain": [
       "18671"
      ]
     },
     "execution_count": 31,
     "metadata": {},
     "output_type": "execute_result"
    }
   ],
   "source": [
    "len(arrest_charges)"
   ]
  },
  {
   "cell_type": "code",
   "execution_count": 32,
   "metadata": {
    "collapsed": true
   },
   "outputs": [],
   "source": [
    "# Merge DMPSJ categories onto arrest charges\n",
    "arrest_charges = pd.merge(arrest_charges, \n",
    "                          dmpsj_charge_categories[['charge_code', 'dmpsj_category']],\n",
    "                          on='charge_code', how='left')"
   ]
  },
  {
   "cell_type": "code",
   "execution_count": 33,
   "metadata": {},
   "outputs": [
    {
     "data": {
      "text/plain": [
       "18671"
      ]
     },
     "execution_count": 33,
     "metadata": {},
     "output_type": "execute_result"
    }
   ],
   "source": [
    "len(arrest_charges)"
   ]
  },
  {
   "cell_type": "code",
   "execution_count": 34,
   "metadata": {},
   "outputs": [
    {
     "data": {
      "text/plain": [
       "0"
      ]
     },
     "execution_count": 34,
     "metadata": {},
     "output_type": "execute_result"
    }
   ],
   "source": [
    "# Number of rows that did not match between the arrest and categorization dataframes\n",
    "arrest_charges['dmpsj_category'].isnull().sum()"
   ]
  },
  {
   "cell_type": "markdown",
   "metadata": {},
   "source": [
    "#### Join offense categories to felony crime records"
   ]
  },
  {
   "cell_type": "code",
   "execution_count": 35,
   "metadata": {},
   "outputs": [
    {
     "data": {
      "text/plain": [
       "96380"
      ]
     },
     "execution_count": 35,
     "metadata": {},
     "output_type": "execute_result"
    }
   ],
   "source": [
    "len(crimes)"
   ]
  },
  {
   "cell_type": "code",
   "execution_count": 36,
   "metadata": {
    "collapsed": true
   },
   "outputs": [],
   "source": [
    "# Merge DMPSJ categories onto crime data\n",
    "crimes = pd.merge(crimes, \n",
    "                  dmpsj_charge_categories[['charge_code', 'dmpsj_category']],\n",
    "                  on='charge_code', how='left')"
   ]
  },
  {
   "cell_type": "code",
   "execution_count": 37,
   "metadata": {},
   "outputs": [
    {
     "data": {
      "text/plain": [
       "96380"
      ]
     },
     "execution_count": 37,
     "metadata": {},
     "output_type": "execute_result"
    }
   ],
   "source": [
    "len(crimes)"
   ]
  },
  {
   "cell_type": "code",
   "execution_count": 38,
   "metadata": {},
   "outputs": [
    {
     "data": {
      "text/plain": [
       "0"
      ]
     },
     "execution_count": 38,
     "metadata": {},
     "output_type": "execute_result"
    }
   ],
   "source": [
    "# Number of rows that did not match between the arrest and categorization dataframes\n",
    "crimes['dmpsj_category'].isnull().sum()"
   ]
  },
  {
   "cell_type": "markdown",
   "metadata": {},
   "source": [
    "# Disposition descriptors\n",
    "This section takes the raw disposition description and groups the dispositions into larger categories. The first set of disposition groupings is defined in the `DISPOSITION_CLASSES` object. The left most value contains this category, the middle value identifies the court's internal disposition code, and the right value contains the court's raw text disposition description."
   ]
  },
  {
   "cell_type": "code",
   "execution_count": 39,
   "metadata": {
    "collapsed": true
   },
   "outputs": [],
   "source": [
    "DISPOSITION_CLASSES = [\n",
    "\n",
    "    ('deferred', 'CRMDFS', 'Pled Guilty Sentencing Deferred'),\n",
    "    ('dismissed', 'CRDIS', 'Dismissed - Do Not Use'),\n",
    "    ('dismissed', 'CRMAN', 'Administrative Nolle'),\n",
    "    ('dismissed', 'CRMAP', 'Dismissed-Prosecution Abated'),\n",
    "    ('dismissed', 'CRMAP', 'Prosecution Abated'),\n",
    "    ('dismissed', 'CRMDD', 'DWP No Police Officer'),\n",
    "    ('dismissed', 'CRMDIS', 'Dismissed'),\n",
    "    ('dismissed', 'CRMDNPC', 'Dismissed - No Probable Cause'),\n",
    "    ('dismissed', 'CRMDNPC', 'Dismissed-No Probable Cause'),\n",
    "    ('dismissed', 'CRMDPA', 'Dismissed as part of Plea Agreement'),\n",
    "    ('dismissed', 'CRMDPA', 'Dismissed-Plea Agreement'),\n",
    "    ('dismissed', 'CRMDS', 'Dismissed'),\n",
    "    ('dismissed', 'CRMDW', 'DWP'),\n",
    "    ('dismissed', 'CRMDWP', 'Dismissed-DWP'),\n",
    "    ('dismissed', 'CRMGJI', 'Dismissed-Ignored by Grand Jury'),\n",
    "    ('dismissed', 'CRMGJI', 'Ignored by Grand Jury'),\n",
    "    ('dismissed', 'CRMHJ', 'Hung Jury - CIS ONLY'),\n",
    "    ('dismissed', 'CRMIST', 'Dismissed-Incompetent to Stand Trial'),\n",
    "    ('dismissed', 'CRMLIO', 'Plea to Lesser Included Offense'), #??\n",
    "    ('dismissed', 'CRMLIOJ', 'Lesser Included Offense Considered by Jury/Ct'), #??\n",
    "    ('dismissed', 'CRMNCJ', 'Not Considered by Jury'),\n",
    "    ('dismissed', 'CRMNL', 'Dismissed-Nolle-Prosequi'),\n",
    "    ('dismissed', 'CRMNL', 'Nolle Prosequi'),\n",
    "    ('dismissed', 'CRMNP', 'Charge No Papered'),\n",
    "    ('dismissed', 'CRMNP', 'Closed-No Papered'),\n",
    "    ('dismissed', 'CRMTBD', 'To Be Dismissed at Sentencing'),\n",
    "    ('dismissed', 'CRMVC', 'Conviction Vacated'),\n",
    "    ('dismissed', 'FSPDCT', 'Dismissed by Court'),\n",
    "    ('dismissed', 'FSPDG', 'Dismissed by Government'),\n",
    "    ('dismissed', 'FSPDWP', 'Dismissed for Want of Prosecution'),\n",
    "    ('dismissed', 'GJDCRM', 'Grand Jury Dismissal'),\n",
    "    ('dismissed', 'TRCCDPA', 'Case Dismissed- Prosecution Abated'),\n",
    "    ('dismissed', 'TRCNL', 'Nolle Prosequi'),\n",
    "    ('dismissed', 'TRCVC', 'Conviction Vacated'),\n",
    "    ('diverted', 'CRMNLD', 'Dismissed-Nolle-Diversion'),\n",
    "    ('diverted', 'CRMNLD', 'Nolle-Diversion'),\n",
    "    ('diverted', 'TRCNLD', 'Nolle- Diversion'),\n",
    "    ('guilty', 'CRM904', '904 Guilty Plea'),\n",
    "    ('guilty', 'CRM904', 'Guilty-904 Guilty Plea'),\n",
    "    ('guilty', 'CRMDSPG', 'Guilty- Plea Judgment Guilty'),\n",
    "    ('guilty', 'CRMFGP', 'Found Guilty - Plea'),\n",
    "    ('guilty', 'CRMG', 'Guilty - Do Not Use'),\n",
    "    ('guilty', 'CRMTBCG', 'Guilty-Court Trial*'),\n",
    "    ('guilty', 'CRMTRCG', 'Trial By Court-Guilty'),\n",
    "    ('guilty', 'CRMVG', 'Guilty-Jury Trial'),\n",
    "    ('guilty', 'CRMVG', 'Jury Trial Guilty'),\n",
    "    ('not_guilty', 'CRMAQ', 'Acquittal'),\n",
    "    ('not_guilty', 'CRMAQ', 'Not Guilty-Acquittal'),\n",
    "    ('not_guilty', 'CRMMJOA', 'Acquitted'),\n",
    "    ('not_guilty', 'CRMNGI', 'Not Guilty by Reason of Insanity'),\n",
    "    ('not_guilty', 'CRMNGI', 'Not Guilty-By Reason of Insanity'),\n",
    "    ('not_guilty', 'CRMTBCNG', 'Court Trial Not Guilty'),\n",
    "    ('not_guilty', 'CRMTBCNG', 'Not Guilty-Court Trial*'),\n",
    "    ('not_guilty', 'CRMVNG', 'Jury Trial Not Guilty'),\n",
    "    ('not_guilty', 'CRMVNG', 'Not Guilty-Jury Trial'),\n",
    "    ('not_guilty', 'TRCJTNG', 'Jury Trial - Not Guilty'),\n",
    "    ('open', 'CRMEXW', 'Extradition Waived'),\n",
    "    ('other', 'CRDP', 'Do Not Use - DWP'),\n",
    "    ('other', 'CRM20', 'Charge Disposed Rule 20 Transfer'),\n",
    "    ('other', 'CRM20', 'Closed-Case Transferred Pursuant to Rule 20'),\n",
    "    ('other', 'CRMADMIN', 'Case Disposed - Closed Administratively'),\n",
    "    ('other', 'CRMCDC', 'Case Certified to US Dist Court'),\n",
    "    ('other', 'CRMCDC', 'Closed-Case Certified to USDC'),\n",
    "    ('other', 'CRMCFD', 'Case Certified to Family Division'),\n",
    "    ('other', 'CRMCFD', 'Certified-to Family Division'),\n",
    "    ('other', 'CRMCON', 'Consolidated-Case Consolidated'),\n",
    "    ('other', 'CRMDV', 'Certified to Domestic Violence'),\n",
    "    ('other', 'CRMGJMI', 'Grand Jury Misdemeanor Information Filed'),\n",
    "    ('other', 'CRMIC', 'Indicted Consolidated'),\n",
    "    ('other', 'CRMINC', 'Consolidated-Indicted/Consolidated w/Another Case'),\n",
    "    ('other', 'CRMIND', 'Grand Jury Indictment Filed'),\n",
    "    ('other', 'CRMMER', 'Merged Charge'),\n",
    "    ('other', 'CRMMFDV', 'Criminal Information Filed - DV'),\n",
    "    ('other', 'CRMNA', 'Not Applicable'),\n",
    "    ('other', 'CRMNAFL', 'Closed-Not Available From Legacy Data'),\n",
    "    ('other', 'CRMSF', 'Security forfeited'),\n",
    "    ('other', 'CRMYRA', 'Dismissed-Case Disposed-YRA'),  \n",
    "    ('other', 'CRMYRA', 'YRA Disposition'),\n",
    "    ('other', 'CRNAFL', 'Not Available From Legacy Data'),\n",
    "    ('other', 'DRC    PTU', 'Probation Terminated Unsuccessful')\n",
    "    \n",
    "]    "
   ]
  },
  {
   "cell_type": "code",
   "execution_count": 40,
   "metadata": {
    "collapsed": true
   },
   "outputs": [],
   "source": [
    "# Create dataframe from the disposition categories above\n",
    "\n",
    "disposition_classes = pd.DataFrame.from_records(\n",
    "    DISPOSITION_CLASSES, columns=['disposition_category', 'disposition_code', 'disposition'])"
   ]
  },
  {
   "cell_type": "code",
   "execution_count": 41,
   "metadata": {},
   "outputs": [
    {
     "name": "stdout",
     "output_type": "stream",
     "text": [
      "Number of duplicate rows: 0\n"
     ]
    }
   ],
   "source": [
    "print('Number of duplicate rows:', disposition_classes.duplicated().sum())"
   ]
  },
  {
   "cell_type": "code",
   "execution_count": 42,
   "metadata": {
    "collapsed": true
   },
   "outputs": [],
   "source": [
    "# Drop the source description of the disposition\n",
    "disposition_classes = disposition_classes.drop('disposition', axis=1)"
   ]
  },
  {
   "cell_type": "code",
   "execution_count": 43,
   "metadata": {},
   "outputs": [
    {
     "name": "stdout",
     "output_type": "stream",
     "text": [
      "Number of duplicate rows: 17\n"
     ]
    }
   ],
   "source": [
    "print('Number of duplicate rows:', disposition_classes.duplicated().sum())"
   ]
  },
  {
   "cell_type": "code",
   "execution_count": 44,
   "metadata": {
    "collapsed": true
   },
   "outputs": [],
   "source": [
    "# Drop duplicate rows to prep for merge\n",
    "disposition_classes.sort_values(by=['disposition_code', 'disposition_category'], inplace=True)\n",
    "disposition_classes.drop_duplicates(inplace=True)"
   ]
  },
  {
   "cell_type": "code",
   "execution_count": 45,
   "metadata": {
    "collapsed": true
   },
   "outputs": [],
   "source": [
    "# Merge disposition categories onto court records\n",
    "\n",
    "case_charges = pd.merge(case_charges,\n",
    "                        disposition_classes,\n",
    "                        left_on='charge_disposition_code',\n",
    "                        right_on='disposition_code',\n",
    "                        how='left')\n",
    "\n",
    "# Replace disposition of case records that are still open\n",
    "case_charges['disposition_category'].fillna(value='open', inplace=True) "
   ]
  },
  {
   "cell_type": "code",
   "execution_count": 46,
   "metadata": {},
   "outputs": [
    {
     "name": "stdout",
     "output_type": "stream",
     "text": [
      "dismissed     51775\n",
      "guilty        35536\n",
      "diverted      13132\n",
      "open           6627\n",
      "not_guilty     4575\n",
      "deferred       3186\n",
      "other            31\n",
      "Name: disposition_category, dtype: int64\n",
      "Missing:  0\n",
      "Total charges:  114862\n"
     ]
    }
   ],
   "source": [
    "# Print disposition categories\n",
    "\n",
    "print(case_charges.disposition_category.value_counts())\n",
    "print('Missing: ', case_charges.disposition_category.isnull().sum())\n",
    "print('Total charges: ', len(case_charges))"
   ]
  },
  {
   "cell_type": "code",
   "execution_count": 47,
   "metadata": {
    "collapsed": true
   },
   "outputs": [],
   "source": [
    "# Make a bunch of dummy variables to describe court outcomes\n",
    "\n",
    "for cat in ['guilty', 'diverted', 'not_guilty', 'open']:\n",
    "    case_charges[f'is_{cat}'] = case_charges.disposition_category == cat"
   ]
  },
  {
   "cell_type": "code",
   "execution_count": 48,
   "metadata": {
    "collapsed": true
   },
   "outputs": [],
   "source": [
    "# Look at case dispositions with more nuanced categories\n",
    "\n",
    "NUANCED_DISPOSITION = [\n",
    "     \n",
    "    ('guilty by plea but deferred', 'CRMDFS', 'Pled Guilty Sentencing Deferred'),\n",
    "    ('guilty by 904 plea', 'CRM904', '904 Guilty Plea'),\n",
    "    ('guilty by 904 plea', 'CRM904', 'Guilty-904 Guilty Plea'),\n",
    "    ('guilty by plea', 'CRMDSPG', 'Guilty- Plea Judgment Guilty'),\n",
    "    ('guilty by plea', 'CRMFGP', 'Found Guilty - Plea'),\n",
    "    ('guilty DO NOT USE', 'CRMG', 'Guilty - Do Not Use'),\n",
    "    ('guilty by court trial', 'CRMTBCG', 'Guilty-Court Trial*'),\n",
    "    ('guilty by court trial', 'CRMTRCG', 'Trial By Court-Guilty'),\n",
    "    ('guilty by jury trial', 'CRMVG', 'Guilty-Jury Trial'),\n",
    "    ('guilty by jury trial', 'CRMVG', 'Jury Trial Guilty'),\n",
    "    ('not guilty by acquittal', 'CRMAQ', 'Acquittal'),\n",
    "    ('not guilty by acquittal', 'CRMAQ', 'Not Guilty-Acquittal'),\n",
    "    ('not guilty by acquittal', 'CRMMJOA', 'Acquitted'),\n",
    "    ('not guilty by insanity', 'CRMNGI', 'Not Guilty by Reason of Insanity'),\n",
    "    ('not guilty by insanity', 'CRMNGI', 'Not Guilty-By Reason of Insanity'),\n",
    "    ('not guilty by court trial', 'CRMTBCNG', 'Court Trial Not Guilty'),\n",
    "    ('not guilty by court trial', 'CRMTBCNG', 'Not Guilty-Court Trial*'),\n",
    "    ('not guilty by jury trial', 'CRMVNG', 'Jury Trial Not Guilty'),\n",
    "    ('not guilty by jury trial', 'CRMVNG', 'Not Guilty-Jury Trial'),\n",
    "    ('not guilty by jury trial', 'TRCJTNG', 'Jury Trial - Not Guilty'),\n",
    "    ('YRA disposition', 'CRMYRA', 'Dismissed-Case Disposed-YRA'),  \n",
    "    ('YRA disposition', 'CRMYRA', 'YRA Disposition')\n",
    "\n",
    "]"
   ]
  },
  {
   "cell_type": "code",
   "execution_count": 49,
   "metadata": {
    "collapsed": true
   },
   "outputs": [],
   "source": [
    "# Join these nuanced disposition categories to the case records\n",
    "nuanced_disposition = pd.DataFrame.from_records(\n",
    "    NUANCED_DISPOSITION, columns=['nuanced_disposition', 'charge_disposition_code', 'disposition'])"
   ]
  },
  {
   "cell_type": "code",
   "execution_count": 50,
   "metadata": {},
   "outputs": [
    {
     "data": {
      "text/plain": [
       "0"
      ]
     },
     "execution_count": 50,
     "metadata": {},
     "output_type": "execute_result"
    }
   ],
   "source": [
    "nuanced_disposition.duplicated().sum()"
   ]
  },
  {
   "cell_type": "code",
   "execution_count": 51,
   "metadata": {
    "collapsed": true
   },
   "outputs": [],
   "source": [
    "nuanced_disposition = nuanced_disposition.drop('disposition', axis=1)\n",
    "nuanced_disposition.sort_values(by=['charge_disposition_code', 'nuanced_disposition'])\n",
    "nuanced_disposition = nuanced_disposition.drop_duplicates()"
   ]
  },
  {
   "cell_type": "code",
   "execution_count": 52,
   "metadata": {
    "collapsed": true
   },
   "outputs": [],
   "source": [
    "# Merge nuanced dispositions to case charges dataframe\n",
    "case_charges = pd.merge(case_charges, nuanced_disposition, on='charge_disposition_code', how='left')"
   ]
  },
  {
   "cell_type": "code",
   "execution_count": 53,
   "metadata": {},
   "outputs": [
    {
     "data": {
      "text/html": [
       "<div>\n",
       "<table border=\"1\" class=\"dataframe\">\n",
       "  <thead>\n",
       "    <tr style=\"text-align: right;\">\n",
       "      <th>disposition_category</th>\n",
       "      <th>deferred</th>\n",
       "      <th>guilty</th>\n",
       "      <th>not_guilty</th>\n",
       "      <th>other</th>\n",
       "    </tr>\n",
       "    <tr>\n",
       "      <th>nuanced_disposition</th>\n",
       "      <th></th>\n",
       "      <th></th>\n",
       "      <th></th>\n",
       "      <th></th>\n",
       "    </tr>\n",
       "  </thead>\n",
       "  <tbody>\n",
       "    <tr>\n",
       "      <th>YRA disposition</th>\n",
       "      <td>0</td>\n",
       "      <td>0</td>\n",
       "      <td>0</td>\n",
       "      <td>9</td>\n",
       "    </tr>\n",
       "    <tr>\n",
       "      <th>guilty by 904 plea</th>\n",
       "      <td>0</td>\n",
       "      <td>299</td>\n",
       "      <td>0</td>\n",
       "      <td>0</td>\n",
       "    </tr>\n",
       "    <tr>\n",
       "      <th>guilty by court trial</th>\n",
       "      <td>0</td>\n",
       "      <td>2968</td>\n",
       "      <td>0</td>\n",
       "      <td>0</td>\n",
       "    </tr>\n",
       "    <tr>\n",
       "      <th>guilty by jury trial</th>\n",
       "      <td>0</td>\n",
       "      <td>2665</td>\n",
       "      <td>0</td>\n",
       "      <td>0</td>\n",
       "    </tr>\n",
       "    <tr>\n",
       "      <th>guilty by plea</th>\n",
       "      <td>0</td>\n",
       "      <td>29604</td>\n",
       "      <td>0</td>\n",
       "      <td>0</td>\n",
       "    </tr>\n",
       "    <tr>\n",
       "      <th>guilty by plea but deferred</th>\n",
       "      <td>3186</td>\n",
       "      <td>0</td>\n",
       "      <td>0</td>\n",
       "      <td>0</td>\n",
       "    </tr>\n",
       "    <tr>\n",
       "      <th>not guilty by acquittal</th>\n",
       "      <td>0</td>\n",
       "      <td>0</td>\n",
       "      <td>875</td>\n",
       "      <td>0</td>\n",
       "    </tr>\n",
       "    <tr>\n",
       "      <th>not guilty by court trial</th>\n",
       "      <td>0</td>\n",
       "      <td>0</td>\n",
       "      <td>1616</td>\n",
       "      <td>0</td>\n",
       "    </tr>\n",
       "    <tr>\n",
       "      <th>not guilty by insanity</th>\n",
       "      <td>0</td>\n",
       "      <td>0</td>\n",
       "      <td>23</td>\n",
       "      <td>0</td>\n",
       "    </tr>\n",
       "    <tr>\n",
       "      <th>not guilty by jury trial</th>\n",
       "      <td>0</td>\n",
       "      <td>0</td>\n",
       "      <td>2061</td>\n",
       "      <td>0</td>\n",
       "    </tr>\n",
       "  </tbody>\n",
       "</table>\n",
       "</div>"
      ],
      "text/plain": [
       "disposition_category         deferred  guilty  not_guilty  other\n",
       "nuanced_disposition                                             \n",
       "YRA disposition                     0       0           0      9\n",
       "guilty by 904 plea                  0     299           0      0\n",
       "guilty by court trial               0    2968           0      0\n",
       "guilty by jury trial                0    2665           0      0\n",
       "guilty by plea                      0   29604           0      0\n",
       "guilty by plea but deferred      3186       0           0      0\n",
       "not guilty by acquittal             0       0         875      0\n",
       "not guilty by court trial           0       0        1616      0\n",
       "not guilty by insanity              0       0          23      0\n",
       "not guilty by jury trial            0       0        2061      0"
      ]
     },
     "execution_count": 53,
     "metadata": {},
     "output_type": "execute_result"
    }
   ],
   "source": [
    "pd.crosstab(case_charges['nuanced_disposition'], case_charges['disposition_category'])"
   ]
  },
  {
   "cell_type": "markdown",
   "metadata": {},
   "source": [
    "# Dates"
   ]
  },
  {
   "cell_type": "code",
   "execution_count": 54,
   "metadata": {
    "collapsed": true
   },
   "outputs": [],
   "source": [
    "# DBH Dates\n",
    "\n",
    "mh_raw['mh_service_date'] = pd.to_datetime(mh_raw['mh_service_date'])\n",
    "sud_raw['admit_date'] = pd.to_datetime(sud_raw['admit_date'])\n",
    "seh_raw['discharge_date'] = pd.to_datetime(seh_raw['discharge_date'])\n",
    "seh_raw['admit_date'] = pd.to_datetime(seh_raw['admit_date'])"
   ]
  },
  {
   "cell_type": "code",
   "execution_count": 55,
   "metadata": {},
   "outputs": [
    {
     "name": "stdout",
     "output_type": "stream",
     "text": [
      "MH data earliest service date:  2011-10-01\n",
      "MH data last service date:  2017-10-25\n",
      "SEH data earliest intake date:  1978-06-30\n",
      "SEH data latest intake date:  2017-11-09\n",
      "SUD data earliest intake date:  2010-03-11\n",
      "SUD data latest intake date:  2017-11-20\n",
      "\n",
      "DBH mental health service records\n",
      "Length: 183287\n",
      "Unique people: 2423\n",
      "Unique arrests: 3204\n",
      "\n",
      "DBH Saint Elizabeths service records\n",
      "Length: 3419\n",
      "Unique people: 739\n",
      "Unique arrests: 1054\n",
      "\n",
      "DBH substance use disorder treatment records\n",
      "Length: 6216\n",
      "Unique people: 1746\n",
      "Unique arrests: 2365\n",
      "\n"
     ]
    }
   ],
   "source": [
    "# DBH source data descriptives\n",
    "\n",
    "# Date range\n",
    "print('MH data earliest service date: ', mh_raw.mh_service_date.dt.date.min())\n",
    "print('MH data last service date: ', mh_raw.mh_service_date.dt.date.max())\n",
    "print('SEH data earliest intake date: ', seh_raw.admit_date.dt.date.min())\n",
    "print('SEH data latest intake date: ', seh_raw.admit_date.dt.date.max())\n",
    "print('SUD data earliest intake date: ', sud_raw.admit_date.dt.date.min())\n",
    "print('SUD data latest intake date: ', sud_raw.admit_date.dt.date.max())\n",
    "print()\n",
    "\n",
    "# Number of people, records, and arrests\n",
    "for df in mh_raw, seh_raw, sud_raw:\n",
    "    print(df.name)\n",
    "    print('Length:', len(df))\n",
    "    print('Unique people:', df.consumer_id.nunique())\n",
    "    print('Unique arrests:', df.arrest_id.nunique())\n",
    "    print()"
   ]
  },
  {
   "cell_type": "code",
   "execution_count": 56,
   "metadata": {
    "collapsed": true
   },
   "outputs": [],
   "source": [
    "# Convert things to dates\n",
    "\n",
    "arrest_charges['mpd_arrest_date'] = pd.to_datetime(arrest_charges['mpd_arrest_date'], format='%m/%d/%y %I:%M %p')\n",
    "case_charges['file_date'] = pd.to_datetime(case_charges['file_date'], format='%m/%d/%Y')\n",
    "case_charges['charge_disposition_date'] = pd.to_datetime(case_charges['charge_disposition_date'], format='%m/%d/%Y')\n",
    "crimes['offense_report_date'] = pd.to_datetime(crimes['offense_report_date'], format='%m/%d/%y %I:%M %p')\n",
    "cio['date'] = pd.to_datetime(cio['date'])"
   ]
  },
  {
   "cell_type": "code",
   "execution_count": 57,
   "metadata": {},
   "outputs": [
    {
     "name": "stdout",
     "output_type": "stream",
     "text": [
      "CIO min date: 1955-12-21 00:00:00\n",
      "CIO max date: 2240-08-24 00:00:00\n",
      "CIO incidents per year:\n",
      " date\n",
      "1955      1\n",
      "2001      1\n",
      "2013    159\n",
      "2014    621\n",
      "2015    748\n",
      "2016    701\n",
      "2017    528\n",
      "2240      1\n",
      "dtype: int64\n"
     ]
    }
   ],
   "source": [
    "print('CIO min date:', cio.date.min())\n",
    "print('CIO max date:', cio.date.max())\n",
    "print('CIO incidents per year:\\n', cio.groupby(cio['date'].dt.year).size())"
   ]
  },
  {
   "cell_type": "code",
   "execution_count": 58,
   "metadata": {
    "collapsed": true
   },
   "outputs": [],
   "source": [
    "# Clip CIO records to exclude out of bounds/erroneous dates (e.g. 1955, 2240 are erroneous)\n",
    "cio = cio.loc[(cio['date'].dt.year >= 2013) & (cio['date'] <= '2017-09-30')].copy()"
   ]
  },
  {
   "cell_type": "code",
   "execution_count": 59,
   "metadata": {},
   "outputs": [
    {
     "name": "stdout",
     "output_type": "stream",
     "text": [
      "CIO min date: 2013-08-12 00:00:00\n",
      "CIO max date: 2017-09-30 00:00:00\n",
      "CIO incidents per year:\n",
      " date\n",
      "2013    159\n",
      "2014    621\n",
      "2015    748\n",
      "2016    701\n",
      "2017    527\n",
      "dtype: int64\n"
     ]
    }
   ],
   "source": [
    "print('CIO min date:', cio.date.min())\n",
    "print('CIO max date:', cio.date.max())\n",
    "print('CIO incidents per year:\\n', cio.groupby(cio['date'].dt.year).size())"
   ]
  },
  {
   "cell_type": "code",
   "execution_count": 60,
   "metadata": {},
   "outputs": [
    {
     "data": {
      "text/plain": [
       "Text(0.5,1,'Monthly CIO incidents')"
      ]
     },
     "execution_count": 60,
     "metadata": {},
     "output_type": "execute_result"
    },
    {
     "data": {
      "image/png": "[encoded data removed]",
      "text/plain": [
       "<matplotlib.figure.Figure at 0x7f237e4f9e48>"
      ]
     },
     "metadata": {},
     "output_type": "display_data"
    }
   ],
   "source": [
    "cio.groupby(pd.Grouper(key='date', freq='M')).size().plot()\n",
    "plt.title('Monthly CIO incidents')"
   ]
  },
  {
   "cell_type": "code",
   "execution_count": 61,
   "metadata": {
    "collapsed": true
   },
   "outputs": [],
   "source": [
    "# Make year and month variables\n",
    "\n",
    "arrest_charges['year'], arrest_charges['month'] = arrest_charges['mpd_arrest_date'].dt.year, arrest_charges['mpd_arrest_date'].dt.month\n",
    "case_charges['year'], case_charges['month'] = case_charges['file_date'].dt.year, case_charges['file_date'].dt.month\n",
    "crimes['year'] = crimes['offense_report_date'].dt.year\n",
    "cio['year'] = cio['date'].dt.year\n",
    "cio['month'] = cio['date'].dt.month"
   ]
  },
  {
   "cell_type": "code",
   "execution_count": 62,
   "metadata": {},
   "outputs": [
    {
     "data": {
      "text/plain": [
       "Text(0,0.5,'Number of incidents per month')"
      ]
     },
     "execution_count": 62,
     "metadata": {},
     "output_type": "execute_result"
    },
    {
     "data": {
      "image/png": "[encoded data removed]",
      "text/plain": [
       "<matplotlib.figure.Figure at 0x7f2380851b38>"
      ]
     },
     "metadata": {},
     "output_type": "display_data"
    }
   ],
   "source": [
    "# Plot full source data \n",
    "\n",
    "fig, ax = plt.subplots(sharex=False, figsize=(8,3))\n",
    "\n",
    "crimes.sort_values(by=['offense_report_date'], ascending=True)\\\n",
    "      .drop_duplicates('ccn', keep='last')\\\n",
    "      .groupby(pd.Grouper(key='offense_report_date', freq='M'))\\\n",
    "      .size()\\\n",
    "      .plot(ax=ax, label='Felony crime incidents')\n",
    "\n",
    "arrest_charges.sort_values(by=['mpd_arrest_date'], ascending=True)\\\n",
    "              .drop_duplicates('mpd_arrest_number', keep='last')\\\n",
    "              .groupby(pd.Grouper(key='mpd_arrest_date', freq='M'))\\\n",
    "              .size()\\\n",
    "              .plot(ax=ax, label='Felony arrests')\n",
    "\n",
    "case_charges.sort_values(by='file_date', ascending=True)\\\n",
    "            .drop_duplicates('case_no', keep='last')\\\n",
    "            .groupby(pd.Grouper(key='file_date', freq='M'))\\\n",
    "            .size()\\\n",
    "            .plot(ax=ax, label='Superior Court cases')\n",
    "\n",
    "cio.groupby(pd.Grouper(key='date', freq='M'))\\\n",
    "   .size()\\\n",
    "   .plot(ax=ax, label='CIO incidents')\n",
    "\n",
    "plt.legend(bbox_to_anchor=(1.03, 1.03))\n",
    "plt.xlabel('Date')\n",
    "plt.ylabel('Number of incidents per month', rotation='horizontal', labelpad=100)"
   ]
  },
  {
   "cell_type": "code",
   "execution_count": 63,
   "metadata": {
    "collapsed": true
   },
   "outputs": [],
   "source": [
    "seh_services = seh_raw[['consumer_id', 'episode_number', 'admit_date', 'discharge_date', 'category', 'source']].copy()\n",
    "seh_services.sort_values(by=['consumer_id', 'episode_number', 'admit_date', 'discharge_date', 'category', 'source'], ascending=True, inplace=True)\n",
    "seh_services.drop_duplicates(inplace=True)"
   ]
  },
  {
   "cell_type": "code",
   "execution_count": 64,
   "metadata": {},
   "outputs": [
    {
     "data": {
      "image/png": "[encoded data removed]",
      "text/plain": [
       "<matplotlib.figure.Figure at 0x7f237c0a8f60>"
      ]
     },
     "metadata": {},
     "output_type": "display_data"
    }
   ],
   "source": [
    "# Plot court outcomes over time\n",
    "\n",
    "disposition_name_to_label = {\n",
    "    'dismissed': 'Dismissed',\n",
    "    'guilty': 'Guilty',\n",
    "    'open': 'Open',\n",
    "    'diverted': 'Diverted',\n",
    "    'deferred': 'Deferred',\n",
    "    'not_guilty': 'Not guilty',\n",
    "    'other': 'Other'\n",
    "}\n",
    "\n",
    "hold = case_charges.disposition_category.value_counts().iloc[:8]\n",
    "for idx, val in zip(hold.index, hold.values):\n",
    "    tmp = case_charges[case_charges.disposition_category == idx]\n",
    "    x = tmp.groupby('file_date').size().resample('M').sum()\n",
    "    x.plot(label=disposition_name_to_label[idx])\n",
    "\n",
    "ylim = plt.ylim()\n",
    "ticks = plt.xticks()[0]\n",
    "mid_tick = (ticks[1] - ticks[0]) / 2.0\n",
    "plt.vlines(ticks[1:], 0, 1600, alpha=0.2, linestyles='dashed')\n",
    "plt.vlines(ticks + mid_tick, 0, 1600, alpha=0.1, linestyles='dotted')\n",
    "plt.ylim([0, 1100])\n",
    "plt.xlabel('Filing date')\n",
    "plt.ylabel('Number of charges', rotation='horizontal', labelpad=80)\n",
    "plt.legend(bbox_to_anchor=(1.03, 1.03));\n",
    "plt.title('Disposition of Superior Court cases by filing date');"
   ]
  },
  {
   "cell_type": "markdown",
   "metadata": {},
   "source": [
    "#### Note on time range:\n",
    "The source data we obtained covered a range of time horizons. Ultimately we decided to use and present our analysis of only data from calendar year 2016. We did this because it was the only full calendar year for which we had complete data from all partner entities. "
   ]
  },
  {
   "cell_type": "markdown",
   "metadata": {},
   "source": [
    "## Misdemeanors v. felonies"
   ]
  },
  {
   "cell_type": "code",
   "execution_count": 65,
   "metadata": {},
   "outputs": [
    {
     "name": "stdout",
     "output_type": "stream",
     "text": [
      "True     68820\n",
      "False    46042\n",
      "Name: case_no, dtype: int64\n"
     ]
    }
   ],
   "source": [
    "# How many felony and misdemeanor court cases? \n",
    "\n",
    "'''\n",
    "Notes:\n",
    "\n",
    "1) Classed based on whether the case title contains 'CMD', which indicates the case is a misdemeanor case\n",
    "2) Misdemeanor vs felony distinction is made based on the initial charges filed\n",
    "3) A felony case may contain misdemeanor charges\n",
    "'''\n",
    "\n",
    "print(case_charges['case_no'].str.contains('CMD').value_counts())"
   ]
  },
  {
   "cell_type": "code",
   "execution_count": 66,
   "metadata": {
    "collapsed": true
   },
   "outputs": [],
   "source": [
    "# Make felony/misdemeanor dummies\n",
    "case_charges['is_misdemeanor'] = (case_charges['case_no'].str.contains('CMD'))\n",
    "case_charges['is_felony'] = ~case_charges.is_misdemeanor"
   ]
  },
  {
   "cell_type": "code",
   "execution_count": 67,
   "metadata": {},
   "outputs": [
    {
     "name": "stdout",
     "output_type": "stream",
     "text": [
      "False    68820\n",
      "True     46042\n",
      "Name: is_felony, dtype: int64\n"
     ]
    }
   ],
   "source": [
    "# Check consistency\n",
    "print(case_charges.is_felony.value_counts())"
   ]
  },
  {
   "cell_type": "markdown",
   "metadata": {},
   "source": [
    "## Dummies"
   ]
  },
  {
   "cell_type": "code",
   "execution_count": 68,
   "metadata": {
    "collapsed": true
   },
   "outputs": [],
   "source": [
    "# Dummy for whether the court charge description contains the string 'assault on a pol' (i.e. is related to APO)\n",
    "case_charges['is_apo'] = case_charges.charge_description.str.lower().str.startswith('assault on a pol')\n",
    "\n",
    "# Dummy for whether the court charge description contains the string 'marij' (i.e. is related to marijuana)\n",
    "case_charges['is_marijuana'] = case_charges.charge_description.str.lower().str.contains('marij')\n",
    "\n",
    "# Dummy for whether the arrest charge description contains the string 'marij' (i.e. is related to marijuana)\n",
    "arrest_charges['is_marijuana'] = arrest_charges.mpd_charge_description.str.lower().str.contains('marij')"
   ]
  },
  {
   "cell_type": "code",
   "execution_count": 69,
   "metadata": {},
   "outputs": [
    {
     "data": {
      "text/html": [
       "<div>\n",
       "<table border=\"1\" class=\"dataframe\">\n",
       "  <thead>\n",
       "    <tr style=\"text-align: right;\">\n",
       "      <th></th>\n",
       "      <th>charge_description</th>\n",
       "      <th>is_apo</th>\n",
       "    </tr>\n",
       "  </thead>\n",
       "  <tbody>\n",
       "    <tr>\n",
       "      <th>21591</th>\n",
       "      <td>Assault On A Police Officer</td>\n",
       "      <td>True</td>\n",
       "    </tr>\n",
       "    <tr>\n",
       "      <th>21732</th>\n",
       "      <td>Assault On A Police Officer</td>\n",
       "      <td>True</td>\n",
       "    </tr>\n",
       "    <tr>\n",
       "      <th>21734</th>\n",
       "      <td>Assault On A Police Officer</td>\n",
       "      <td>True</td>\n",
       "    </tr>\n",
       "    <tr>\n",
       "      <th>21776</th>\n",
       "      <td>Assault On A Police Officer</td>\n",
       "      <td>True</td>\n",
       "    </tr>\n",
       "    <tr>\n",
       "      <th>21777</th>\n",
       "      <td>Assault On A Police Officer</td>\n",
       "      <td>True</td>\n",
       "    </tr>\n",
       "    <tr>\n",
       "      <th>21778</th>\n",
       "      <td>Assault On A Police Officer</td>\n",
       "      <td>True</td>\n",
       "    </tr>\n",
       "    <tr>\n",
       "      <th>21779</th>\n",
       "      <td>Assault On A Police Officer</td>\n",
       "      <td>True</td>\n",
       "    </tr>\n",
       "    <tr>\n",
       "      <th>21785</th>\n",
       "      <td>Assault On A Police Officer</td>\n",
       "      <td>True</td>\n",
       "    </tr>\n",
       "    <tr>\n",
       "      <th>21817</th>\n",
       "      <td>Assault On A Police Officer</td>\n",
       "      <td>True</td>\n",
       "    </tr>\n",
       "  </tbody>\n",
       "</table>\n",
       "</div>"
      ],
      "text/plain": [
       "                charge_description is_apo\n",
       "21591  Assault On A Police Officer   True\n",
       "21732  Assault On A Police Officer   True\n",
       "21734  Assault On A Police Officer   True\n",
       "21776  Assault On A Police Officer   True\n",
       "21777  Assault On A Police Officer   True\n",
       "21778  Assault On A Police Officer   True\n",
       "21779  Assault On A Police Officer   True\n",
       "21785  Assault On A Police Officer   True\n",
       "21817  Assault On A Police Officer   True"
      ]
     },
     "execution_count": 69,
     "metadata": {},
     "output_type": "execute_result"
    }
   ],
   "source": [
    "# List a few examples to show what kinds of charges these captured\n",
    "\n",
    "case_charges.loc[case_charges['is_apo'] == True][['charge_description', 'is_apo']][300:309] # (arbitrary index position)"
   ]
  },
  {
   "cell_type": "code",
   "execution_count": 70,
   "metadata": {},
   "outputs": [
    {
     "data": {
      "text/html": [
       "<div>\n",
       "<table border=\"1\" class=\"dataframe\">\n",
       "  <thead>\n",
       "    <tr style=\"text-align: right;\">\n",
       "      <th></th>\n",
       "      <th>charge_description</th>\n",
       "      <th>is_marijuana</th>\n",
       "    </tr>\n",
       "  </thead>\n",
       "  <tbody>\n",
       "    <tr>\n",
       "      <th>60882</th>\n",
       "      <td>Poss W/I to Dist Marijuana-Misd</td>\n",
       "      <td>True</td>\n",
       "    </tr>\n",
       "    <tr>\n",
       "      <th>60923</th>\n",
       "      <td>Distribution of Marijuana-Misd</td>\n",
       "      <td>True</td>\n",
       "    </tr>\n",
       "    <tr>\n",
       "      <th>60924</th>\n",
       "      <td>Poss W/I to Dist Marijuana-Misd</td>\n",
       "      <td>True</td>\n",
       "    </tr>\n",
       "    <tr>\n",
       "      <th>60926</th>\n",
       "      <td>Distribution of Marijuana-Misd</td>\n",
       "      <td>True</td>\n",
       "    </tr>\n",
       "    <tr>\n",
       "      <th>60969</th>\n",
       "      <td>Distribution of Marijuana-Misd</td>\n",
       "      <td>True</td>\n",
       "    </tr>\n",
       "    <tr>\n",
       "      <th>61042</th>\n",
       "      <td>Poss W/I to Dist Marijuana-Misd</td>\n",
       "      <td>True</td>\n",
       "    </tr>\n",
       "    <tr>\n",
       "      <th>61215</th>\n",
       "      <td>Distribution of Marijuana-Misd</td>\n",
       "      <td>True</td>\n",
       "    </tr>\n",
       "    <tr>\n",
       "      <th>61224</th>\n",
       "      <td>Poss W/I to Dist Marijuana-Misd</td>\n",
       "      <td>True</td>\n",
       "    </tr>\n",
       "    <tr>\n",
       "      <th>61510</th>\n",
       "      <td>Poss W/I to Dist Marijuana-Misd</td>\n",
       "      <td>True</td>\n",
       "    </tr>\n",
       "  </tbody>\n",
       "</table>\n",
       "</div>"
      ],
      "text/plain": [
       "                    charge_description is_marijuana\n",
       "60882  Poss W/I to Dist Marijuana-Misd         True\n",
       "60923   Distribution of Marijuana-Misd         True\n",
       "60924  Poss W/I to Dist Marijuana-Misd         True\n",
       "60926   Distribution of Marijuana-Misd         True\n",
       "60969   Distribution of Marijuana-Misd         True\n",
       "61042  Poss W/I to Dist Marijuana-Misd         True\n",
       "61215   Distribution of Marijuana-Misd         True\n",
       "61224  Poss W/I to Dist Marijuana-Misd         True\n",
       "61510  Poss W/I to Dist Marijuana-Misd         True"
      ]
     },
     "execution_count": 70,
     "metadata": {},
     "output_type": "execute_result"
    }
   ],
   "source": [
    "case_charges.loc[case_charges['is_marijuana'] == True][['charge_description', 'is_marijuana']][300:309] # (arbitrary index position)"
   ]
  },
  {
   "cell_type": "code",
   "execution_count": 71,
   "metadata": {},
   "outputs": [
    {
     "data": {
      "image/png": "[encoded data removed]",
      "text/plain": [
       "<matplotlib.figure.Figure at 0x7f237cc4c898>"
      ]
     },
     "metadata": {},
     "output_type": "display_data"
    }
   ],
   "source": [
    "# Plot of APO charges in court over time\n",
    "case_charges.groupby(pd.Grouper(freq='M', key='file_date')).is_apo.sum().plot(label='APO')\n",
    "plt.xlabel(\"Month charges filed in\");"
   ]
  },
  {
   "cell_type": "code",
   "execution_count": 72,
   "metadata": {},
   "outputs": [
    {
     "data": {
      "image/png": "[encoded data removed]",
      "text/plain": [
       "<matplotlib.figure.Figure at 0x7f237c432d30>"
      ]
     },
     "metadata": {},
     "output_type": "display_data"
    }
   ],
   "source": [
    "# Plot of marijuana charges in court over time\n",
    "case_charges.groupby(pd.Grouper(freq='M', key='file_date')).is_marijuana.sum().plot()\n",
    "plt.xlabel('Date');"
   ]
  },
  {
   "cell_type": "code",
   "execution_count": 73,
   "metadata": {},
   "outputs": [
    {
     "data": {
      "image/png": "[encoded data removed]",
      "text/plain": [
       "<matplotlib.figure.Figure at 0x7f237c3cf278>"
      ]
     },
     "metadata": {},
     "output_type": "display_data"
    }
   ],
   "source": [
    "# Plot of felony marijuana arrests over time\n",
    "arrest_charges.groupby(pd.Grouper(freq='M', key='mpd_arrest_date')).is_marijuana.sum().plot()\n",
    "plt.xlabel('Date');"
   ]
  },
  {
   "cell_type": "markdown",
   "metadata": {},
   "source": [
    "## Final exclusions"
   ]
  },
  {
   "cell_type": "markdown",
   "metadata": {},
   "source": [
    "#### DBH data"
   ]
  },
  {
   "cell_type": "code",
   "execution_count": 74,
   "metadata": {
    "collapsed": true
   },
   "outputs": [],
   "source": [
    "# Restrict time horizon\n",
    "\n",
    "'''\n",
    "Keep only records where a person was arrested in 2016 (on felony charges) and that person had an intake date\n",
    "in 2015 or 2016.\n",
    "'''\n",
    "\n",
    "arrest_year = 2016\n",
    "earliest_service_year = 2015\n",
    "pd.to_datetime(earliest_service_year)\n",
    "\n",
    "mh = mh_raw[(mh_raw['year'] == arrest_year) & (mh_raw['mh_service_date'].dt.year >= earliest_service_year)]\n",
    "mh.name = 'MH records (2016)'\n",
    "seh = seh_raw[(seh_raw['year'] == arrest_year) & (seh_raw['admit_date'].dt.year >= earliest_service_year)]\n",
    "seh.name = 'SEH records (2016)'\n",
    "sud = sud_raw[(sud_raw['year'] == arrest_year) & (sud_raw['admit_date'].dt.year >= earliest_service_year)]\n",
    "sud.name = 'SUD records (2016)'"
   ]
  },
  {
   "cell_type": "code",
   "execution_count": 75,
   "metadata": {},
   "outputs": [
    {
     "name": "stdout",
     "output_type": "stream",
     "text": [
      "MH data earliest service date: 2015-01-02\n",
      "MH data last service date: 2017-10-24\n",
      "SEH data earliest intake date: 2015-01-13\n",
      "SEH data latest intake date: 2017-11-09\n",
      "SUD data earliest intake date: 2015-01-02\n",
      "SUD data latest intake date: 2017-11-20\n",
      "\n",
      "MH records (2016)\n",
      "Length: 77262\n",
      "Unique people: 1382\n",
      "Unique arrests: 1654\n",
      "\n",
      "SEH records (2016)\n",
      "Length: 304\n",
      "Unique people: 165\n",
      "Unique arrests: 220\n",
      "\n",
      "SUD records (2016)\n",
      "Length: 1449\n",
      "Unique people: 560\n",
      "Unique arrests: 677\n",
      "\n"
     ]
    }
   ],
   "source": [
    "# Date range for DBH records\n",
    "\n",
    "print('MH data earliest service date:', mh.mh_service_date.dt.date.min())\n",
    "print('MH data last service date:', mh.mh_service_date.dt.date.max())\n",
    "print('SEH data earliest intake date:', seh.admit_date.dt.date.min())\n",
    "print('SEH data latest intake date:', seh.admit_date.dt.date.max())\n",
    "print('SUD data earliest intake date:', sud.admit_date.dt.date.min())\n",
    "print('SUD data latest intake date:', sud.admit_date.dt.date.max())\n",
    "print()\n",
    "\n",
    "# Number and type of records\n",
    "for df in mh, seh, sud:\n",
    "    print(df.name)\n",
    "    print('Length:', len(df))\n",
    "    print('Unique people:', df.consumer_id.nunique())\n",
    "    print('Unique arrests:', df.arrest_id.nunique())\n",
    "    print()"
   ]
  },
  {
   "cell_type": "markdown",
   "metadata": {},
   "source": [
    "#### Superior Court cases"
   ]
  },
  {
   "cell_type": "code",
   "execution_count": 76,
   "metadata": {},
   "outputs": [
    {
     "name": "stdout",
     "output_type": "stream",
     "text": [
      "Case charges:\n",
      "Length: 114862\n",
      "Count null PDID (before): 623\n",
      "Length: 114239\n",
      "Count null PDID (after): 0\n"
     ]
    }
   ],
   "source": [
    "# Drop court case rows that are missing PDIDs\n",
    "\n",
    "print('Case charges:')\n",
    "print('Length:', len(case_charges))\n",
    "print('Count null PDID (before):', case_charges.pdid.isnull().sum())\n",
    "\n",
    "case_charges.dropna(subset=['pdid'], inplace=True)\n",
    "\n",
    "print('Length:', len(case_charges))\n",
    "print('Count null PDID (after):', case_charges.pdid.isnull().sum())"
   ]
  },
  {
   "cell_type": "markdown",
   "metadata": {},
   "source": [
    "#### Felony arrests"
   ]
  },
  {
   "cell_type": "code",
   "execution_count": 77,
   "metadata": {},
   "outputs": [
    {
     "name": "stdout",
     "output_type": "stream",
     "text": [
      "Arrest charges:\n",
      "Length: 18671\n",
      "Count null PDID (before): 105\n",
      "Length: 18566\n",
      "Count null PDID (after): 0\n"
     ]
    }
   ],
   "source": [
    "# Drop missing PDIDs from arrests\n",
    "\n",
    "print('Arrest charges:')\n",
    "print('Length:', len(arrest_charges))\n",
    "print('Count null PDID (before):', arrest_charges.pdid.isnull().sum())\n",
    "arrest_charges.dropna(subset=['pdid'], inplace=True)\n",
    "print('Length:', len(arrest_charges))\n",
    "print('Count null PDID (after):', arrest_charges.pdid.isnull().sum())"
   ]
  },
  {
   "cell_type": "code",
   "execution_count": 78,
   "metadata": {
    "collapsed": true
   },
   "outputs": [],
   "source": [
    "# One individual had 25 arrests recorded on one day 2016. Not sure how to interpret that so deleting those records\n",
    "\n",
    "odd_pdid = ###### # Actual PDID redacted\n",
    "\n",
    "'''\n",
    "Drop the one person who had 25 arrests on one day. Note that there are other valid arrests associated with this PDID, so I drop\n",
    "the 25 invalid arrests that happened on one day in 2016 but allow the other arrests to remain.\n",
    "'''\n",
    "\n",
    "arrest_charges.drop(arrest_charges[\\\n",
    "                                   (arrest_charges['pdid'] == odd_pdid) & \\\n",
    "                                   (arrest_charges['mpd_arrest_date'].dt.year == 2016)\\\n",
    "                                  ].index, inplace=True)"
   ]
  },
  {
   "cell_type": "code",
   "execution_count": 79,
   "metadata": {},
   "outputs": [
    {
     "data": {
      "text/plain": [
       "18543"
      ]
     },
     "execution_count": 79,
     "metadata": {},
     "output_type": "execute_result"
    }
   ],
   "source": [
    "len(arrest_charges)"
   ]
  },
  {
   "cell_type": "code",
   "execution_count": 80,
   "metadata": {
    "collapsed": true
   },
   "outputs": [],
   "source": [
    "# Name dataframes (the names were over-written during merges)\n",
    "\n",
    "arrest_charges.name = 'MPD felony arrest charge records'\n",
    "case_charges.name = 'Superior Court case records'\n",
    "crimes.name = 'MPD felony crime incident records'"
   ]
  },
  {
   "cell_type": "code",
   "execution_count": 81,
   "metadata": {},
   "outputs": [
    {
     "name": "stdout",
     "output_type": "stream",
     "text": [
      "MPD felony arrest charge records\n",
      "2016    9274\n",
      "2017    7272\n",
      "2015    1997\n",
      "Name: year, dtype: int64\n",
      "\n",
      "Superior Court case records\n",
      "2016    24170\n",
      "2012    23937\n",
      "2013    23371\n",
      "2014    21540\n",
      "2015    21221\n",
      "Name: year, dtype: int64\n",
      "\n",
      "MPD felony crime incident records\n",
      "2016    49881\n",
      "2017    32835\n",
      "2015    13664\n",
      "Name: year, dtype: int64\n",
      "\n"
     ]
    }
   ],
   "source": [
    "for df in [arrest_charges, case_charges, crimes]:\n",
    "    print(df.name)\n",
    "    print(df.year.value_counts())\n",
    "    print()"
   ]
  },
  {
   "cell_type": "code",
   "execution_count": 82,
   "metadata": {},
   "outputs": [
    {
     "name": "stdout",
     "output_type": "stream",
     "text": [
      "Arrest charges length:  9274\n",
      "Case charges length:  24170\n",
      "Crimes length:  49881\n",
      "CIO length:  701\n"
     ]
    }
   ],
   "source": [
    "# Keep only records from 2016\n",
    "\n",
    "arrest_charges = arrest_charges[arrest_charges['year'] == 2016].copy()\n",
    "print('Arrest charges length: ', len(arrest_charges))\n",
    "case_charges = case_charges[case_charges['year'] == 2016].copy()\n",
    "print('Case charges length: ', len(case_charges))\n",
    "crimes = crimes[crimes['year'] == 2016].copy()\n",
    "print('Crimes length: ', len(crimes))\n",
    "cio = cio[cio['year'] == 2016].copy()\n",
    "print('CIO length: ', len(cio))"
   ]
  },
  {
   "cell_type": "code",
   "execution_count": 83,
   "metadata": {},
   "outputs": [
    {
     "data": {
      "text/plain": [
       "21043"
      ]
     },
     "execution_count": 83,
     "metadata": {},
     "output_type": "execute_result"
    }
   ],
   "source": [
    "# Number of crime incidents in 2016 crime incident data\n",
    "crimes.ccn.nunique()"
   ]
  },
  {
   "cell_type": "code",
   "execution_count": 84,
   "metadata": {},
   "outputs": [
    {
     "data": {
      "text/plain": [
       "7339"
      ]
     },
     "execution_count": 84,
     "metadata": {},
     "output_type": "execute_result"
    }
   ],
   "source": [
    "# Number of arrests in 2016 felony arrest data\n",
    "arrest_charges.mpd_arrest_number.nunique()"
   ]
  },
  {
   "cell_type": "markdown",
   "metadata": {},
   "source": [
    "### Anonymize dataframes"
   ]
  },
  {
   "cell_type": "code",
   "execution_count": 85,
   "metadata": {
    "collapsed": true
   },
   "outputs": [],
   "source": [
    "\"\"\"\n",
    "Tools for anonymizing pandas DataFrames.\n",
    "@author Kevin H. Wilson <kevin.wilson@dc.gov>\n",
    "\"\"\"\n",
    "\n",
    "def anonymize_str_columns(df, cols, current_map=None, inplace=False):\n",
    "    \"\"\"\n",
    "    Given a collection of columns `cols` in a DataFrame `df`,\n",
    "    assume they all are strings. Replace all the values, including\n",
    "    those common across columns, with a unique, random string.\n",
    "    If `current_map` is not None, then it will be used first to determine\n",
    "    the values of the columns.\n",
    "\n",
    "    For example, if `df` looks like::\n",
    "        A | B | C\n",
    "       -----------\n",
    "        a | b | x\n",
    "        a | a | y\n",
    "        b | c | z\n",
    "\n",
    "    and `cols == ['A', 'B']`, then the output might look like::\n",
    "\n",
    "        A | B | C\n",
    "        -----------\n",
    "        1 | 2 | x\n",
    "        1 | 1 | y\n",
    "        2 | 3 | z\n",
    "\n",
    "    Args:\n",
    "        df (pd.DataFrame): The DataFrame whose columns to anonymize\n",
    "        cols (list[str]): The list of column names to anonymize\n",
    "        current_map (dict[str, str]|None): The map of keys to values to append to\n",
    "        inplace (bool): Should the anonymization be done in place?\n",
    "    Returns:\n",
    "        pd.DataFrame: The anonymized DataFrame\n",
    "        dict[str, str]: The map of anonymized values\n",
    "    \"\"\"\n",
    "    if type(cols) not in (list, tuple):\n",
    "        cols = [cols]\n",
    "\n",
    "    if not current_map:\n",
    "        current_map = {}\n",
    "\n",
    "    old_keys = set(current_map.keys())\n",
    "    old_vals = set(current_map.values())\n",
    "\n",
    "    new_keys = set()\n",
    "    for col in cols:\n",
    "        new_keys.update(df[col])\n",
    "        new_keys -= old_keys\n",
    "\n",
    "    # Keep the probability of collisions relatively low, but\n",
    "    # keep the size at least a standard 16 bytes\n",
    "    nbytes = max(4 + int(math.log(len(new_keys) + len(old_keys)) / math.log(8)), 16)\n",
    "    for new_key in new_keys:\n",
    "        new_val = secrets.token_bytes(nbytes=nbytes)\n",
    "        while new_val in old_vals:\n",
    "            new_val = secrets.token_bytes(nbytes=nbytes)\n",
    "        current_map[new_key] = str(int(binascii.hexlify(new_val), 16)) # Converts byte string into hex, reading that as an integer\n",
    "\n",
    "    if not inplace:\n",
    "        df = df.copy()\n",
    "\n",
    "    for col in cols:\n",
    "        df.loc[:, col] = df[col].map(current_map)\n",
    "\n",
    "    return df, current_map"
   ]
  },
  {
   "cell_type": "code",
   "execution_count": 86,
   "metadata": {
    "collapsed": true
   },
   "outputs": [],
   "source": [
    "map_of_vals = {}\n",
    "\n",
    "arrest_charges_anon, map_of_vals = anonymize_str_columns(arrest_charges, ['mpd_arrest_number', 'pdid', 'ccn'], map_of_vals)\n",
    "crimes_anon, map_of_vals = anonymize_str_columns(crimes, ['ccn'], map_of_vals)"
   ]
  },
  {
   "cell_type": "code",
   "execution_count": 87,
   "metadata": {
    "collapsed": true
   },
   "outputs": [],
   "source": [
    "# Delete explicitly identifiable columns\n",
    "\n",
    "ID_COLUMNS = [\n",
    "    \n",
    "    'home_address', \n",
    "    'home_zip', \n",
    "    'dob', \n",
    "    'first_name', \n",
    "    'last_name'\n",
    "    \n",
    "]\n",
    "\n",
    "arrest_charges_anon = arrest_charges_anon.drop(ID_COLUMNS, axis=1)\n",
    "\n",
    "# Delete columns that were incorrectly pulled in the source data\n",
    "\n",
    "arrest_charges_anon = arrest_charges_anon.drop(['mpd_charge_disposition', 'mpd_disposition_date'], axis=1)"
   ]
  },
  {
   "cell_type": "code",
   "execution_count": 88,
   "metadata": {
    "collapsed": true
   },
   "outputs": [],
   "source": [
    "# Recode age < 18 to '-1' for privacy\n",
    "crimes_anon['age'] = pd.to_numeric(crimes_anon['age'], errors='coerce')\n",
    "crimes_anon.loc[crimes_anon['age'] < 18, 'age'] = -1"
   ]
  },
  {
   "cell_type": "code",
   "execution_count": 90,
   "metadata": {},
   "outputs": [
    {
     "data": {
      "text/plain": [
       "['mpd_arrest_number',\n",
       " 'mpd_arrest_date',\n",
       " 'person_type',\n",
       " 'top_charge',\n",
       " 'mpd_charge_category',\n",
       " 'mpd_charge_description',\n",
       " 'charge_code',\n",
       " 'age',\n",
       " 'arrest_count',\n",
       " 'race',\n",
       " 'ethnicity',\n",
       " 'sex',\n",
       " 'home_psa',\n",
       " 'arrest_district',\n",
       " 'arrest_psa',\n",
       " 'home_city',\n",
       " 'home_state',\n",
       " 'pdid',\n",
       " 'ccn',\n",
       " 'latitude',\n",
       " 'longitude',\n",
       " 'dmpsj_category',\n",
       " 'year',\n",
       " 'month',\n",
       " 'is_marijuana']"
      ]
     },
     "execution_count": 90,
     "metadata": {},
     "output_type": "execute_result"
    }
   ],
   "source": [
    "list(arrest_charges_anon)"
   ]
  },
  {
   "cell_type": "code",
   "execution_count": 91,
   "metadata": {},
   "outputs": [
    {
     "data": {
      "text/plain": [
       "['ccn',\n",
       " 'person_type',\n",
       " 'offense_report_date',\n",
       " 'profile_type',\n",
       " 'offense_category',\n",
       " 'offense_description',\n",
       " 'charge_code',\n",
       " 'age',\n",
       " 'race',\n",
       " 'ethnicity',\n",
       " 'sex',\n",
       " 'home_psa',\n",
       " 'offense_location_district',\n",
       " 'offense_location_psa',\n",
       " 'latitude',\n",
       " 'longitude',\n",
       " 'dmpsj_category',\n",
       " 'year']"
      ]
     },
     "execution_count": 91,
     "metadata": {},
     "output_type": "execute_result"
    }
   ],
   "source": [
    "list(crimes_anon)"
   ]
  },
  {
   "cell_type": "code",
   "execution_count": 92,
   "metadata": {},
   "outputs": [
    {
     "data": {
      "text/plain": [
       "['case_id',\n",
       " 'case_type',\n",
       " 'case_no',\n",
       " 'file_date',\n",
       " 'pdid',\n",
       " 'last_name',\n",
       " 'first_name',\n",
       " 'dob',\n",
       " 'sex',\n",
       " 'race',\n",
       " 'charge_number',\n",
       " 'offense_date',\n",
       " 'court_arrest_code',\n",
       " 'arrest_charge_description',\n",
       " 'prosecution_attempt_sequence',\n",
       " 'prosecution_attempt_code',\n",
       " 'prosecution_charge_code',\n",
       " 'prosecution_enhance_sequence',\n",
       " 'prosecution_enhance_code',\n",
       " 'prosecution_attempt_description',\n",
       " 'prosecution_charge_description',\n",
       " 'prosecution_enhance_description',\n",
       " 'indict_attempt_sequence',\n",
       " 'indict_attempt_code',\n",
       " 'indict_charge_code',\n",
       " 'indict_enhance_sequence',\n",
       " 'indict_enhance_code',\n",
       " 'indict_attempt_description',\n",
       " 'indict_charge_description',\n",
       " 'indict_enhance_description',\n",
       " 'court_attempt_sequence',\n",
       " 'court_attempt_code',\n",
       " 'court_charge_code',\n",
       " 'court_enhance_sequence',\n",
       " 'court_enhance_code',\n",
       " 'court_attempt_description',\n",
       " 'court_charge_description',\n",
       " 'court_enhance_description',\n",
       " 'charge_disposition_date',\n",
       " 'charge_disposition_code',\n",
       " 'charge_disposition',\n",
       " 'charge_code',\n",
       " 'charge_description',\n",
       " 'dmpsj_category',\n",
       " 'disposition_category',\n",
       " 'disposition_code',\n",
       " 'is_guilty',\n",
       " 'is_diverted',\n",
       " 'is_not_guilty',\n",
       " 'is_open',\n",
       " 'nuanced_disposition',\n",
       " 'year',\n",
       " 'month',\n",
       " 'is_misdemeanor',\n",
       " 'is_felony',\n",
       " 'is_apo',\n",
       " 'is_marijuana']"
      ]
     },
     "execution_count": 92,
     "metadata": {},
     "output_type": "execute_result"
    }
   ],
   "source": [
    "list(case_charges)"
   ]
  },
  {
   "cell_type": "markdown",
   "metadata": {},
   "source": [
    "## Write clean CSVs"
   ]
  },
  {
   "cell_type": "code",
   "execution_count": 93,
   "metadata": {
    "collapsed": true
   },
   "outputs": [],
   "source": [
    "# Write these cleaned files\n",
    "\n",
    "# Public data\n",
    "arrest_charges_anon.to_csv(os.path.join(PUBLIC_OUTPUT_DATA, 'arrest_charges_anon.csv'), index=False)\n",
    "crimes_anon.to_csv(os.path.join(PUBLIC_OUTPUT_DATA, 'crimes_anon.csv'), index=False)\n",
    "\n",
    "# Not public data\n",
    "case_charges.to_csv(os.path.join(NOT_PUBLIC_OUTPUT_DATA, 'case_charges.csv'), index=False)\n",
    "cio.to_csv(os.path.join(NOT_PUBLIC_OUTPUT_DATA, 'cio_incidents.csv'), index=False)\n",
    "mh.to_csv(os.path.join(NOT_PUBLIC_OUTPUT_DATA, 'mental_health_services.csv'), index=False)\n",
    "seh.to_csv(os.path.join(NOT_PUBLIC_OUTPUT_DATA, 'saint_elizabeths_records.csv'), index=False)\n",
    "sud.to_csv(os.path.join(NOT_PUBLIC_OUTPUT_DATA, 'substance_use_disorder_services.csv'), index=False)"
   ]
  }
 ],
 "metadata": {
  "kernelspec": {
   "display_name": "Python 3",
   "language": "python",
   "name": "python3"
  },
  "language_info": {
   "codemirror_mode": {
    "name": "ipython",
    "version": 3
   },
   "file_extension": ".py",
   "mimetype": "text/x-python",
   "name": "python",
   "nbconvert_exporter": "python",
   "pygments_lexer": "ipython3",
   "version": "3.6.3"
  }
 },
 "nbformat": 4,
 "nbformat_minor": 2
}
